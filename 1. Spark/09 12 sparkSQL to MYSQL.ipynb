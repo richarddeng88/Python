{
 "cells": [
  {
   "cell_type": "code",
   "execution_count": 2,
   "metadata": {
    "collapsed": true
   },
   "outputs": [],
   "source": [
    "from pyspark.sql.functions import *\n",
    "from pyspark.sql import SQLContext"
   ]
  },
  {
   "cell_type": "code",
   "execution_count": 3,
   "metadata": {
    "collapsed": true
   },
   "outputs": [],
   "source": [
    "sqlsc = SQLContext(sc)"
   ]
  },
  {
   "cell_type": "code",
   "execution_count": 5,
   "metadata": {
    "collapsed": false
   },
   "outputs": [],
   "source": [
    "df= sqlsc.read.format(\"jdbc\").options(\n",
    "    url=\"jdbc:mysql://localhost:3306/employees\",\n",
    "    driver = \"com.mysql.jdbc.Driver\",\n",
    "    dbtable = \"employees\",\n",
    "    user=\"root\",\n",
    "    password=\"cloudera\").load()"
   ]
  },
  {
   "cell_type": "code",
   "execution_count": 10,
   "metadata": {
    "collapsed": false
   },
   "outputs": [
    {
     "data": {
      "text/plain": [
       "pyspark.sql.dataframe.DataFrame"
      ]
     },
     "execution_count": 10,
     "metadata": {},
     "output_type": "execute_result"
    }
   ],
   "source": [
    "type(df)"
   ]
  },
  {
   "cell_type": "code",
   "execution_count": 11,
   "metadata": {
    "collapsed": false
   },
   "outputs": [
    {
     "data": {
      "text/plain": [
       "DataFrame[emp_no: int, birth_date: date, first_name: string, last_name: string, gender: string, hire_date: date]"
      ]
     },
     "execution_count": 11,
     "metadata": {},
     "output_type": "execute_result"
    }
   ],
   "source": [
    "df"
   ]
  },
  {
   "cell_type": "code",
   "execution_count": 6,
   "metadata": {
    "collapsed": false
   },
   "outputs": [
    {
     "data": {
      "text/plain": [
       "300024"
      ]
     },
     "execution_count": 6,
     "metadata": {},
     "output_type": "execute_result"
    }
   ],
   "source": [
    "df.count()"
   ]
  },
  {
   "cell_type": "code",
   "execution_count": 7,
   "metadata": {
    "collapsed": false,
    "scrolled": true
   },
   "outputs": [
    {
     "name": "stdout",
     "output_type": "stream",
     "text": [
      "root\n",
      " |-- emp_no: integer (nullable = false)\n",
      " |-- birth_date: date (nullable = false)\n",
      " |-- first_name: string (nullable = false)\n",
      " |-- last_name: string (nullable = false)\n",
      " |-- gender: string (nullable = false)\n",
      " |-- hire_date: date (nullable = false)\n",
      "\n"
     ]
    }
   ],
   "source": [
    "df.printSchema()"
   ]
  },
  {
   "cell_type": "code",
   "execution_count": 8,
   "metadata": {
    "collapsed": false,
    "scrolled": true
   },
   "outputs": [
    {
     "name": "stdout",
     "output_type": "stream",
     "text": [
      "+------+----------+----------+---------+------+----------+\n",
      "|emp_no|birth_date|first_name|last_name|gender| hire_date|\n",
      "+------+----------+----------+---------+------+----------+\n",
      "| 10001|1953-09-02|    Georgi|  Facello|     M|1986-06-26|\n",
      "| 10002|1964-06-02|   Bezalel|   Simmel|     F|1985-11-21|\n",
      "| 10003|1959-12-03|     Parto|  Bamford|     M|1986-08-28|\n",
      "| 10004|1954-05-01| Chirstian|  Koblick|     M|1986-12-01|\n",
      "| 10005|1955-01-21|   Kyoichi| Maliniak|     M|1989-09-12|\n",
      "+------+----------+----------+---------+------+----------+\n",
      "only showing top 5 rows\n",
      "\n"
     ]
    }
   ],
   "source": [
    "df.show(5)"
   ]
  },
  {
   "cell_type": "code",
   "execution_count": 9,
   "metadata": {
    "collapsed": false,
    "scrolled": true
   },
   "outputs": [
    {
     "name": "stdout",
     "output_type": "stream",
     "text": [
      "+----------+---------+\n",
      "|first_name|last_name|\n",
      "+----------+---------+\n",
      "|    Georgi|  Facello|\n",
      "|   Bezalel|   Simmel|\n",
      "|     Parto|  Bamford|\n",
      "| Chirstian|  Koblick|\n",
      "|   Kyoichi| Maliniak|\n",
      "+----------+---------+\n",
      "only showing top 5 rows\n",
      "\n"
     ]
    }
   ],
   "source": [
    "df.select(\"first_name\",\"last_name\").show(5)"
   ]
  },
  {
   "cell_type": "code",
   "execution_count": 16,
   "metadata": {
    "collapsed": false,
    "scrolled": true
   },
   "outputs": [
    {
     "name": "stdout",
     "output_type": "stream",
     "text": [
      "+------+----------+----------+\n",
      "|emp_no| hire_date|first_name|\n",
      "+------+----------+----------+\n",
      "| 10002|1985-11-21|   Bezalel|\n",
      "| 10006|1989-06-02|    Anneke|\n",
      "| 10007|1989-02-10|   Tzvetan|\n",
      "| 10009|1985-02-18|    Sumant|\n",
      "| 10010|1989-08-24| Duangkaew|\n",
      "+------+----------+----------+\n",
      "only showing top 5 rows\n",
      "\n"
     ]
    }
   ],
   "source": [
    "df.filter(df[\"gender\"]==\"F\").select(\"emp_no\",\"hire_date\", \"first_name\").show(5)"
   ]
  },
  {
   "cell_type": "code",
   "execution_count": 18,
   "metadata": {
    "collapsed": false
   },
   "outputs": [
    {
     "name": "stdout",
     "output_type": "stream",
     "text": [
      "+------+------+\n",
      "|gender| count|\n",
      "+------+------+\n",
      "|     F|120051|\n",
      "|     M|179973|\n",
      "+------+------+\n",
      "\n"
     ]
    }
   ],
   "source": [
    "df.groupBy(\"gender\").count().show(5)"
   ]
  },
  {
   "cell_type": "code",
   "execution_count": 19,
   "metadata": {
    "collapsed": true
   },
   "outputs": [],
   "source": [
    "titles= sqlsc.read.format(\"jdbc\").options(\n",
    "    url=\"jdbc:mysql://localhost:3306/employees\",\n",
    "    driver = \"com.mysql.jdbc.Driver\",\n",
    "    dbtable = \"titles\",\n",
    "    user=\"root\",\n",
    "    password=\"cloudera\").load()"
   ]
  },
  {
   "cell_type": "code",
   "execution_count": 20,
   "metadata": {
    "collapsed": false,
    "scrolled": true
   },
   "outputs": [
    {
     "name": "stdout",
     "output_type": "stream",
     "text": [
      "+------+---------------+----------+----------+\n",
      "|emp_no|          title| from_date|   to_date|\n",
      "+------+---------------+----------+----------+\n",
      "| 10001|Senior Engineer|1986-06-26|9999-01-01|\n",
      "| 10002|          Staff|1996-08-03|9999-01-01|\n",
      "| 10003|Senior Engineer|1995-12-03|9999-01-01|\n",
      "| 10004|       Engineer|1986-12-01|1995-12-01|\n",
      "| 10004|Senior Engineer|1995-12-01|9999-01-01|\n",
      "+------+---------------+----------+----------+\n",
      "only showing top 5 rows\n",
      "\n"
     ]
    }
   ],
   "source": [
    "titles.show(5)"
   ]
  },
  {
   "cell_type": "code",
   "execution_count": 21,
   "metadata": {
    "collapsed": false
   },
   "outputs": [
    {
     "data": {
      "text/plain": [
       "443308"
      ]
     },
     "execution_count": 21,
     "metadata": {},
     "output_type": "execute_result"
    }
   ],
   "source": [
    "titles.count()"
   ]
  },
  {
   "cell_type": "code",
   "execution_count": 23,
   "metadata": {
    "collapsed": false
   },
   "outputs": [],
   "source": [
    "merge = df.join(titles,\"emp_no\")"
   ]
  },
  {
   "cell_type": "code",
   "execution_count": 26,
   "metadata": {
    "collapsed": false
   },
   "outputs": [
    {
     "data": {
      "text/plain": [
       "443308"
      ]
     },
     "execution_count": 26,
     "metadata": {},
     "output_type": "execute_result"
    }
   ],
   "source": [
    "merge.count()"
   ]
  },
  {
   "cell_type": "code",
   "execution_count": 25,
   "metadata": {
    "collapsed": false,
    "scrolled": false
   },
   "outputs": [
    {
     "name": "stdout",
     "output_type": "stream",
     "text": [
      "root\n",
      " |-- emp_no: integer (nullable = false)\n",
      " |-- birth_date: date (nullable = false)\n",
      " |-- first_name: string (nullable = false)\n",
      " |-- last_name: string (nullable = false)\n",
      " |-- gender: string (nullable = false)\n",
      " |-- hire_date: date (nullable = false)\n",
      " |-- title: string (nullable = false)\n",
      " |-- from_date: date (nullable = false)\n",
      " |-- to_date: date (nullable = true)\n",
      "\n"
     ]
    }
   ],
   "source": [
    "merge.printSchema()"
   ]
  },
  {
   "cell_type": "code",
   "execution_count": 24,
   "metadata": {
    "collapsed": false
   },
   "outputs": [
    {
     "name": "stdout",
     "output_type": "stream",
     "text": [
      "+------+----------+-----------+-----------+------+----------+----------------+----------+----------+\n",
      "|emp_no|birth_date| first_name|  last_name|gender| hire_date|           title| from_date|   to_date|\n",
      "+------+----------+-----------+-----------+------+----------+----------------+----------+----------+\n",
      "| 10031|1959-01-27|    Karsten|     Joslin|     M|1991-09-01|        Engineer|1991-09-01|1998-09-01|\n",
      "| 10031|1959-01-27|    Karsten|     Joslin|     M|1991-09-01| Senior Engineer|1998-09-01|9999-01-01|\n",
      "| 10231|1963-07-21|    Shaowen|    Desikan|     F|1996-04-13|           Staff|1998-09-09|9999-01-01|\n",
      "| 10431|1961-05-25|   Patricio|    Bugrara|     M|1987-10-08|    Senior Staff|1995-10-08|9999-01-01|\n",
      "| 10431|1961-05-25|   Patricio|    Bugrara|     M|1987-10-08|           Staff|1987-10-08|1995-10-08|\n",
      "| 10631|1955-05-17|  Inderjeet|  Chaudhuri|     M|1988-02-16|        Engineer|1994-10-18|9999-01-01|\n",
      "| 10831|1953-10-11|      Toong|   Driscoll|     M|1996-06-21|Technique Leader|1998-02-22|9999-01-01|\n",
      "| 11031|1954-12-20|    Ottavia|    Walstra|     M|1985-04-26|    Senior Staff|1993-10-24|9999-01-01|\n",
      "| 11031|1954-12-20|    Ottavia|    Walstra|     M|1985-04-26|           Staff|1985-10-24|1993-10-24|\n",
      "| 11231|1959-01-28|      Marit|   Narwekar|     F|1988-04-07|    Senior Staff|1994-04-07|9999-01-01|\n",
      "| 11231|1959-01-28|      Marit|   Narwekar|     F|1988-04-07|           Staff|1988-04-07|1994-04-07|\n",
      "| 11431|1954-08-05|   Youngkon|      Picht|     M|1985-09-16|    Senior Staff|1991-09-16|2001-03-03|\n",
      "| 11431|1954-08-05|   Youngkon|      Picht|     M|1985-09-16|           Staff|1985-09-16|1991-09-16|\n",
      "| 11631|1960-11-18|    Kristin| Malinowski|     M|1992-04-14|    Senior Staff|1999-04-15|9999-01-01|\n",
      "| 11631|1960-11-18|    Kristin| Malinowski|     M|1992-04-14|           Staff|1992-04-14|1999-04-15|\n",
      "| 11831|1963-10-23|Udaiprakash|Billingsley|     M|1993-07-18|        Engineer|1993-07-18|1999-07-18|\n",
      "| 11831|1963-10-23|Udaiprakash|Billingsley|     M|1993-07-18| Senior Engineer|1999-07-18|9999-01-01|\n",
      "| 12031|1962-01-11|  Achilleas|    Vendrig|     M|1987-02-10| Senior Engineer|1987-02-10|9999-01-01|\n",
      "| 12231|1954-08-27|     Nishit|  Bharadwaj|     M|1990-05-19| Senior Engineer|1990-05-19|9999-01-01|\n",
      "| 12431|1964-04-23|       Mana|      Jiang|     M|1987-10-09|        Engineer|1987-10-09|1992-03-01|\n",
      "+------+----------+-----------+-----------+------+----------+----------------+----------+----------+\n",
      "only showing top 20 rows\n",
      "\n"
     ]
    }
   ],
   "source": [
    "merge.show()"
   ]
  }
 ],
 "metadata": {
  "kernelspec": {
   "display_name": "Python 3",
   "language": "python",
   "name": "python3"
  },
  "language_info": {
   "codemirror_mode": {
    "name": "ipython",
    "version": 3
   },
   "file_extension": ".py",
   "mimetype": "text/x-python",
   "name": "python",
   "nbconvert_exporter": "python",
   "pygments_lexer": "ipython3",
   "version": "3.5.1"
  }
 },
 "nbformat": 4,
 "nbformat_minor": 0
}
