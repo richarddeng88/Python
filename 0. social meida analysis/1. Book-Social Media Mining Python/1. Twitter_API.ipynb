{
 "cells": [
  {
   "cell_type": "code",
   "execution_count": 19,
   "metadata": {
    "collapsed": true
   },
   "outputs": [],
   "source": [
    "import sys\n",
    "from tweepy import API\n",
    "from tweepy import OAuthHandler"
   ]
  },
  {
   "cell_type": "markdown",
   "metadata": {},
   "source": [
    "## Define the authrication and return API objet, which give access for cursor"
   ]
  },
  {
   "cell_type": "code",
   "execution_count": 20,
   "metadata": {
    "collapsed": true
   },
   "outputs": [],
   "source": [
    "def get_twitter_auth():\n",
    "    \"\"\"Setup Twitter authentication.\n",
    "    Return: tweepy.OAuthHandler object\n",
    "    \"\"\"\n",
    "    try:\n",
    "        consumer_key = \"ejRTMayX2nhKZB2yNDCjDJWHz\"\n",
    "        consumer_secret = \"3PGjS2HGvtEPY1DZh9feUDcMv0O02VyYk7Q5MLIS5MzibxwtuD\"\n",
    "        access_token = \"3045806279-RTecSDiDhevDXJ2YnbZ7BJKvUSylb6VvoDQqzDC\"\n",
    "        access_secret = \"t7heZUb0KLTuVIJirbPcWDfrLxarCmSFOTDMRsMBpAu8Z\"\n",
    "    except KeyError:\n",
    "        sys.stderr.write(\"TWITTER_* environment variables not set\\n\")\n",
    "        sys.exit(1)\n",
    "\n",
    "    auth = OAuthHandler(consumer_key, consumer_secret)  # an OAuthHandler object <class 'tweepy.auth.OAuthHandler'>\n",
    "    auth.set_access_token(access_token, access_secret)\n",
    "    return auth\n",
    "\n",
    "def get_twitter_client():\n",
    "    \"\"\"Setup Twitter API client.\n",
    "    Return: tweepy.API object\n",
    "    \"\"\"\n",
    "    auth = get_twitter_auth()\n",
    "    client = API(auth)  # an API object <class 'tweepy.api.API'>\n",
    "    return client"
   ]
  },
  {
   "cell_type": "markdown",
   "metadata": {},
   "source": [
    "## Getting tweets from the timeline"
   ]
  },
  {
   "cell_type": "code",
   "execution_count": 31,
   "metadata": {
    "collapsed": false,
    "scrolled": true
   },
   "outputs": [
    {
     "name": "stdout",
     "output_type": "stream",
     "text": [
      "==========\n",
      "{u'contributors': None, u'truncated': False, u'text': u'RT @MarioLopezExtra: Gia with the hard hitting questions...\\n@jtimberlake  @AnnaKendrick47\\n\\n#ExtraTV https://t.co/EZo6ijCPML', u'is_quote_status': False, u'in_reply_to_status_id': None, u'id': 790979729734049792L, u'favorite_count': 0, u'source': u'<a href=\"http://twitter.com/download/iphone\" rel=\"nofollow\">Twitter for iPhone</a>', u'retweeted': False, u'coordinates': None, u'entities': {u'symbols': [], u'user_mentions': [{u'id': 20641995, u'indices': [3, 19], u'id_str': u'20641995', u'screen_name': u'MarioLopezExtra', u'name': u'Mario Lopez'}, {u'id': 26565946, u'indices': [60, 72], u'id_str': u'26565946', u'screen_name': u'jtimberlake', u'name': u'Justin Timberlake'}, {u'id': 59949396, u'indices': [74, 89], u'id_str': u'59949396', u'screen_name': u'AnnaKendrick47', u'name': u'Anna Kendrick'}], u'hashtags': [{u'indices': [91, 99], u'text': u'ExtraTV'}], u'urls': [], u'media': [{u'source_user_id': 20641995, u'source_status_id_str': u'790642721329324032', u'expanded_url': u'https://twitter.com/MarioLopezExtra/status/790642721329324032/video/1', u'display_url': u'pic.twitter.com/EZo6ijCPML', u'url': u'https://t.co/EZo6ijCPML', u'media_url_https': u'https://pbs.twimg.com/ext_tw_video_thumb/790642666677555200/pu/img/hiSzjTr1F8oGZlLN.jpg', u'source_user_id_str': u'20641995', u'source_status_id': 790642721329324032L, u'id_str': u'790642666677555200', u'sizes': {u'large': {u'h': 480, u'resize': u'fit', u'w': 480}, u'small': {u'h': 340, u'resize': u'fit', u'w': 340}, u'medium': {u'h': 480, u'resize': u'fit', u'w': 480}, u'thumb': {u'h': 150, u'resize': u'crop', u'w': 150}}, u'indices': [100, 123], u'type': u'photo', u'id': 790642666677555200L, u'media_url': u'http://pbs.twimg.com/ext_tw_video_thumb/790642666677555200/pu/img/hiSzjTr1F8oGZlLN.jpg'}]}, u'in_reply_to_screen_name': None, u'in_reply_to_user_id': None, u'retweet_count': 277, u'id_str': u'790979729734049792', u'favorited': False, u'retweeted_status': {u'contributors': None, u'truncated': False, u'text': u'Gia with the hard hitting questions...\\n@jtimberlake  @AnnaKendrick47\\n\\n#ExtraTV https://t.co/EZo6ijCPML', u'is_quote_status': False, u'in_reply_to_status_id': None, u'id': 790642721329324032L, u'favorite_count': 1123, u'source': u'<a href=\"http://twitter.com/download/iphone\" rel=\"nofollow\">Twitter for iPhone</a>', u'retweeted': False, u'coordinates': None, u'entities': {u'symbols': [], u'user_mentions': [{u'id': 26565946, u'indices': [39, 51], u'id_str': u'26565946', u'screen_name': u'jtimberlake', u'name': u'Justin Timberlake'}, {u'id': 59949396, u'indices': [53, 68], u'id_str': u'59949396', u'screen_name': u'AnnaKendrick47', u'name': u'Anna Kendrick'}], u'hashtags': [{u'indices': [70, 78], u'text': u'ExtraTV'}], u'urls': [], u'media': [{u'expanded_url': u'https://twitter.com/MarioLopezExtra/status/790642721329324032/video/1', u'display_url': u'pic.twitter.com/EZo6ijCPML', u'url': u'https://t.co/EZo6ijCPML', u'media_url_https': u'https://pbs.twimg.com/ext_tw_video_thumb/790642666677555200/pu/img/hiSzjTr1F8oGZlLN.jpg', u'id_str': u'790642666677555200', u'sizes': {u'large': {u'h': 480, u'resize': u'fit', u'w': 480}, u'small': {u'h': 340, u'resize': u'fit', u'w': 340}, u'medium': {u'h': 480, u'resize': u'fit', u'w': 480}, u'thumb': {u'h': 150, u'resize': u'crop', u'w': 150}}, u'indices': [79, 102], u'type': u'photo', u'id': 790642666677555200L, u'media_url': u'http://pbs.twimg.com/ext_tw_video_thumb/790642666677555200/pu/img/hiSzjTr1F8oGZlLN.jpg'}]}, u'in_reply_to_screen_name': None, u'in_reply_to_user_id': None, u'retweet_count': 277, u'id_str': u'790642721329324032', u'favorited': False, u'user': {u'follow_request_sent': False, u'has_extended_profile': False, u'profile_use_background_image': True, u'default_profile_image': False, u'id': 20641995, u'profile_background_image_url_https': u'https://abs.twimg.com/images/themes/theme1/bg.png', u'verified': True, u'translator_type': u'none', u'profile_text_color': u'333333', u'profile_image_url_https': u'https://pbs.twimg.com/profile_images/721402650508394497/jTEbHeZa_normal.jpg', u'profile_sidebar_fill_color': u'DDEEF6', u'entities': {u'url': {u'urls': [{u'url': u'https://t.co/5KsWt8wH7v', u'indices': [0, 23], u'expanded_url': u'http://extratv.warnerbros.com', u'display_url': u'extratv.warnerbros.com'}]}, u'description': {u'urls': []}}, u'followers_count': 1147394, u'profile_sidebar_border_color': u'C0DEED', u'id_str': u'20641995', u'profile_background_color': u'C0DEED', u'listed_count': 4941, u'is_translation_enabled': False, u'utc_offset': -25200, u'statuses_count': 21237, u'description': u'Mexican kid from Chula Vista....', u'friends_count': 380, u'location': u'Los Angeles, California', u'profile_link_color': u'0084B4', u'profile_image_url': u'http://pbs.twimg.com/profile_images/721402650508394497/jTEbHeZa_normal.jpg', u'following': False, u'geo_enabled': True, u'profile_banner_url': u'https://pbs.twimg.com/profile_banners/20641995/1460830867', u'profile_background_image_url': u'http://abs.twimg.com/images/themes/theme1/bg.png', u'screen_name': u'MarioLopezExtra', u'lang': u'en', u'profile_background_tile': False, u'favourites_count': 25752, u'name': u'Mario Lopez', u'notifications': False, u'url': u'https://t.co/5KsWt8wH7v', u'created_at': u'Thu Feb 12 00:08:49 +0000 2009', u'contributors_enabled': False, u'time_zone': u'Pacific Time (US & Canada)', u'protected': False, u'default_profile': True, u'is_translator': False}, u'geo': None, u'in_reply_to_user_id_str': None, u'possibly_sensitive': False, u'possibly_sensitive_appealable': False, u'lang': u'en', u'created_at': u'Mon Oct 24 19:54:48 +0000 2016', u'in_reply_to_status_id_str': None, u'place': None, u'extended_entities': {u'media': [{u'additional_media_info': {u'monetizable': False}, u'expanded_url': u'https://twitter.com/MarioLopezExtra/status/790642721329324032/video/1', u'display_url': u'pic.twitter.com/EZo6ijCPML', u'url': u'https://t.co/EZo6ijCPML', u'media_url_https': u'https://pbs.twimg.com/ext_tw_video_thumb/790642666677555200/pu/img/hiSzjTr1F8oGZlLN.jpg', u'video_info': {u'aspect_ratio': [1, 1], u'duration_millis': 38859, u'variants': [{u'url': u'https://video.twimg.com/ext_tw_video/790642666677555200/pu/vid/240x240/CKeqt9pY5ZgMac-Z.mp4', u'bitrate': 320000, u'content_type': u'video/mp4'}, {u'url': u'https://video.twimg.com/ext_tw_video/790642666677555200/pu/pl/9njMrDdkayeR4Ewm.mpd', u'content_type': u'application/dash+xml'}, {u'url': u'https://video.twimg.com/ext_tw_video/790642666677555200/pu/pl/9njMrDdkayeR4Ewm.m3u8', u'content_type': u'application/x-mpegURL'}, {u'url': u'https://video.twimg.com/ext_tw_video/790642666677555200/pu/vid/480x480/T-PhFGf30GSmC9Sz.mp4', u'bitrate': 832000, u'content_type': u'video/mp4'}]}, u'id_str': u'790642666677555200', u'sizes': {u'large': {u'h': 480, u'resize': u'fit', u'w': 480}, u'small': {u'h': 340, u'resize': u'fit', u'w': 340}, u'medium': {u'h': 480, u'resize': u'fit', u'w': 480}, u'thumb': {u'h': 150, u'resize': u'crop', u'w': 150}}, u'indices': [79, 102], u'type': u'video', u'id': 790642666677555200L, u'media_url': u'http://pbs.twimg.com/ext_tw_video_thumb/790642666677555200/pu/img/hiSzjTr1F8oGZlLN.jpg'}]}}, u'user': {u'follow_request_sent': False, u'has_extended_profile': False, u'profile_use_background_image': True, u'default_profile_image': False, u'id': 26565946, u'profile_background_image_url_https': u'https://abs.twimg.com/images/themes/theme14/bg.gif', u'verified': True, u'translator_type': u'regular', u'profile_text_color': u'333333', u'profile_image_url_https': u'https://pbs.twimg.com/profile_images/733026741862567936/Oern1Pc2_normal.jpg', u'profile_sidebar_fill_color': u'EFEFEF', u'entities': {u'url': {u'urls': [{u'url': u'https://t.co/SRqd8jEvNZ', u'indices': [0, 23], u'expanded_url': u'http://www.justintimberlake.com', u'display_url': u'justintimberlake.com'}]}, u'description': {u'urls': []}}, u'followers_count': 56915277, u'profile_sidebar_border_color': u'EEEEEE', u'id_str': u'26565946', u'profile_background_color': u'131516', u'listed_count': 76072, u'is_translation_enabled': True, u'utc_offset': -25200, u'statuses_count': 3495, u'description': u'', u'friends_count': 213, u'location': u'Memphis, TN', u'profile_link_color': u'009999', u'profile_image_url': u'http://pbs.twimg.com/profile_images/733026741862567936/Oern1Pc2_normal.jpg', u'following': True, u'geo_enabled': False, u'profile_banner_url': u'https://pbs.twimg.com/profile_banners/26565946/1476316653', u'profile_background_image_url': u'http://abs.twimg.com/images/themes/theme14/bg.gif', u'screen_name': u'jtimberlake', u'lang': u'en', u'profile_background_tile': True, u'favourites_count': 37, u'name': u'Justin Timberlake', u'notifications': False, u'url': u'https://t.co/SRqd8jEvNZ', u'created_at': u'Wed Mar 25 19:10:50 +0000 2009', u'contributors_enabled': False, u'time_zone': u'Pacific Time (US & Canada)', u'protected': False, u'default_profile': False, u'is_translator': False}, u'geo': None, u'in_reply_to_user_id_str': None, u'possibly_sensitive': False, u'possibly_sensitive_appealable': False, u'lang': u'en', u'created_at': u'Tue Oct 25 18:13:57 +0000 2016', u'in_reply_to_status_id_str': None, u'place': None, u'extended_entities': {u'media': [{u'additional_media_info': {u'source_user': {u'follow_request_sent': False, u'has_extended_profile': False, u'profile_use_background_image': True, u'default_profile_image': False, u'id': 20641995, u'profile_background_image_url_https': u'https://abs.twimg.com/images/themes/theme1/bg.png', u'verified': True, u'translator_type': u'none', u'profile_text_color': u'333333', u'profile_image_url_https': u'https://pbs.twimg.com/profile_images/721402650508394497/jTEbHeZa_normal.jpg', u'profile_sidebar_fill_color': u'DDEEF6', u'entities': {u'url': {u'urls': [{u'url': u'https://t.co/5KsWt8wH7v', u'indices': [0, 23], u'expanded_url': u'http://extratv.warnerbros.com', u'display_url': u'extratv.warnerbros.com'}]}, u'description': {u'urls': []}}, u'followers_count': 1147394, u'profile_sidebar_border_color': u'C0DEED', u'id_str': u'20641995', u'profile_background_color': u'C0DEED', u'listed_count': 4941, u'is_translation_enabled': False, u'utc_offset': -25200, u'statuses_count': 21237, u'description': u'Mexican kid from Chula Vista....', u'friends_count': 380, u'location': u'Los Angeles, California', u'profile_link_color': u'0084B4', u'profile_image_url': u'http://pbs.twimg.com/profile_images/721402650508394497/jTEbHeZa_normal.jpg', u'following': False, u'geo_enabled': True, u'profile_banner_url': u'https://pbs.twimg.com/profile_banners/20641995/1460830867', u'profile_background_image_url': u'http://abs.twimg.com/images/themes/theme1/bg.png', u'screen_name': u'MarioLopezExtra', u'lang': u'en', u'profile_background_tile': False, u'favourites_count': 25752, u'name': u'Mario Lopez', u'notifications': False, u'url': u'https://t.co/5KsWt8wH7v', u'created_at': u'Thu Feb 12 00:08:49 +0000 2009', u'contributors_enabled': False, u'time_zone': u'Pacific Time (US & Canada)', u'protected': False, u'default_profile': True, u'is_translator': False}, u'monetizable': False}, u'source_user_id': 20641995, u'source_status_id_str': u'790642721329324032', u'expanded_url': u'https://twitter.com/MarioLopezExtra/status/790642721329324032/video/1', u'display_url': u'pic.twitter.com/EZo6ijCPML', u'url': u'https://t.co/EZo6ijCPML', u'media_url_https': u'https://pbs.twimg.com/ext_tw_video_thumb/790642666677555200/pu/img/hiSzjTr1F8oGZlLN.jpg', u'source_user_id_str': u'20641995', u'source_status_id': 790642721329324032L, u'video_info': {u'aspect_ratio': [1, 1], u'duration_millis': 38859, u'variants': [{u'url': u'https://video.twimg.com/ext_tw_video/790642666677555200/pu/vid/240x240/CKeqt9pY5ZgMac-Z.mp4', u'bitrate': 320000, u'content_type': u'video/mp4'}, {u'url': u'https://video.twimg.com/ext_tw_video/790642666677555200/pu/pl/9njMrDdkayeR4Ewm.mpd', u'content_type': u'application/dash+xml'}, {u'url': u'https://video.twimg.com/ext_tw_video/790642666677555200/pu/pl/9njMrDdkayeR4Ewm.m3u8', u'content_type': u'application/x-mpegURL'}, {u'url': u'https://video.twimg.com/ext_tw_video/790642666677555200/pu/vid/480x480/T-PhFGf30GSmC9Sz.mp4', u'bitrate': 832000, u'content_type': u'video/mp4'}]}, u'id_str': u'790642666677555200', u'sizes': {u'large': {u'h': 480, u'resize': u'fit', u'w': 480}, u'small': {u'h': 340, u'resize': u'fit', u'w': 340}, u'medium': {u'h': 480, u'resize': u'fit', u'w': 480}, u'thumb': {u'h': 150, u'resize': u'crop', u'w': 150}}, u'indices': [100, 123], u'type': u'video', u'id': 790642666677555200L, u'media_url': u'http://pbs.twimg.com/ext_tw_video_thumb/790642666677555200/pu/img/hiSzjTr1F8oGZlLN.jpg'}]}}\n",
      "==========\n",
      "{u'contributors': None, u'truncated': False, u'text': u'Kid-friendly, adult-approved. #DreamworksTrolls. #Premiere. @AnnaKendrick47 https://t.co/mcHMxECcjS', u'is_quote_status': False, u'in_reply_to_status_id': None, u'id': 790370962470424576L, u'favorite_count': 7628, u'source': u'<a href=\"http://twitter.com/download/iphone\" rel=\"nofollow\">Twitter for iPhone</a>', u'retweeted': False, u'coordinates': None, u'entities': {u'symbols': [], u'user_mentions': [{u'id': 59949396, u'indices': [60, 75], u'id_str': u'59949396', u'screen_name': u'AnnaKendrick47', u'name': u'Anna Kendrick'}], u'hashtags': [{u'indices': [30, 47], u'text': u'DreamworksTrolls'}, {u'indices': [49, 58], u'text': u'Premiere'}], u'urls': [], u'media': [{u'expanded_url': u'https://twitter.com/jtimberlake/status/790370962470424576/photo/1', u'display_url': u'pic.twitter.com/mcHMxECcjS', u'url': u'https://t.co/mcHMxECcjS', u'media_url_https': u'https://pbs.twimg.com/media/Cvf2KoLVYAAqpQR.jpg', u'id_str': u'790370922070892544', u'sizes': {u'small': {u'h': 680, u'resize': u'fit', u'w': 680}, u'large': {u'h': 2048, u'resize': u'fit', u'w': 2048}, u'medium': {u'h': 1200, u'resize': u'fit', u'w': 1200}, u'thumb': {u'h': 150, u'resize': u'crop', u'w': 150}}, u'indices': [76, 99], u'type': u'photo', u'id': 790370922070892544L, u'media_url': u'http://pbs.twimg.com/media/Cvf2KoLVYAAqpQR.jpg'}]}, u'in_reply_to_screen_name': None, u'in_reply_to_user_id': None, u'retweet_count': 1131, u'id_str': u'790370962470424576', u'favorited': False, u'user': {u'follow_request_sent': False, u'has_extended_profile': False, u'profile_use_background_image': True, u'default_profile_image': False, u'id': 26565946, u'profile_background_image_url_https': u'https://abs.twimg.com/images/themes/theme14/bg.gif', u'verified': True, u'translator_type': u'regular', u'profile_text_color': u'333333', u'profile_image_url_https': u'https://pbs.twimg.com/profile_images/733026741862567936/Oern1Pc2_normal.jpg', u'profile_sidebar_fill_color': u'EFEFEF', u'entities': {u'url': {u'urls': [{u'url': u'https://t.co/SRqd8jEvNZ', u'indices': [0, 23], u'expanded_url': u'http://www.justintimberlake.com', u'display_url': u'justintimberlake.com'}]}, u'description': {u'urls': []}}, u'followers_count': 56915277, u'profile_sidebar_border_color': u'EEEEEE', u'id_str': u'26565946', u'profile_background_color': u'131516', u'listed_count': 76072, u'is_translation_enabled': True, u'utc_offset': -25200, u'statuses_count': 3495, u'description': u'', u'friends_count': 213, u'location': u'Memphis, TN', u'profile_link_color': u'009999', u'profile_image_url': u'http://pbs.twimg.com/profile_images/733026741862567936/Oern1Pc2_normal.jpg', u'following': True, u'geo_enabled': False, u'profile_banner_url': u'https://pbs.twimg.com/profile_banners/26565946/1476316653', u'profile_background_image_url': u'http://abs.twimg.com/images/themes/theme14/bg.gif', u'screen_name': u'jtimberlake', u'lang': u'en', u'profile_background_tile': True, u'favourites_count': 37, u'name': u'Justin Timberlake', u'notifications': False, u'url': u'https://t.co/SRqd8jEvNZ', u'created_at': u'Wed Mar 25 19:10:50 +0000 2009', u'contributors_enabled': False, u'time_zone': u'Pacific Time (US & Canada)', u'protected': False, u'default_profile': False, u'is_translator': False}, u'geo': None, u'in_reply_to_user_id_str': None, u'possibly_sensitive': False, u'possibly_sensitive_appealable': False, u'lang': u'en', u'created_at': u'Mon Oct 24 01:54:56 +0000 2016', u'in_reply_to_status_id_str': None, u'place': None, u'extended_entities': {u'media': [{u'expanded_url': u'https://twitter.com/jtimberlake/status/790370962470424576/photo/1', u'display_url': u'pic.twitter.com/mcHMxECcjS', u'url': u'https://t.co/mcHMxECcjS', u'media_url_https': u'https://pbs.twimg.com/media/Cvf2KoLVYAAqpQR.jpg', u'id_str': u'790370922070892544', u'sizes': {u'small': {u'h': 680, u'resize': u'fit', u'w': 680}, u'large': {u'h': 2048, u'resize': u'fit', u'w': 2048}, u'medium': {u'h': 1200, u'resize': u'fit', u'w': 1200}, u'thumb': {u'h': 150, u'resize': u'crop', u'w': 150}}, u'indices': [76, 99], u'type': u'photo', u'id': 790370922070892544L, u'media_url': u'http://pbs.twimg.com/media/Cvf2KoLVYAAqpQR.jpg'}, {u'expanded_url': u'https://twitter.com/jtimberlake/status/790370962470424576/photo/1', u'display_url': u'pic.twitter.com/mcHMxECcjS', u'url': u'https://t.co/mcHMxECcjS', u'media_url_https': u'https://pbs.twimg.com/media/Cvf2KoNVMAI8EoG.jpg', u'id_str': u'790370922079268866', u'sizes': {u'small': {u'h': 510, u'resize': u'fit', u'w': 680}, u'large': {u'h': 1536, u'resize': u'fit', u'w': 2048}, u'medium': {u'h': 900, u'resize': u'fit', u'w': 1200}, u'thumb': {u'h': 150, u'resize': u'crop', u'w': 150}}, u'indices': [76, 99], u'type': u'photo', u'id': 790370922079268866L, u'media_url': u'http://pbs.twimg.com/media/Cvf2KoNVMAI8EoG.jpg'}, {u'expanded_url': u'https://twitter.com/jtimberlake/status/790370962470424576/photo/1', u'display_url': u'pic.twitter.com/mcHMxECcjS', u'url': u'https://t.co/mcHMxECcjS', u'media_url_https': u'https://pbs.twimg.com/media/Cvf2KsuVIAAfylJ.jpg', u'id_str': u'790370923291418624', u'sizes': {u'small': {u'h': 560, u'resize': u'fit', u'w': 680}, u'large': {u'h': 1686, u'resize': u'fit', u'w': 2048}, u'medium': {u'h': 988, u'resize': u'fit', u'w': 1200}, u'thumb': {u'h': 150, u'resize': u'crop', u'w': 150}}, u'indices': [76, 99], u'type': u'photo', u'id': 790370923291418624L, u'media_url': u'http://pbs.twimg.com/media/Cvf2KsuVIAAfylJ.jpg'}]}}\n"
     ]
    }
   ],
   "source": [
    "###### Getting tweets from the timeline\n",
    "from tweepy import Cursor\n",
    "\n",
    "client = get_twitter_client() # an API object <class 'tweepy.api.API'>\n",
    "    \n",
    "for status in Cursor(client.home_timeline).items(2):\n",
    "    # Process a single status\n",
    "    print '=========='\n",
    "    # print(status.text)\n",
    "    # print(status.created_at)\n",
    "    # print(status.author.name)\n",
    "    print(status._json)"
   ]
  },
  {
   "cell_type": "markdown",
   "metadata": {},
   "source": [
    "##### The status variable \n",
    "is used in the iteration represents an instance of tweepy.Status, which is\n",
    "a model used by Tweepy to wrap statuses (that is, tweets)."
   ]
  },
  {
   "cell_type": "markdown",
   "metadata": {},
   "source": [
    "#####  home_timeline\n",
    "is what we need to access our own home timeline, and this will be the argument to\n",
    "pass to Cursor.\n",
    "##### tweepy.Cursor \n",
    "is an iterable object, meaning that it provides an easy-to-use interface to perform iteration and pagination over different objects.\n",
    "##### Iterables\n",
    "An iterable in Python is an object capable of returning its members, one at a time.\n"
   ]
  },
  {
   "cell_type": "code",
   "execution_count": 22,
   "metadata": {
    "collapsed": false,
    "scrolled": true
   },
   "outputs": [],
   "source": [
    "### we try to store the original JSON response\n",
    "import json\n",
    "from tweepy import Cursor"
   ]
  },
  {
   "cell_type": "code",
   "execution_count": 30,
   "metadata": {
    "collapsed": false
   },
   "outputs": [
    {
     "name": "stdout",
     "output_type": "stream",
     "text": [
      "<class 'tweepy.models.ResultSet'>\n",
      "<class 'tweepy.models.ResultSet'>\n"
     ]
    }
   ],
   "source": [
    "client = get_twitter_client()\n",
    "for page in Cursor(client.home_timeline, count=20).pages(2):\n",
    "    print type(page)"
   ]
  }
 ],
 "metadata": {
  "kernelspec": {
   "display_name": "Python 2",
   "language": "python",
   "name": "python2"
  },
  "language_info": {
   "codemirror_mode": {
    "name": "ipython",
    "version": 2
   },
   "file_extension": ".py",
   "mimetype": "text/x-python",
   "name": "python",
   "nbconvert_exporter": "python",
   "pygments_lexer": "ipython2",
   "version": "2.7.11"
  }
 },
 "nbformat": 4,
 "nbformat_minor": 0
}
