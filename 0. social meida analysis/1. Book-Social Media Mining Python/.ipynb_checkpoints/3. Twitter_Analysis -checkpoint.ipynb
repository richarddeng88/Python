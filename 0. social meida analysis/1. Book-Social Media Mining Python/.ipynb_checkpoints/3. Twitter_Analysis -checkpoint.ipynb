{
 "cells": [
  {
   "cell_type": "markdown",
   "metadata": {},
   "source": [
    "# hashtags frequency"
   ]
  },
  {
   "cell_type": "code",
   "execution_count": 2,
   "metadata": {
    "collapsed": true
   },
   "outputs": [],
   "source": [
    "import sys\n",
    "from collections import Counter\n",
    "import json"
   ]
  },
  {
   "cell_type": "markdown",
   "metadata": {},
   "source": [
    "##### Collections: This module implements specialized container datatypes providing alternatives to Python’s general purpose built-in containers, dict, list, set, and tuple.\n",
    "Counter(): dict subclass for counting hashable objects\n"
   ]
  },
  {
   "cell_type": "code",
   "execution_count": 3,
   "metadata": {
    "collapsed": false
   },
   "outputs": [],
   "source": [
    "def get_hashtags(tweet):\n",
    "    entities = tweet.get('entities', {})\n",
    "    hashtags = entities.get('hashtags', [])\n",
    "    return [tag['text'].lower() for tag in hashtags]"
   ]
  },
  {
   "cell_type": "markdown",
   "metadata": {},
   "source": [
    "#### Above the tweet is a dict, which is converted using json.loads from a json tweet file.\n",
    "dict in python is like the hashmap in java. there are key and values pairs.\n",
    "\n",
    "The method get() returns a value for the given key. If key is not available then returns default value None.\n",
    "dict.get(key, default=None)\n",
    "\n",
    "*key -- This is the Key to be searched in the dictionary.\n",
    "\n",
    "*default -- This is the Value to be returned in case key does not exist.\n",
    "\n"
   ]
  },
  {
   "cell_type": "code",
   "execution_count": 4,
   "metadata": {
    "collapsed": false
   },
   "outputs": [
    {
     "name": "stdout",
     "output_type": "stream",
     "text": [
      "=========================\n",
      "<type 'list'>\n",
      "<class 'collections.Counter'>\n",
      "Counter() \n",
      "\n",
      "<type 'list'>\n",
      "[]\n",
      "=========================\n",
      "<type 'list'>\n",
      "<class 'collections.Counter'>\n",
      "Counter() \n",
      "\n",
      "<type 'list'>\n",
      "[]\n",
      "=========================\n",
      "<type 'list'>\n",
      "<class 'collections.Counter'>\n",
      "Counter() \n",
      "\n",
      "<type 'list'>\n",
      "[]\n",
      "=========================\n",
      "<type 'list'>\n",
      "<class 'collections.Counter'>\n",
      "Counter({u'teneo': 1}) \n",
      "\n",
      "<type 'list'>\n",
      "[(u'teneo', 1)]\n"
     ]
    }
   ],
   "source": [
    "fname = 'Chap02-03\\stream_donald_trump.jsonl'\n",
    "i = -1\n",
    "with open(fname,'r') as f:\n",
    "    hashtags = Counter()\n",
    "    for line in f:\n",
    "        tweet = json.loads(line)\n",
    "        hash = get_hashtags(tweet)\n",
    "        i +=1\n",
    "        if i <4 :\n",
    "            print '========================='\n",
    "            print type(hash)\n",
    "            a = tweet\n",
    "            hashtags.update(hash)\n",
    "            print type(hashtags)\n",
    "            print hashtags, '\\n'\n",
    "            \n",
    "            print type(hashtags.most_common(2))\n",
    "            print hashtags.most_common(2)"
   ]
  },
  {
   "cell_type": "code",
   "execution_count": 5,
   "metadata": {
    "collapsed": false
   },
   "outputs": [
    {
     "name": "stdout",
     "output_type": "stream",
     "text": [
      "<type 'dict'>\n",
      "{u'user_mentions': [{u'id': 78523300, u'indices': [3, 18], u'id_str': u'78523300', u'screen_name': u'RealJamesWoods', u'name': u'James Woods'}], u'symbols': [], u'hashtags': [{u'indices': [104, 110], u'text': u'Teneo'}], u'urls': [{u'url': u'https://t.co/xDlWTQykXE', u'indices': [111, 134], u'expanded_url': u'http://www.foxnews.com/politics/2016/10/28/trump-gop-seize-on-new-clinton-cash-revelations-to-revive-pay-to-play-charge.html', u'display_url': u'foxnews.com/politics/2016/\\u2026'}]}\n",
      "[{u'indices': [104, 110], u'text': u'Teneo'}]\n",
      "[u'Teneo']\n"
     ]
    }
   ],
   "source": [
    "entity = a.get('entities',{})\n",
    "print type(a)\n",
    "print entity\n",
    "\n",
    "hash = entity.get('hashtags',[])\n",
    "print hash\n",
    "\n",
    "b = [tag['text'] for tag in hash]\n",
    "print b"
   ]
  },
  {
   "cell_type": "code",
   "execution_count": 6,
   "metadata": {
    "collapsed": false,
    "scrolled": false
   },
   "outputs": [
    {
     "name": "stdout",
     "output_type": "stream",
     "text": [
      "trump: 620\n",
      "maga: 255\n",
      "draintheswamp: 125\n",
      "hillary: 92\n",
      "election2016: 80\n",
      "trumptrain: 79\n",
      "maga3x: 65\n",
      "draftourdaughters: 57\n",
      "tcot: 57\n",
      "imwithher: 53\n"
     ]
    }
   ],
   "source": [
    "fname = 'Chap02-03\\stream_donald_trump.jsonl'\n",
    "with open(fname, 'r') as f:\n",
    "    hashtags = Counter()           # <class 'collections.Counter'>\n",
    "    for line in f:                 # each line is a json tweet\n",
    "        tweet = json.loads(line)   # here conovert a json tweet into a dictionary\n",
    "        hashtags_in_tweet = get_hashtags(tweet)  # return a list\n",
    "        hashtags.update(hashtags_in_tweet)\n",
    "    for tag, count in hashtags.most_common(10):\n",
    "        print(\"{}: {}\".format(tag, count))"
   ]
  },
  {
   "cell_type": "markdown",
   "metadata": {},
   "source": [
    "#### The above with statement will automatically close the file after the nested block of code. \n",
    "The advantage of using a with statement is that it is guaranteed to close the file no matter how the nested block exits. If an exception occurs before the end of the block, it will close the file before the exception is caught by an outer exception handler. \n",
    "\n",
    "If the nested block were to contain a return statement, or a continue or break statement, the with statement would automatically close the file in those cases, too."
   ]
  },
  {
   "cell_type": "markdown",
   "metadata": {
    "collapsed": true
   },
   "source": [
    "# Text Analysis"
   ]
  },
  {
   "cell_type": "markdown",
   "metadata": {},
   "source": [
    "###### tokenization is the process of breaking the text into individual units called tokens.\n",
    "becasue the content of a tweet includes emoticons, hashtags, user mentions, URLs, and is quite different from standard english. for this reason, we use TweetTokenizer(NLTK library). "
   ]
  },
  {
   "cell_type": "markdown",
   "metadata": {},
   "source": [
    "##### stopwords are words, that are not content-bearing when the words are taken in isolation.  The typical words include articles, propositions, adverbs and so on. "
   ]
  },
  {
   "cell_type": "markdown",
   "metadata": {},
   "source": [
    "##### Normalization is used when we need to aggregate different terms in the same unit. \n",
    "one special case of normalization is case normalization, where every term is lowercase so that strings with originally differenct casing will "
   ]
  },
  {
   "cell_type": "code",
   "execution_count": 8,
   "metadata": {
    "collapsed": false
   },
   "outputs": [
    {
     "name": "stdout",
     "output_type": "stream",
     "text": [
      "<type 'instance'> \n",
      "\n",
      "<type 'list'> [u'great', u'Idea'] \n",
      "\n",
      "<type 'str'> !\"#$%&'()*+,-./:;<=>?@[\\]^_`{|}~\n",
      "<type 'list'> [u'i', u'me', u'my', u'myself', u'we', u'our', u'ours', u'ourselves', u'you', u'your', u'yours', u'yourself', u'yourselves', u'he', u'him', u'his', u'himself', u'she', u'her', u'hers', u'herself', u'it', u'its', u'itself', u'they', u'them', u'their', u'theirs', u'themselves', u'what', u'which', u'who', u'whom', u'this', u'that', u'these', u'those', u'am', u'is', u'are', u'was', u'were', u'be', u'been', u'being', u'have', u'has', u'had', u'having', u'do', u'does', u'did', u'doing', u'a', u'an', u'the', u'and', u'but', u'if', u'or', u'because', u'as', u'until', u'while', u'of', u'at', u'by', u'for', u'with', u'about', u'against', u'between', u'into', u'through', u'during', u'before', u'after', u'above', u'below', u'to', u'from', u'up', u'down', u'in', u'out', u'on', u'off', u'over', u'under', u'again', u'further', u'then', u'once', u'here', u'there', u'when', u'where', u'why', u'how', u'all', u'any', u'both', u'each', u'few', u'more', u'most', u'other', u'some', u'such', u'no', u'nor', u'not', u'only', u'own', u'same', u'so', u'than', u'too', u'very', u's', u't', u'can', u'will', u'just', u'don', u'should', u'now', u'd', u'll', u'm', u'o', u're', u've', u'y', u'ain', u'aren', u'couldn', u'didn', u'doesn', u'hadn', u'hasn', u'haven', u'isn', u'ma', u'mightn', u'mustn', u'needn', u'shan', u'shouldn', u'wasn', u'weren', u'won', u'wouldn']\n"
     ]
    }
   ],
   "source": [
    "import sys\n",
    "import string\n",
    "import json\n",
    "from collections import Counter\n",
    "from nltk.tokenize import TweetTokenizer\n",
    "from nltk.corpus import stopwords\n",
    "\n",
    "b=TweetTokenizer()\n",
    "print type(b), '\\n'\n",
    "\n",
    "#a = tokenizer.tokenize(\"great idea\")\n",
    "#print type(a), a\n",
    "print type(b.tokenize('great idea')), b.tokenize('great Idea'), '\\n'\n",
    "\n",
    "print type(string.punctuation), string.punctuation\n",
    "print type(stopwords.words('english')), stopwords.words('english')"
   ]
  },
  {
   "cell_type": "code",
   "execution_count": 9,
   "metadata": {
    "collapsed": false,
    "scrolled": true
   },
   "outputs": [
    {
     "name": "stdout",
     "output_type": "stream",
     "text": [
      "<type 'dict'>\n",
      "[\"you're\", \"i'm\", \"we'll\", \"we're\", \"it's\"]\n",
      "['you are', 'i am', 'we will', 'we are', 'it is']\n",
      "i am\n",
      "['we', 'will']\n"
     ]
    }
   ],
   "source": [
    "## below is a dictionary data type. \n",
    "token_map = {\n",
    "    \"i'm\": \"i am\",\n",
    "    \"you're\": \"you are\",\n",
    "    \"it's\": \"it is\",\n",
    "    \"we're\": \"we are\",\n",
    "    \"we'll\": \"we will\",\n",
    "}\n",
    "print type(token_map)\n",
    "print token_map.keys()\n",
    "print token_map.values()\n",
    "print token_map.get(\"i'm\")\n",
    "print token_map[\"we'll\"].split()"
   ]
  },
  {
   "cell_type": "code",
   "execution_count": 10,
   "metadata": {
    "collapsed": false
   },
   "outputs": [
    {
     "name": "stdout",
     "output_type": "stream",
     "text": [
      "<type 'generator'> <generator object normalize_contractions at 0x000000000822B3A8>\n",
      "great\n",
      "idea\n",
      "#what\n",
      "we\n",
      "will\n"
     ]
    }
   ],
   "source": [
    "def normalize_contractions(tokens):  # << here tokens is a list\n",
    "    \"\"\"Example of normalization for English contractions.\n",
    "    \n",
    "    Return: generator\n",
    "    \"\"\"\n",
    "    token_map = {\n",
    "        \"i'm\": \"i am\",\n",
    "        \"you're\": \"you are\",\n",
    "        \"it's\": \"it is\",\n",
    "        \"we're\": \"we are\",\n",
    "        \"we'll\": \"we will\",\n",
    "    }\n",
    "    for tok in tokens:\n",
    "        if tok in token_map.keys():\n",
    "            for item in token_map[tok].split():\n",
    "                yield item\n",
    "        else:\n",
    "            yield tok\n",
    "            \n",
    "a = normalize_contractions(['great', 'idea','#what',\"we'll\"])\n",
    "print type(a), a\n",
    "for i in a:\n",
    "    print i"
   ]
  },
  {
   "cell_type": "markdown",
   "metadata": {},
   "source": [
    "To understand what yield does, you must understand what generators are. And before generators come iterables.\n",
    "\n",
    "**Iterables**\n",
    "\n",
    "When you create a list, you can read its items one by one. Reading its items one by one is called iteration. \n",
    "\n",
    "**Yield**\n",
    "\n",
    "Yield is a keyword that is used like return, except the function will return a generator.\n",
    "\n",
    "**Generators**\n",
    "\n",
    "Generators are iterators, but you can only iterate over them once. It's because they do not store all the values in memory, they generate the values on the fly:\n",
    "\n",
    "**Tips**\n",
    "\n",
    "The normalize_contractions() function uses the yield keyword instead of return. This keyword is used to produce a generator, which is an iterator that you can only iterate over once, as it doesn't store its items in the memory, but generates them on the\n",
    "fly. One of the advantages is to reduce memory consumption, so it's recommendable for iterations over big objects. The keyword also allows to generate multiple items within the same function call, while return would close the computation as soon as it's called (for example, the for loop in normalize_contractions() would run only over the first\n",
    "token)."
   ]
  },
  {
   "cell_type": "code",
   "execution_count": 11,
   "metadata": {
    "collapsed": false
   },
   "outputs": [],
   "source": [
    "def process(text, tokenizer=TweetTokenizer(), stopwords=[]):\n",
    "    \"\"\"Process the text of a tweet:\n",
    "    - Lowercase\n",
    "    - Tokenize\n",
    "    - Stopword removal\n",
    "    - Digits removal\n",
    "\n",
    "    Return: list of strings\n",
    "    \"\"\"\n",
    "    text = text.lower()\n",
    "    tokens = tokenizer.tokenize(text)  ## a list\n",
    "    # If we want to normalize contraction, uncomment this\n",
    "    tokens = normalize_contractions(tokens) ##\n",
    "    return [tok for tok in tokens if tok not in stopwords and not tok.isdigit()]\n",
    "                                    ## if the word in stopwords or is digit, then will be removed from the text. "
   ]
  },
  {
   "cell_type": "code",
   "execution_count": 12,
   "metadata": {
    "collapsed": false,
    "scrolled": true
   },
   "outputs": [
    {
     "name": "stdout",
     "output_type": "stream",
     "text": [
      "<type 'list'> ['!', '\"', '#', '$', '%', '&', \"'\", '(', ')', '*', '+', ',', '-', '.', '/', ':', ';', '<', '=', '>', '?', '@', '[', '\\\\', ']', '^', '_', '`', '{', '|', '}', '~'] \n",
      "\n",
      "<type 'list'> [u'i', u'me', u'my', u'myself', u'we', u'our', u'ours', u'ourselves', u'you', u'your', u'yours', u'yourself', u'yourselves', u'he', u'him', u'his', u'himself', u'she', u'her', u'hers', u'herself', u'it', u'its', u'itself', u'they', u'them', u'their', u'theirs', u'themselves', u'what', u'which', u'who', u'whom', u'this', u'that', u'these', u'those', u'am', u'is', u'are', u'was', u'were', u'be', u'been', u'being', u'have', u'has', u'had', u'having', u'do', u'does', u'did', u'doing', u'a', u'an', u'the', u'and', u'but', u'if', u'or', u'because', u'as', u'until', u'while', u'of', u'at', u'by', u'for', u'with', u'about', u'against', u'between', u'into', u'through', u'during', u'before', u'after', u'above', u'below', u'to', u'from', u'up', u'down', u'in', u'out', u'on', u'off', u'over', u'under', u'again', u'further', u'then', u'once', u'here', u'there', u'when', u'where', u'why', u'how', u'all', u'any', u'both', u'each', u'few', u'more', u'most', u'other', u'some', u'such', u'no', u'nor', u'not', u'only', u'own', u'same', u'so', u'than', u'too', u'very', u's', u't', u'can', u'will', u'just', u'don', u'should', u'now', u'd', u'll', u'm', u'o', u're', u've', u'y', u'ain', u'aren', u'couldn', u'didn', u'doesn', u'hadn', u'hasn', u'haven', u'isn', u'ma', u'mightn', u'mustn', u'needn', u'shan', u'shouldn', u'wasn', u'weren', u'won', u'wouldn', '!', '\"', '#', '$', '%', '&', \"'\", '(', ')', '*', '+', ',', '-', '.', '/', ':', ';', '<', '=', '>', '?', '@', '[', '\\\\', ']', '^', '_', '`', '{', '|', '}', '~', 'rt', 'via', '...']\n"
     ]
    }
   ],
   "source": [
    "tweet_tokenizer = TweetTokenizer()\n",
    "punct = list(string.punctuation)\n",
    "stopword_list = stopwords.words('english') + punct + ['rt', 'via','...']\n",
    "\n",
    "print type(punct), punct,'\\n'\n",
    "print type(stopword_list), stopword_list"
   ]
  },
  {
   "cell_type": "code",
   "execution_count": 13,
   "metadata": {
    "collapsed": false,
    "scrolled": false
   },
   "outputs": [
    {
     "name": "stdout",
     "output_type": "stream",
     "text": [
      "trump: 5946\n",
      "…: 2540\n",
      "donald: 1566\n",
      "’: 801\n",
      "clinton: 755\n",
      "hillary: 681\n",
      "#trump: 611\n",
      "vote: 607\n",
      "�: 534\n",
      "�: 452\n",
      "campaign: 390\n",
      "trump's: 387\n",
      "new: 316\n",
      "people: 312\n",
      "@realdonaldtrump: 301\n",
      "like: 278\n",
      "election: 277\n",
      "obama: 276\n",
      "#maga: 256\n",
      "voting: 240\n"
     ]
    }
   ],
   "source": [
    "fname = 'Chap02-03\\stream_donald_trump.jsonl'\n",
    "tf = Counter()\n",
    "with open(fname, 'r') as f:\n",
    "    for line in f:\n",
    "        tweet = json.loads(line)\n",
    "        tokens = process(text=tweet.get('text', ''),\n",
    "                         tokenizer=tweet_tokenizer,\n",
    "                         stopwords=stopword_list)\n",
    "        tf.update(tokens)\n",
    "    for tag, count in tf.most_common(20):\n",
    "        print \"{}: {}\".format(tag.encode(\"utf-8\"), count)\n",
    "        #print tag,':',count"
   ]
  },
  {
   "cell_type": "code",
   "execution_count": 14,
   "metadata": {
    "collapsed": false
   },
   "outputs": [],
   "source": [
    "import matplotlib.pyplot as plt\n",
    "%matplotlib inline"
   ]
  },
  {
   "cell_type": "code",
   "execution_count": 15,
   "metadata": {
    "collapsed": false,
    "scrolled": false
   },
   "outputs": [
    {
     "data": {
      "image/png": "[encoded data removed]",
      "text/plain": [
       "<matplotlib.figure.Figure at 0x95d5208>"
      ]
     },
     "metadata": {},
     "output_type": "display_data"
    }
   ],
   "source": [
    "y = [count for tag, count in tf.most_common(80)]\n",
    "x = range(1, len(y)+1)\n",
    "plt.bar(x, y)\n",
    "plt.title(\"Term Frequencies\")\n",
    "plt.ylabel(\"Frequency\")\n",
    "plt.savefig('Chap02-03/pict/term_distribution.png')"
   ]
  },
  {
   "cell_type": "markdown",
   "metadata": {},
   "source": [
    "The above figure represents an approximation of a power law. In statistics, a power law is a functional\n",
    "relationship between two quantities; in this case, the frequency of a term and its position\n",
    "within the ranking of terms by frequency.\n",
    "\n",
    "This type of distribution always shows a long tail meaning that a small portion of frequent items\n",
    "dominate the distribution, while there is a large number of items with smaller frequencies.\n",
    "\n",
    "Another name for this phenomenon is **the 80-20 rule** or Pareto principle"
   ]
  },
  {
   "cell_type": "markdown",
   "metadata": {},
   "source": [
    "# Time Series"
   ]
  },
  {
   "cell_type": "code",
   "execution_count": 16,
   "metadata": {
    "collapsed": true
   },
   "outputs": [],
   "source": [
    "import sys\n",
    "import json\n",
    "from datetime import datetime\n",
    "import matplotlib.pyplot as plt\n",
    "import matplotlib.dates as mdates\n",
    "\n",
    "import pandas as pd\n",
    "import numpy as np\n",
    "import pickle"
   ]
  },
  {
   "cell_type": "code",
   "execution_count": 17,
   "metadata": {
    "collapsed": true
   },
   "outputs": [],
   "source": [
    "fname = 'Chap02-03\\stream_donald_trump.jsonl'"
   ]
  },
  {
   "cell_type": "code",
   "execution_count": 23,
   "metadata": {
    "collapsed": false,
    "scrolled": false
   },
   "outputs": [
    {
     "name": "stdout",
     "output_type": "stream",
     "text": [
      "Fri Oct 28 16:41:06 +0000 2016\n",
      "2016-10-28 16:41:05    105.0\n",
      "2016-10-28 16:41:10    125.0\n",
      "dtype: float64\n",
      "2016-10-28 16:45:40    149.0\n",
      "2016-10-28 16:45:45     85.0\n",
      "dtype: float64\n",
      "2016-10-28 16:41:00 2016-10-28 16:46:00\n"
     ]
    },
    {
     "data": {
      "image/png": "[encoded data removed]",
      "text/plain": [
       "<matplotlib.figure.Figure at 0x9954828>"
      ]
     },
     "metadata": {},
     "output_type": "display_data"
    }
   ],
   "source": [
    "with open(fname, 'r') as f:\n",
    "        all_dates = []\n",
    "        for line in f:\n",
    "            tweet = json.loads(line)\n",
    "            all_dates.append(tweet.get('created_at'))\n",
    "        print all_dates[0]\n",
    "        ones = np.ones(len(all_dates))   #>>> <type 'numpy.ndarray'>\n",
    "        idx = pd.DatetimeIndex(all_dates)  #>>> <class 'pandas.tseries.index.DatetimeIndex'>\n",
    "        # the actual series (at series of 1s for the moment)\n",
    "        my_series = pd.Series(ones, index=idx)\n",
    "        \n",
    "        # Resampling / bucketing into 1-minute buckets\n",
    "        per_second = my_series.resample('5S').sum().fillna(0)    #'1Min'\n",
    "        #print(my_series.head(2))\n",
    "        print(per_second.head(2))\n",
    "        print(per_second.tail(2))\n",
    "\n",
    "        fig, ax = plt.subplots()\n",
    "        ax.grid(True)\n",
    "        ax.set_title(\"Tweet Frequencies\")\n",
    "\n",
    "        hours = mdates.MinuteLocator(interval=20)\n",
    "        date_formatter = mdates.DateFormatter('%H:%M')\n",
    "\n",
    "        datemin = datetime(2016, 10, 28, 16, 41)\n",
    "        datemax = datetime(2016, 10, 28, 16, 46)\n",
    "        print datemin, datemax\n",
    "\n",
    "        ax.xaxis.set_major_locator(hours)\n",
    "        ax.xaxis.set_major_formatter(date_formatter)\n",
    "        ax.set_xlim(datemin, datemax)\n",
    "        max_freq = per_second.max()\n",
    "        ax.set_ylim(0, max_freq)\n",
    "        ax.plot(per_second.index, per_second)\n",
    "        plt.savefig('Chap02-03/pict/tweet_time_series.png')"
   ]
  },
  {
   "cell_type": "code",
   "execution_count": null,
   "metadata": {
    "collapsed": true
   },
   "outputs": [],
   "source": []
  }
 ],
 "metadata": {
  "kernelspec": {
   "display_name": "Python 2",
   "language": "python",
   "name": "python2"
  },
  "language_info": {
   "codemirror_mode": {
    "name": "ipython",
    "version": 2
   },
   "file_extension": ".py",
   "mimetype": "text/x-python",
   "name": "python",
   "nbconvert_exporter": "python",
   "pygments_lexer": "ipython2",
   "version": "2.7.11"
  }
 },
 "nbformat": 4,
 "nbformat_minor": 0
}
