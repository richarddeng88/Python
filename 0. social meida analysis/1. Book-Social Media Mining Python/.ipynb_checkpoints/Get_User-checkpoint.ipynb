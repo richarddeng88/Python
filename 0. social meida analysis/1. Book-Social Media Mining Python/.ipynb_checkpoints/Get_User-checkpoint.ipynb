{
 "cells": [
  {
   "cell_type": "markdown",
   "metadata": {},
   "source": [
    "# Define the authentication"
   ]
  },
  {
   "cell_type": "code",
   "execution_count": 4,
   "metadata": {
    "collapsed": true
   },
   "outputs": [],
   "source": [
    "import sys\n",
    "from tweepy import API\n",
    "from tweepy import OAuthHandler\n",
    "\n",
    "def get_twitter_auth():\n",
    "    \"\"\"Setup Twitter authentication.\n",
    "    Return: tweepy.OAuthHandler object\n",
    "    \"\"\"\n",
    "    try:\n",
    "        consumer_key = \"ejRTMayX2nhKZB2yNDCjDJWHz\"\n",
    "        consumer_secret = \"3PGjS2HGvtEPY1DZh9feUDcMv0O02VyYk7Q5MLIS5MzibxwtuD\"\n",
    "        access_token = \"3045806279-RTecSDiDhevDXJ2YnbZ7BJKvUSylb6VvoDQqzDC\"\n",
    "        access_secret = \"t7heZUb0KLTuVIJirbPcWDfrLxarCmSFOTDMRsMBpAu8Z\"\n",
    "    except KeyError:\n",
    "        sys.stderr.write(\"TWITTER_* environment variables not set\\n\")\n",
    "        sys.exit(1)\n",
    "\n",
    "    auth = OAuthHandler(consumer_key, consumer_secret)  # an OAuthHandler object <class 'tweepy.auth.OAuthHandler'>\n",
    "    auth.set_access_token(access_token, access_secret)\n",
    "    return auth\n",
    "\n",
    "def get_twitter_client():\n",
    "    \"\"\"Setup Twitter API client.\n",
    "    Return: tweepy.API object\n",
    "    \"\"\"\n",
    "    auth = get_twitter_auth()\n",
    "    client = API(auth)  # an API object <class 'tweepy.api.API'>\n",
    "    return client"
   ]
  },
  {
   "cell_type": "markdown",
   "metadata": {},
   "source": [
    "# get the user profile"
   ]
  },
  {
   "cell_type": "code",
   "execution_count": 18,
   "metadata": {
    "collapsed": false,
    "scrolled": false
   },
   "outputs": [
    {
     "name": "stdout",
     "output_type": "stream",
     "text": [
      "<class 'tweepy.api.API'>\n",
      "<class 'tweepy.models.User'>\n",
      "<type 'str'>\n"
     ]
    }
   ],
   "source": [
    "import json\n",
    "client = get_twitter_client()\n",
    "print type(client)\n",
    "\n",
    "name = \"richarddeng88\" # \"jtimberlake\"\n",
    "profile = client.get_user(screen_name=name)\n",
    "print type(profile)\n",
    "\n",
    "print type(json.dumps(profile._json, indent=4))\n",
    "# print json.dumps(profile._json, indent=4)"
   ]
  },
  {
   "cell_type": "code",
   "execution_count": 21,
   "metadata": {
    "collapsed": false
   },
   "outputs": [],
   "source": [
    "# to save the prfile info into a json file. \n",
    "file_name = \"Chap02-03/profile/{}_profile.json\".format(name)\n",
    "with open(file_name, 'w') as f:\n",
    "        profile = client.get_user(screen_name=name)\n",
    "        f.write(json.dumps(profile._json, indent=4))"
   ]
  },
  {
   "cell_type": "markdown",
   "metadata": {},
   "source": [
    "## get user profile,  friends and followers list"
   ]
  },
  {
   "cell_type": "code",
   "execution_count": 23,
   "metadata": {
    "collapsed": true
   },
   "outputs": [],
   "source": [
    "import os\n",
    "import sys\n",
    "import json\n",
    "import time\n",
    "import math\n",
    "from tweepy import Cursor"
   ]
  },
  {
   "cell_type": "code",
   "execution_count": 25,
   "metadata": {
    "collapsed": true
   },
   "outputs": [],
   "source": [
    "MAX_FRIENDS = 15000\n",
    "def usage():\n",
    "    print(\"Usage:\")\n",
    "    print(\"python {} <username>\".format(\" aaa \"))\n",
    "\n",
    "def paginate(items, n):\n",
    "    \"\"\"Generate n-sized chunks from items\"\"\"\n",
    "    for i in range(0, len(items), n):\n",
    "        yield items[i:i+n]"
   ]
  },
  {
   "cell_type": "code",
   "execution_count": 49,
   "metadata": {
    "collapsed": false,
    "scrolled": true
   },
   "outputs": [
    {
     "name": "stdout",
     "output_type": "stream",
     "text": [
      "Chap02-03/profiles/richarddeng88\n",
      "3.0\n"
     ]
    }
   ],
   "source": [
    "screen_name = \"richarddeng88\" \n",
    "client = get_twitter_client()\n",
    "dirname = \"Chap02-03/profiles/{}\".format(screen_name)\n",
    "max_pages = math.ceil(MAX_FRIENDS / 5000)\n",
    "print dirname\n",
    "print max_pages\n",
    "\n",
    "try:\n",
    "    os.makedirs(dirname, mode=0o755)\n",
    "except OSError:\n",
    "    print(\"Directory {} already exists\".format(dirname))\n",
    "except Exception as e:\n",
    "    print(\"Error while creating directory {}\".format(dirname))\n",
    "    print(e)"
   ]
  },
  {
   "cell_type": "code",
   "execution_count": 53,
   "metadata": {
    "collapsed": false
   },
   "outputs": [
    {
     "name": "stdout",
     "output_type": "stream",
     "text": [
      "Chap02-03/profiles/richarddeng88/followers.jsonl\n"
     ]
    }
   ],
   "source": [
    "# get followers for a given user\n",
    "fname = \"Chap02-03/profiles/{}/followers.jsonl\".format(screen_name)\n",
    "print fname\n",
    "with open(fname, 'w') as f:\n",
    "    for followers in Cursor(client.followers_ids, screen_name=screen_name).pages(max_pages):\n",
    "        for chunk in paginate(followers, 100):\n",
    "            users = client.lookup_users(user_ids=chunk)\n",
    "            for user in users:\n",
    "                f.write(json.dumps(user._json)+\"\\n\")\n",
    "        if len(followers) == 5000:\n",
    "            print(\"More results available. Sleeping for 60 seconds to avoid rate limit\")\n",
    "            time.sleep(60)"
   ]
  },
  {
   "cell_type": "code",
   "execution_count": 55,
   "metadata": {
    "collapsed": true
   },
   "outputs": [],
   "source": [
    "# get friends for a given user\n",
    "fname = \"Chap02-03/profiles/{}/friends.jsonl\".format(screen_name)\n",
    "with open(fname, 'w') as f:\n",
    "    for friends in Cursor(client.friends_ids, screen_name=screen_name).pages(max_pages):\n",
    "        for chunk in paginate(friends, 100):\n",
    "            users = client.lookup_users(user_ids=chunk)\n",
    "            for user in users:\n",
    "                f.write(json.dumps(user._json)+\"\\n\")\n",
    "        if len(friends) == 5000:\n",
    "            print(\"More results available. Sleeping for 60 seconds to avoid rate limit\")\n",
    "            time.sleep(60)"
   ]
  },
  {
   "cell_type": "code",
   "execution_count": 57,
   "metadata": {
    "collapsed": true
   },
   "outputs": [],
   "source": [
    "# get user's profile\n",
    "fname = \"Chap02-03/profiles/{}/user_profile.jsonl\".format(screen_name)\n",
    "with open(fname, 'w') as f:\n",
    "    profile = client.get_user(screen_name=screen_name)\n",
    "    f.write(json.dumps(profile._json, indent=4))"
   ]
  },
  {
   "cell_type": "code",
   "execution_count": null,
   "metadata": {
    "collapsed": true
   },
   "outputs": [],
   "source": []
  }
 ],
 "metadata": {
  "kernelspec": {
   "display_name": "Python 2",
   "language": "python",
   "name": "python2"
  },
  "language_info": {
   "codemirror_mode": {
    "name": "ipython",
    "version": 2
   },
   "file_extension": ".py",
   "mimetype": "text/x-python",
   "name": "python",
   "nbconvert_exporter": "python",
   "pygments_lexer": "ipython2",
   "version": "2.7.11"
  }
 },
 "nbformat": 4,
 "nbformat_minor": 0
}
