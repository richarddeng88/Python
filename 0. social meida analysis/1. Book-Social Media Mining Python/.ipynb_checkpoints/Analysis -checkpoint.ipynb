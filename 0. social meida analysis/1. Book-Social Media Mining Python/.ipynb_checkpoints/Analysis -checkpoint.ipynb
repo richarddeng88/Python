{
 "cells": [
  {
   "cell_type": "markdown",
   "metadata": {},
   "source": [
    "# hashtags frequency"
   ]
  },
  {
   "cell_type": "code",
   "execution_count": 1,
   "metadata": {
    "collapsed": true
   },
   "outputs": [],
   "source": [
    "import sys\n",
    "from collections import Counter\n",
    "import json"
   ]
  },
  {
   "cell_type": "markdown",
   "metadata": {},
   "source": [
    "##### Collections: This module implements specialized container datatypes providing alternatives to Python’s general purpose built-in containers, dict, list, set, and tuple.\n",
    "Counter(): dict subclass for counting hashable objects\n"
   ]
  },
  {
   "cell_type": "code",
   "execution_count": 39,
   "metadata": {
    "collapsed": false
   },
   "outputs": [],
   "source": [
    "def get_hashtags(tweet):\n",
    "    entities = tweet.get('entities', {})\n",
    "    hashtags = entities.get('hashtags', [])\n",
    "    return [tag['text'].lower() for tag in hashtags]"
   ]
  },
  {
   "cell_type": "markdown",
   "metadata": {},
   "source": [
    "#### Above the tweet is a dict, which is converted using json.loads from a json tweet file.\n",
    "dict in python is like the hashmap in java. there are key and values pairs.\n",
    "\n",
    "The method get() returns a value for the given key. If key is not available then returns default value None.\n",
    "dict.get(key, default=None)\n",
    "\n",
    "*key -- This is the Key to be searched in the dictionary.\n",
    "\n",
    "*default -- This is the Value to be returned in case key does not exist.\n",
    "\n"
   ]
  },
  {
   "cell_type": "code",
   "execution_count": 76,
   "metadata": {
    "collapsed": false
   },
   "outputs": [
    {
     "name": "stdout",
     "output_type": "stream",
     "text": [
      "=========================\n",
      "<type 'list'>\n",
      "<class 'collections.Counter'>\n",
      "Counter({u'np': 1, u'soundcloud': 1, u'trump2016': 1}) \n",
      "\n",
      "<type 'list'>\n",
      "[(u'np', 1), (u'soundcloud', 1)]\n",
      "=========================\n",
      "<type 'list'>\n",
      "<class 'collections.Counter'>\n",
      "Counter({u'np': 1, u'soundcloud': 1, u'trump2016': 1}) \n",
      "\n",
      "<type 'list'>\n",
      "[(u'np', 1), (u'soundcloud', 1)]\n",
      "=========================\n",
      "<type 'list'>\n",
      "<class 'collections.Counter'>\n",
      "Counter({u'np': 2, u'soundcloud': 2, u'trump2016': 2}) \n",
      "\n",
      "<type 'list'>\n",
      "[(u'np', 2), (u'soundcloud', 2)]\n",
      "=========================\n",
      "<type 'list'>\n",
      "<class 'collections.Counter'>\n",
      "Counter({u'np': 2, u'soundcloud': 2, u'trump2016': 2, u'goldwatergirl': 1}) \n",
      "\n",
      "<type 'list'>\n",
      "[(u'np', 2), (u'soundcloud', 2)]\n"
     ]
    }
   ],
   "source": [
    "fname = 'Chap02-03\\stream_donald_trump.jsonl'\n",
    "i = -1\n",
    "with open(fname,'r') as f:\n",
    "    hashtags = Counter()\n",
    "    for line in f:\n",
    "        tweet = json.loads(line)\n",
    "        hash = get_hashtags(tweet)\n",
    "        i +=1\n",
    "        if i <4 :\n",
    "            print '========================='\n",
    "            print type(hash)\n",
    "            a = tweet\n",
    "            hashtags.update(hash)\n",
    "            print type(hashtags)\n",
    "            print hashtags, '\\n'\n",
    "            \n",
    "            print type(hashtags.most_common(2))\n",
    "            print hashtags.most_common(2)"
   ]
  },
  {
   "cell_type": "code",
   "execution_count": 55,
   "metadata": {
    "collapsed": false
   },
   "outputs": [
    {
     "name": "stdout",
     "output_type": "stream",
     "text": [
      "<type 'dict'>\n",
      "{u'user_mentions': [{u'id': 355355420, u'indices': [3, 18], u'id_str': u'355355420', u'screen_name': u'StylishRentals', u'name': u'Stylish Rentals'}], u'symbols': [], u'hashtags': [{u'indices': [65, 75], u'text': u'Trump2016'}, {u'indices': [92, 103], u'text': u'SoundCloud'}, {u'indices': [105, 108], u'text': u'np'}], u'urls': [{u'url': u'https://t.co/XsABDu9Wse', u'indices': [109, 132], u'expanded_url': u'http://dld.bz/eC2cW', u'display_url': u'dld.bz/eC2cW'}]}\n",
      "[{u'indices': [65, 75], u'text': u'Trump2016'}, {u'indices': [92, 103], u'text': u'SoundCloud'}, {u'indices': [105, 108], u'text': u'np'}]\n",
      "[u'Trump2016', u'SoundCloud', u'np']\n"
     ]
    }
   ],
   "source": [
    "entity = a.get('entities',{})\n",
    "print type(a)\n",
    "print entity\n",
    "\n",
    "hash = entity.get('hashtags',[])\n",
    "print hash\n",
    "\n",
    "b = [tag['text'] for tag in hash]\n",
    "print b"
   ]
  },
  {
   "cell_type": "code",
   "execution_count": 78,
   "metadata": {
    "collapsed": false,
    "scrolled": false
   },
   "outputs": [
    {
     "name": "stdout",
     "output_type": "stream",
     "text": [
      "trump2016: 132\n",
      "soundcloud: 131\n",
      "np: 131\n",
      "trump: 22\n",
      "maga: 7\n",
      "election2016: 5\n",
      "hillary: 5\n",
      "trumptrain: 5\n",
      "neverhillary: 4\n",
      "news: 4\n"
     ]
    }
   ],
   "source": [
    "fname = 'Chap02-03\\stream_donald_trump.jsonl'\n",
    "with open(fname, 'r') as f:\n",
    "    hashtags = Counter()           # <class 'collections.Counter'>\n",
    "    for line in f:                 # each line is a json tweet\n",
    "        tweet = json.loads(line)   # here conovert a json tweet into a dictionary\n",
    "        hashtags_in_tweet = get_hashtags(tweet)  # return a list\n",
    "        hashtags.update(hashtags_in_tweet)\n",
    "    for tag, count in hashtags.most_common(10):\n",
    "        print(\"{}: {}\".format(tag, count))"
   ]
  },
  {
   "cell_type": "markdown",
   "metadata": {},
   "source": [
    "#### The above with statement will automatically close the file after the nested block of code. \n",
    "The advantage of using a with statement is that it is guaranteed to close the file no matter how the nested block exits. If an exception occurs before the end of the block, it will close the file before the exception is caught by an outer exception handler. \n",
    "\n",
    "If the nested block were to contain a return statement, or a continue or break statement, the with statement would automatically close the file in those cases, too."
   ]
  },
  {
   "cell_type": "markdown",
   "metadata": {
    "collapsed": true
   },
   "source": [
    "# Text Analysis"
   ]
  },
  {
   "cell_type": "markdown",
   "metadata": {},
   "source": [
    "###### tokenization is the process of breaking the text into individual units called tokens.\n",
    "becasue the content of a tweet includes emoticons, hashtags, user mentions, URLs, and is quite different from standard english. for this reason, we use TweetTokenizer(NLTK library). "
   ]
  },
  {
   "cell_type": "markdown",
   "metadata": {},
   "source": [
    "##### stopwords are words, that are not content-bearing when the words are taken in isolation.  The typical words include articles, propositions, adverbs and so on. "
   ]
  },
  {
   "cell_type": "markdown",
   "metadata": {},
   "source": [
    "##### Normalization is used when we need to aggregate different terms in the same unit. \n",
    "one special case of normalization is case normalization, where every term is lowercase so that strings with originally differenct casing will "
   ]
  },
  {
   "cell_type": "code",
   "execution_count": 174,
   "metadata": {
    "collapsed": false
   },
   "outputs": [
    {
     "name": "stdout",
     "output_type": "stream",
     "text": [
      "<type 'instance'> \n",
      "\n",
      "<type 'list'> [u'great', u'idea']\n",
      "<type 'list'> [u'great', u'Idea'] \n",
      "\n",
      "<type 'str'> !\"#$%&'()*+,-./:;<=>?@[\\]^_`{|}~\n",
      "<type 'list'> [u'i', u'me', u'my', u'myself', u'we', u'our', u'ours', u'ourselves', u'you', u'your', u'yours', u'yourself', u'yourselves', u'he', u'him', u'his', u'himself', u'she', u'her', u'hers', u'herself', u'it', u'its', u'itself', u'they', u'them', u'their', u'theirs', u'themselves', u'what', u'which', u'who', u'whom', u'this', u'that', u'these', u'those', u'am', u'is', u'are', u'was', u'were', u'be', u'been', u'being', u'have', u'has', u'had', u'having', u'do', u'does', u'did', u'doing', u'a', u'an', u'the', u'and', u'but', u'if', u'or', u'because', u'as', u'until', u'while', u'of', u'at', u'by', u'for', u'with', u'about', u'against', u'between', u'into', u'through', u'during', u'before', u'after', u'above', u'below', u'to', u'from', u'up', u'down', u'in', u'out', u'on', u'off', u'over', u'under', u'again', u'further', u'then', u'once', u'here', u'there', u'when', u'where', u'why', u'how', u'all', u'any', u'both', u'each', u'few', u'more', u'most', u'other', u'some', u'such', u'no', u'nor', u'not', u'only', u'own', u'same', u'so', u'than', u'too', u'very', u's', u't', u'can', u'will', u'just', u'don', u'should', u'now', u'd', u'll', u'm', u'o', u're', u've', u'y', u'ain', u'aren', u'couldn', u'didn', u'doesn', u'hadn', u'hasn', u'haven', u'isn', u'ma', u'mightn', u'mustn', u'needn', u'shan', u'shouldn', u'wasn', u'weren', u'won', u'wouldn']\n"
     ]
    }
   ],
   "source": [
    "import sys\n",
    "import string\n",
    "import json\n",
    "from collections import Counter\n",
    "from nltk.tokenize import TweetTokenizer\n",
    "from nltk.corpus import stopwords\n",
    "\n",
    "b=TweetTokenizer()\n",
    "print type(b), '\\n'\n",
    "\n",
    "a = tokenizer.tokenize(\"great idea\")\n",
    "print type(a), a\n",
    "print type(b.tokenize('great idea')), b.tokenize('great Idea'), '\\n'\n",
    "\n",
    "print type(string.punctuation), string.punctuation\n",
    "print type(stopwords.words('english')), stopwords.words('english')"
   ]
  },
  {
   "cell_type": "code",
   "execution_count": 180,
   "metadata": {
    "collapsed": false,
    "scrolled": true
   },
   "outputs": [
    {
     "name": "stdout",
     "output_type": "stream",
     "text": [
      "<type 'dict'>\n",
      "[\"you're\", \"i'm\", \"we'll\", \"we're\", \"it's\"]\n",
      "['you are', 'i am', 'we will', 'we are', 'it is']\n",
      "i am\n",
      "['we', 'will']\n"
     ]
    }
   ],
   "source": [
    "## below is a dictionary data type. \n",
    "token_map = {\n",
    "    \"i'm\": \"i am\",\n",
    "    \"you're\": \"you are\",\n",
    "    \"it's\": \"it is\",\n",
    "    \"we're\": \"we are\",\n",
    "    \"we'll\": \"we will\",\n",
    "}\n",
    "print type(token_map)\n",
    "print token_map.keys()\n",
    "print token_map.values()\n",
    "print token_map.get(\"i'm\")\n",
    "print token_map[\"we'll\"].split()"
   ]
  },
  {
   "cell_type": "code",
   "execution_count": 191,
   "metadata": {
    "collapsed": false
   },
   "outputs": [
    {
     "name": "stdout",
     "output_type": "stream",
     "text": [
      "<type 'generator'> <generator object normalize_contractions at 0x0000000008508C60>\n",
      "great\n",
      "idea\n",
      "#what\n",
      "we\n",
      "will\n"
     ]
    }
   ],
   "source": [
    "def normalize_contractions(tokens):  # << here tokens is a list\n",
    "    \"\"\"Example of normalization for English contractions.\n",
    "    \n",
    "    Return: generator\n",
    "    \"\"\"\n",
    "    token_map = {\n",
    "        \"i'm\": \"i am\",\n",
    "        \"you're\": \"you are\",\n",
    "        \"it's\": \"it is\",\n",
    "        \"we're\": \"we are\",\n",
    "        \"we'll\": \"we will\",\n",
    "    }\n",
    "    for tok in tokens:\n",
    "        if tok in token_map.keys():\n",
    "            for item in token_map[tok].split():\n",
    "                yield item\n",
    "        else:\n",
    "            yield tok\n",
    "            \n",
    "a = normalize_contractions(['great', 'idea','#what',\"we'll\"])\n",
    "print type(a), a\n",
    "for i in a:\n",
    "    print i"
   ]
  },
  {
   "cell_type": "markdown",
   "metadata": {},
   "source": [
    "To understand what yield does, you must understand what generators are. And before generators come iterables.\n",
    "\n",
    "**Iterables**\n",
    "\n",
    "When you create a list, you can read its items one by one. Reading its items one by one is called iteration. \n",
    "\n",
    "**Yield**\n",
    "\n",
    "Yield is a keyword that is used like return, except the function will return a generator.\n",
    "\n",
    "**Generators**\n",
    "\n",
    "Generators are iterators, but you can only iterate over them once. It's because they do not store all the values in memory, they generate the values on the fly:\n",
    "\n",
    "**Tips**\n",
    "\n",
    "The normalize_contractions() function uses the yield keyword instead of return. This keyword is used to produce a generator, which is an iterator that you can only iterate over once, as it doesn't store its items in the memory, but generates them on the\n",
    "fly. One of the advantages is to reduce memory consumption, so it's recommendable for iterations over big objects. The keyword also allows to generate multiple items within the same function call, while return would close the computation as soon as it's called (for example, the for loop in normalize_contractions() would run only over the first\n",
    "token)."
   ]
  },
  {
   "cell_type": "code",
   "execution_count": 182,
   "metadata": {
    "collapsed": false
   },
   "outputs": [],
   "source": [
    "def process(text, tokenizer=TweetTokenizer(), stopwords=[]):\n",
    "    \"\"\"Process the text of a tweet:\n",
    "    - Lowercase\n",
    "    - Tokenize\n",
    "    - Stopword removal\n",
    "    - Digits removal\n",
    "\n",
    "    Return: list of strings\n",
    "    \"\"\"\n",
    "    text = text.lower()\n",
    "    tokens = tokenizer.tokenize(text)  ## a list\n",
    "    # If we want to normalize contraction, uncomment this\n",
    "    tokens = normalize_contractions(tokens) ##\n",
    "    return [tok for tok in tokens if tok not in stopwords and not tok.isdigit()]\n",
    "                                    ## if the word in stopwords or is digit, then will be removed from the text. "
   ]
  },
  {
   "cell_type": "code",
   "execution_count": 195,
   "metadata": {
    "collapsed": false,
    "scrolled": true
   },
   "outputs": [
    {
     "name": "stdout",
     "output_type": "stream",
     "text": [
      "<type 'list'> ['!', '\"', '#', '$', '%', '&', \"'\", '(', ')', '*', '+', ',', '-', '.', '/', ':', ';', '<', '=', '>', '?', '@', '[', '\\\\', ']', '^', '_', '`', '{', '|', '}', '~'] \n",
      "\n",
      "<type 'list'> [u'i', u'me', u'my', u'myself', u'we', u'our', u'ours', u'ourselves', u'you', u'your', u'yours', u'yourself', u'yourselves', u'he', u'him', u'his', u'himself', u'she', u'her', u'hers', u'herself', u'it', u'its', u'itself', u'they', u'them', u'their', u'theirs', u'themselves', u'what', u'which', u'who', u'whom', u'this', u'that', u'these', u'those', u'am', u'is', u'are', u'was', u'were', u'be', u'been', u'being', u'have', u'has', u'had', u'having', u'do', u'does', u'did', u'doing', u'a', u'an', u'the', u'and', u'but', u'if', u'or', u'because', u'as', u'until', u'while', u'of', u'at', u'by', u'for', u'with', u'about', u'against', u'between', u'into', u'through', u'during', u'before', u'after', u'above', u'below', u'to', u'from', u'up', u'down', u'in', u'out', u'on', u'off', u'over', u'under', u'again', u'further', u'then', u'once', u'here', u'there', u'when', u'where', u'why', u'how', u'all', u'any', u'both', u'each', u'few', u'more', u'most', u'other', u'some', u'such', u'no', u'nor', u'not', u'only', u'own', u'same', u'so', u'than', u'too', u'very', u's', u't', u'can', u'will', u'just', u'don', u'should', u'now', u'd', u'll', u'm', u'o', u're', u've', u'y', u'ain', u'aren', u'couldn', u'didn', u'doesn', u'hadn', u'hasn', u'haven', u'isn', u'ma', u'mightn', u'mustn', u'needn', u'shan', u'shouldn', u'wasn', u'weren', u'won', u'wouldn', '!', '\"', '#', '$', '%', '&', \"'\", '(', ')', '*', '+', ',', '-', '.', '/', ':', ';', '<', '=', '>', '?', '@', '[', '\\\\', ']', '^', '_', '`', '{', '|', '}', '~', 'rt', 'via', '...']\n"
     ]
    }
   ],
   "source": [
    "tweet_tokenizer = TweetTokenizer()\n",
    "punct = list(string.punctuation)\n",
    "stopword_list = stopwords.words('english') + punct + ['rt', 'via','...']\n",
    "\n",
    "print type(punct), punct,'\\n'\n",
    "print type(stopword_list), stopword_list"
   ]
  },
  {
   "cell_type": "code",
   "execution_count": 194,
   "metadata": {
    "collapsed": false,
    "scrolled": false
   },
   "outputs": [
    {
     "name": "stdout",
     "output_type": "stream",
     "text": [
      "trump: 427\n",
      "donald: 194\n",
      "…: 155\n",
      "president: 138\n",
      "#trump2016: 132\n",
      "heard: 131\n",
      "#soundcloud: 131\n",
      "https://t.co/xsabdu9wse: 131\n",
      "rickpoppe: 131\n",
      "@stylishrentals: 131\n",
      "vote: 52\n",
      "’: 44\n",
      "hillary: 31\n",
      "�: 28\n",
      "�: 28\n",
      "trump's: 28\n",
      "clinton: 27\n",
      "melania: 26\n",
      "blasts: 22\n",
      "accusers: 22\n"
     ]
    }
   ],
   "source": [
    "fname = 'Chap02-03\\stream_donald_trump.jsonl'\n",
    "tf = Counter()\n",
    "with open(fname, 'r') as f:\n",
    "    for line in f:\n",
    "        tweet = json.loads(line)\n",
    "        tokens = process(text=tweet.get('text', ''),\n",
    "                         tokenizer=tweet_tokenizer,\n",
    "                         stopwords=stopword_list)\n",
    "        tf.update(tokens)\n",
    "    for tag, count in tf.most_common(20):\n",
    "        print \"{}: {}\".format(tag.encode(\"utf-8\"), count)\n",
    "        #print tag,':',count"
   ]
  },
  {
   "cell_type": "code",
   "execution_count": 198,
   "metadata": {
    "collapsed": false
   },
   "outputs": [],
   "source": [
    "import matplotlib.pyplot as plt\n",
    "%matplotlib inline"
   ]
  },
  {
   "cell_type": "code",
   "execution_count": 204,
   "metadata": {
    "collapsed": false,
    "scrolled": true
   },
   "outputs": [
    {
     "data": {
      "image/png": "[encoded data removed]",
      "text/plain": [
       "<matplotlib.figure.Figure at 0x99ff8d0>"
      ]
     },
     "metadata": {},
     "output_type": "display_data"
    }
   ],
   "source": [
    "y = [count for tag, count in tf.most_common(30)]\n",
    "x = range(1, len(y)+1)\n",
    "plt.bar(x, y)\n",
    "plt.title(\"Term Frequencies\")\n",
    "plt.ylabel(\"Frequency\")\n",
    "plt.savefig('Chap02-03/term_distribution.png')"
   ]
  },
  {
   "cell_type": "code",
   "execution_count": null,
   "metadata": {
    "collapsed": true
   },
   "outputs": [],
   "source": []
  }
 ],
 "metadata": {
  "kernelspec": {
   "display_name": "Python 2",
   "language": "python",
   "name": "python2"
  },
  "language_info": {
   "codemirror_mode": {
    "name": "ipython",
    "version": 2
   },
   "file_extension": ".py",
   "mimetype": "text/x-python",
   "name": "python",
   "nbconvert_exporter": "python",
   "pygments_lexer": "ipython2",
   "version": "2.7.11"
  }
 },
 "nbformat": 4,
 "nbformat_minor": 0
}
