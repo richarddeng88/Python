{
 "cells": [
  {
   "cell_type": "code",
   "execution_count": 23,
   "metadata": {
    "collapsed": false,
    "scrolled": true
   },
   "outputs": [],
   "source": [
    "import sys\n",
    "import json\n",
    "import csv\n",
    "import unidecode"
   ]
  },
  {
   "cell_type": "markdown",
   "metadata": {},
   "source": [
    "# json2csv check_in.json file"
   ]
  },
  {
   "cell_type": "code",
   "execution_count": 11,
   "metadata": {
    "collapsed": false
   },
   "outputs": [
    {
     "name": "stdout",
     "output_type": "stream",
     "text": [
      "<type 'list'> 45166\n",
      "{u'checkin_info': {u'9-5': 1, u'7-5': 1, u'13-3': 1, u'17-6': 1, u'13-0': 1, u'17-3': 1, u'10-0': 1, u'18-4': 1, u'14-6': 1}, u'type': u'checkin', u'business_id': u'cE27W9VPgO88Qxe4ol6y_g'}\n",
      "checkin\n",
      "cE27W9VPgO88Qxe4ol6y_g\n",
      "{u'9-5': 1, u'7-5': 1, u'13-3': 1, u'17-6': 1, u'13-0': 1, u'17-3': 1, u'10-0': 1, u'18-4': 1, u'14-6': 1}\n"
     ]
    }
   ],
   "source": [
    "## json2csv check_in\n",
    "path = \"C:/Users/Richard/Desktop/R/data/yelpdata/yelp_academic_dataset_checkin.json\"\n",
    "json_line = [json.loads(line) for line in open(path)]\n",
    "print type(json_line), len(json_line)\n",
    "print json_line[0]\n",
    "print json_line[0]['type']\n",
    "print json_line[0]['business_id']\n",
    "print json_line[0]['checkin_info']"
   ]
  },
  {
   "cell_type": "code",
   "execution_count": 15,
   "metadata": {
    "collapsed": false
   },
   "outputs": [],
   "source": [
    "# load file\n",
    "csvfile = open(\"check_in.csv\", \"w\")\n",
    "csv_writer = csv.writer(csvfile)\n",
    "csv_writer.writerow([\"business_id\",\"type\",\"checkin_info\"])\n",
    "\n",
    "json_no = 0\n",
    "for i in json_line:\n",
    "    csv_writer.writerow([i['business_id'],i['type'],i['checkin_info']])\n",
    "    json_no += 1\n",
    "\n",
    "csvfile.close()"
   ]
  },
  {
   "cell_type": "markdown",
   "metadata": {},
   "source": [
    "# json2csv business.json file"
   ]
  },
  {
   "cell_type": "code",
   "execution_count": 35,
   "metadata": {
    "collapsed": false,
    "scrolled": true
   },
   "outputs": [
    {
     "name": "stdout",
     "output_type": "stream",
     "text": [
      "<type 'list'> 61184\n",
      "{u'city': u'Phoenix', u'review_count': 9, u'name': u'Eric Goldberg, MD', u'neighborhoods': [], u'type': u'business', u'business_id': u'vcNAWiLM4dR7D2nwwJ7nCA', u'full_address': u'4840 E Indian School Rd\\nSte 101\\nPhoenix, AZ 85018', u'hours': {u'Tuesday': {u'close': u'17:00', u'open': u'08:00'}, u'Friday': {u'close': u'17:00', u'open': u'08:00'}, u'Wednesday': {u'close': u'17:00', u'open': u'08:00'}, u'Monday': {u'close': u'17:00', u'open': u'08:00'}, u'Thursday': {u'close': u'17:00', u'open': u'08:00'}}, u'state': u'AZ', u'longitude': -111.983758, u'stars': 3.5, u'latitude': 33.499313, u'attributes': {u'By Appointment Only': True}, u'open': True, u'categories': [u'Doctors', u'Health & Medical']}\n"
     ]
    }
   ],
   "source": [
    "## json2csv business\n",
    "path = \"C:/Users/Richard/Desktop/R/data/yelpdata/yelp_academic_dataset_business.json\"\n",
    "json_line = [json.loads(line) for line in open(path)]\n",
    "print type(json_line), len(json_line)\n",
    "print json_line[0]"
   ]
  },
  {
   "cell_type": "code",
   "execution_count": 36,
   "metadata": {
    "collapsed": false,
    "scrolled": true
   },
   "outputs": [
    {
     "name": "stdout",
     "output_type": "stream",
     "text": [
      "Phoenix\n",
      "9\n",
      "Eric Goldberg, MD\n"
     ]
    }
   ],
   "source": [
    "print json_line[0]['city']\n",
    "print json_line[0]['review_count']\n",
    "print json_line[0]['name']"
   ]
  },
  {
   "cell_type": "code",
   "execution_count": 37,
   "metadata": {
    "collapsed": false,
    "scrolled": true
   },
   "outputs": [],
   "source": [
    "# load file\n",
    "csvfile = open(\"business.csv\", \"w\")\n",
    "csv_writer = csv.writer(csvfile)\n",
    "csv_writer.writerow([\"business_id\",\"name\",\"full_address\",\"hours\",\"open\",\"categories\",\"city\",\"state\",\"review_count\",\"stars\"])\n",
    "\n",
    "json_no = 0\n",
    "for l in json_line:\n",
    "    csv_writer.writerow([l[\"business_id\"], l[\"name\"].encode(\"utf-8\"),l[\"full_address\"].encode(\"utf-8\"),\n",
    "                         l[\"hours\"],l[\"open\"],l[\"categories\"],l[\"city\"].encode(\"utf-8\"),\n",
    "                         l[\"state\"].encode(\"utf-8\"),l[\"review_count\"],l[\"stars\"]])\n",
    "    json_no += 1\n",
    "    \n",
    "csvfile.close()                        "
   ]
  },
  {
   "cell_type": "markdown",
   "metadata": {},
   "source": [
    "# json2csv business.json file"
   ]
  },
  {
   "cell_type": "code",
   "execution_count": 38,
   "metadata": {
    "collapsed": false,
    "scrolled": true
   },
   "outputs": [
    {
     "name": "stdout",
     "output_type": "stream",
     "text": [
      "<type 'list'> 366715\n",
      "{u'yelping_since': u'2004-10', u'votes': {u'funny': 166, u'useful': 278, u'cool': 245}, u'user_id': u'18kPq7GPye-YQ3LyKyAZPw', u'name': u'Russel', u'elite': [2005, 2006], u'type': u'user', u'compliments': {u'profile': 8, u'cute': 15, u'funny': 11, u'plain': 25, u'writer': 9, u'note': 20, u'photos': 15, u'hot': 48, u'more': 3, u'cool': 78}, u'fans': 69, u'average_stars': 4.14, u'review_count': 108, u'friends': [u'rpOyqD_893cqmDAtJLbdog', u'4U9kSBLuBDU391x6bxU-YA', u'fHtTaujcyKvXglE33Z5yIw', u'8J4IIYcqBlFch8T90N923A', u'wy6l_zUo7SN0qrvNRWgySw', u'HDQixQ-WZEV0LVPJlIGQeQ', u'T4kuUr_iJiywOPdyM7gTHQ', u'z_5D4XEIlGAPjG3Os9ix5A', u'i63u3SdbrLsP4FxiSKP0Zw', u'pnrGw4ciBXJ6U5QB2m0F5g', u'ytjCBxosVSqCOQ62c4KAxg', u'r5uiIxwJ-I-oHBkNY2Ha3Q', u'niWoSKswEbooJC_M7HMbGw', u'kwoxiKMyoYjB1wTCYAjYRg', u'9A8OuP6XwLwnNb9ov3_Ncw', u'27MmRg8LfbZXNEHkEnKSdA', u'Bn4sJUTtKFZQt0FKHF2Adw', u'uguXfIEpI65jSCH5MgUDgA', u'6VZNGc2h2Bn-uyuEXgOt5g', u'AZ8CTtwr-4sGM2kZqF6qig', u'S742m-AuQicMSLDdErrLZQ', u'uGmQ6ab4iVpWn5m61VFhkQ', u'GJYJX4SujVj3BR8v2F9PDQ', u'3shjifK-vZkIHciyy_KbYA', u'4lc_H2Cf7CO0tCgyA3aSVQ', u'Tunkp_F1R_uFBJQTsDxD4g', u'B9pKfr27czBbCoAIircZdQ', u'pePGMO6EbDpbaZ7D2m6HIg', u'XRM8W6HUoXbrYKR3BCj9Rg', u'8DqIWXsKXOipfduYEfFpNw', u'dvRVX54Z9f7Om51NsTRX1w', u'CM0saLQmk4oAB17UmQTV-g', u'HANb8-8InWnju-XzBQQSBw', u'JuJeZeQJgv7bUreY7a1SlQ', u'2NVVEEYhhoVELdaPILFrDQ', u'e4M9_S-ASmRys3DvKQfotw', u'XA109o963exKgoVGcg9z7w', u'tVAKdax3Jbf24R7OJB99JQ', u'OMWT-Z6OnJLcg44lCuDuhw', u'd82F_FFtowYtjGtxRySehA', u'pW91HUnVz6ssLZ4dY-ztyQ', u'ojQYtstkGXtcryk5I9GTYA', u'4hxVql33ldY_gkf3rG8_3w', u'0arQ82n4mvrc42U8KuoE6g', u'w6Vv-kldGpmvSGqXvTbAdQ', u'NZeCINmoOJ8vsQvYkZAp9w', u'n9ltC5DxMjefffeMfBgcXQ', u'QBj2AL66bEAmK3ULkrn1Gw', u'ayZlWyV1M2k_UWx1dreIDg', u'AG1KRDkIa8QCCPsMnINEOg', u'P-lfV8cdAgEOZJkw2dJpsw', u'7Pef9EA21szXXOPJo6Gb5w', u'YvtRBqCqhSIhGGREqcqnQw', u'8M7I2-s5nQ8LSkuCvN0Xqg', u'-ETxy7f37BBQXhw5zJfkrQ', u'TjPt2hD56jfpmtoa6kVVRg', u'uZgFEPEUIWJMaaqvMlxYoA', u'YKppbE7ogNmbtVrluxEF4A', u'D7uXj1_0pE_Fa2YeLkOkyw', u'eVV99D3EZvkuswIvIySKiw', u'PhwgVPqpJlxu40AxAOUBbg', u'gWcz4QFTW76q8VtpIlZEHQ', u'wpcoiQNbO5x0xkZwKFVUFw', u'Ot-QjYpIdVsluuxcqidjkA', u'E3C_gEhktux9Ca-Z2fmNTw', u'ClaGLOr72DPJlQhRc9HHyQ', u'sc6wS6YOFIgtN2XuJI8_WQ', u'dD5mA6kwVlBHvrNtX9EyZQ', u'qwvgycPC5u4JZv6DfawPqw', u'As_oVE27fiE-0CbDJwUDiA', u'SuzSrMWoycf4DXL_DMMdNg', u'y0SRKlzVuvj-mbQtbsWx-A', u'qbfQRHLvZk5WSkKY0l_lMw', u'D6A0rn5MIg7AVRrVeouABg', u'KUqpJ9eKREuvlnlitJJRYg', u'gOvKWYXobX_Pgzsz-K8auA', u'xzdZTsR2KKcQfjF4OjJeOw', u'DyfA7aPzRQ81kJnbkuIiJQ', u'tA2suyZG_qWIuNB_HR-YRA', u'R5QmtpSsrQ9mqIxjZIv3uw', u'5T8SdBwiH0jdwatUJ7KFUg', u'1Gfn4nlqPEIvRX4cnctJlg', u'A4_fxqSj4tgYet8OE3jTyA', u'oPD_t6BVpfhvu1-TS4FNzA', u'gn3Y0mWduWrvT1hvu7fv4A', u'NUeLSLukiPPCSK6EVdUo_Q', u'rtrh46NJfksxR4TgljYg9w', u'5zpVMWD-q6nEYapiWrSyXw', u'ooZ7TV6IuxuqbFgnqaoSsQ', u'8phGuOZ0NIfeJiTX-ZDZLA', u'8L1p_zlmAB_uWyaW0QTaCg', u's7ZSag-bHo0C4fSBDJeBDw', u'5ANDwUyQqsRhEl7QBKRFiw', u'KMGF6KAnPRoOTFVXBy9jtQ', u'yk-lz4JUKREUVw9hxk-VZw', u'6uM5lx0DCX4ctQlebtxraw', u'Hc6agWZ9jGCxsPAqQwlf2w', u'z39ulrgtvEMB2oeokx0-mw', u'wLt28qh-46LFhKOeByWZ0w', u'R9FFFqYOUmvWjaHqODfzyw', u'p4Jg_rO_AsCWZGMd_w8xjw', u'pJppmQyW74ejj8xCa2SHuA', u'hzaqnSxfRYv_Wbp6CMKtQw', u'0QwV8PJk9PJDFaMNw1Fcsw', u'6pC5j-hfP4xLZB2W0Wi1vg', u'8nAj60xsBjcHXLLSs7cPqw', u'NhbV8AbaQiKNzEU11cbxcQ', u'5Szwd1CSepRXwAFH12nPzQ', u'ifD7o8Mi67yNYwgWL5CbKg', u'AaZdXn0I6F5bdIVwGpxdDA', u'YwcacxA7WCB9fryDHDxF8w', u'HBFtzjRarXxDH8xZRSNsPA', u'zi0kxtr5gq0Flg7jYdIlMA', u'oWEdmTYl13VHh1A_Mkhh2g', u'n1GSQ7VT9sTL5MlCWolbNw', u'PO8XNxGUizzzKGHmn24fQQ', u'JTRxzA1AZ8Zfwj7FpH2CnA', u'AixLPxra_4HirfchjPkiWA', u'xOK3i0wgmkpGu54BuIcwQA', u'F9T6m1YdRFreyKDufcyoOQ', u'-cscgA-lVPipPwEX4RmcgQ', u'1UJbOl-jKNIUjroeC4xWxg', u'ACLuEsNHV7lfq1O7CHuFaA', u'UyOtYjnavsr-Dtjo6Xy91g', u'J11gYVC1u9S5jqEg3oh-gQ', u'9LZP7Ll7N9zkuWfA5DUAYw', u'SbM1m5nejHDD1pJePsar9g', u'wF7_-zf7R8Rri7Kq-a0tlw', u'B5o7JC4iRJ7bKPRnoYEIHg', u'SAPz30NHFJ95SBlvz5cTqw', u'fzkO1lGkx8MHhT8S4Rbg3w', u'tlSSQwfHYJany7wPoTH46A', u'2VfhMrTJ9bZ0O4PZmRmxKA', u'odeoZZHRQp6TkeoEQk3eeA', u'2XCsVpAMsGUykrM-BBFEXA', u'qVePixO2kuK0Dr03upCWFg', u'D9CIW04wrcQzZNdCEoASAg', u'G-iuXcbJnX3sA3lhB6nFhQ', u'3utEqyNzFcxH8E8pm7ByPA', u'T5TZfn9_9X-LTbRtaMAgUw', u'fczQCSmaWF78toLEmb0Zsw', u'Hyhmpb3UnbjtSEXvgviCow', u'FI-Fjxr3fUBx2q7icnqcfA', u'S8ZY1HEDoECqKrIUY34JOg', u'3JtdBvnY6Wzp22gt5zFwDg', u'470dZswdTHz5aaGPvIYNpg', u'JT5kM6wRwh7cNt8IAuX_sw', u'r7V9Nhes-Eg-lH0cqfpFFw', u'2m3lE8p8T2nFRDxIUaRXew', u'bZFRqP7s0Vszxeu8_IwYow', u'snd45oedwXxF9tsHUX_6dg', u'8jEK8gxHYg9w6sINujO0MQ', u'LTWY2Ee-SYu8ItVOebD3CQ', u'7zpDhrRZRTGCkAh3SHbEww', u'NSg7k2UFt_HqM2mvsw-n0w', u'egdj4-wXAzYzT5bmTAHYqQ', u'wxhf-RSExCGECZuz_iVV7w', u'C6IOtaaYdLIT5fWd7ZYIuA', u'jntSRFnN_O7QfFzZo24rvA', u'yfQwWLYtqwHKiky1hiTBew', u'6SxnRYFR3GUzGREKSttxJg', u'WZgoM8UuzxjZf1AaWx3qZQ', u'cNj8rheuldPDX9zF6q2yaA', u'OqOCMRpVNvvdPDMhoG_DCA', u'9ZonzxW0DAqIUO_5tDqZig', u'rLQNlHnIKdtoqoU77CbEUQ', u'LbgQK5B_5IkN77FgRJHhrg', u'it23EnutJ6fOjeYQBDKJug', u'1XWzXgFvcu5pU2wj1ONQ_Q', u'92j9xiUMOsM3HviIGoR8Yg', u'AP6udBIStvWLY0T5rS_24A', u'G_PCzMHcOLoMyyEsxW1DFQ', u'ZuQ87LQYWRw3AHj-jEiQ1Q', u'zdutsCEMdvc0B8s3_XN3nQ', u'fRbbPPUdMCmL9o39yshi2g', u'pjgE1d3csesAkgn6rQI_RQ', u'C7nUczj6n0ouxWqp1I7cNQ', u'D8EE4gbAiXS3DF_HNRJfAw', u'Milv8k4zZsoCaNFZugKtJw', u'GALRNo-AbcAHxEdmqKl--w', u'XOe-I25-W_FnbYfQyafylw', u'-weTB55ulUzv0E_4laXsqQ', u'kuP0AMnSGgkLfNSt0wOAgA', u'EwMgdjuPXLAuxxu3IOUyKA', u'Mx-vxv_V-SQCe76w4RmUfA', u'6xxVdJBdMREj1fCqjm6UtA', u'm61SjiXAIlOY1qAXOHEk4Q', u'R4sYowLqQQEpxWjQbqaFvg', u'OCkge7lzOw33bqMs1244Yw', u'rjJJ8QQg-eqb7mgMxArgBA', u'T_wjLgPOPXry7Bea4MzoVQ', u'hBwbBaBqofCgvkJ3PatuVw', u'epTMlecM8SZNjDhBsd64Jg', u'PUMROYfbVgKypcfJNxs1mw', u'82ZqgHOfUMV1xtpG2KfisA', u'IN2HcBun5PpyfQK8OC68iw', u'yQZL8MTulNh3d3de-N0oug', u'nZFcWvgPU8T4JCjOVvJU8Q', u'FDPjfyyHNfy9tqyxo27QeQ', u'jIuc3nM9R0KWX3v-8OyLsQ', u'F1oGgK3NtTYnyRMxupiiuA', u'nGYaT5sAuqKkd48dqX_2Kw', u'NzP9OoNP8vBMRUSs0UXBNw', u'ZTs-go-xYRQOp3PSw_XGDg', u'gc4rNAgbGydNMAPJ85FZag', u'KYuljD4Tovti3J1pdBnT4g']}\n"
     ]
    }
   ],
   "source": [
    "## json2csv user\n",
    "path = \"C:/Users/Richard/Desktop/R/data/yelpdata/yelp_academic_dataset_user.json\"\n",
    "json_line = [json.loads(line) for line in open(path)]\n",
    "print type(json_line), len(json_line)\n",
    "print json_line[0]"
   ]
  },
  {
   "cell_type": "code",
   "execution_count": 43,
   "metadata": {
    "collapsed": false
   },
   "outputs": [
    {
     "name": "stdout",
     "output_type": "stream",
     "text": [
      "18kPq7GPye-YQ3LyKyAZPw\n",
      "108\n",
      "{u'funny': 166, u'useful': 278, u'cool': 245}\n"
     ]
    }
   ],
   "source": [
    "print json_line[0]['user_id']\n",
    "print json_line[0]['review_count']\n",
    "print json_line[0]['votes']"
   ]
  },
  {
   "cell_type": "code",
   "execution_count": 44,
   "metadata": {
    "collapsed": false
   },
   "outputs": [],
   "source": [
    "# load file\n",
    "csvfile = open(\"user.csv\", \"w\")\n",
    "csv_writer = csv.writer(csvfile)\n",
    "csv_writer.writerow([\"user_id\",\"name\",\"review_count\",\"average_stars\",\"cool_votes\",\"funny_votes\",\"useful_votes\",\n",
    "                     \"friends\",\"elite\",\"yelping_since\",\"fans\"])\n",
    "json_no = 0\n",
    "for l in json_line:\n",
    "    csv_writer.writerow([l[\"user_id\"], l[\"name\"].encode(\"utf-8\"),l[\"review_count\"],l[\"average_stars\"],l[\"votes\"][\"cool\"],\n",
    "                         l[\"votes\"][\"funny\"],l[\"votes\"][\"useful\"],l[\"friends\"],l[\"elite\"],l[\"yelping_since\"],l[\"fans\"]])\n",
    "    json_no += 1\n",
    "    \n",
    "csvfile.close()                        "
   ]
  }
 ],
 "metadata": {
  "kernelspec": {
   "display_name": "Python 2",
   "language": "python",
   "name": "python2"
  },
  "language_info": {
   "codemirror_mode": {
    "name": "ipython",
    "version": 2
   },
   "file_extension": ".py",
   "mimetype": "text/x-python",
   "name": "python",
   "nbconvert_exporter": "python",
   "pygments_lexer": "ipython2",
   "version": "2.7.11"
  }
 },
 "nbformat": 4,
 "nbformat_minor": 0
}
