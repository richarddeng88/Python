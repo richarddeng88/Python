{
 "cells": [
  {
   "cell_type": "code",
   "execution_count": 1,
   "metadata": {
    "collapsed": false
   },
   "outputs": [
    {
     "data": {
      "text/plain": [
       "['This is the 100th Etext file presented by Project Gutenberg, and',\n",
       " 'is presented in cooperation with World Library, Inc., from their',\n",
       " 'Library of the Future and Shakespeare CDROMS.  Project Gutenberg',\n",
       " 'often releases Etexts that are NOT placed in the Public Domain!!',\n",
       " '']"
      ]
     },
     "execution_count": 1,
     "metadata": {},
     "output_type": "execute_result"
    }
   ],
   "source": [
    "df = sc.textFile('data/words.txt')\n",
    "df.take(5)"
   ]
  },
  {
   "cell_type": "code",
   "execution_count": 4,
   "metadata": {
    "collapsed": false
   },
   "outputs": [
    {
     "data": {
      "text/plain": [
       "[(23242, 'the'),\n",
       " (19540, 'I'),\n",
       " (18297, 'and'),\n",
       " (15623, 'to'),\n",
       " (15544, 'of'),\n",
       " (12532, 'a'),\n",
       " (10824, 'my'),\n",
       " (9576, 'in'),\n",
       " (9081, 'you'),\n",
       " (7851, 'is')]"
      ]
     },
     "execution_count": 4,
     "metadata": {},
     "output_type": "execute_result"
    }
   ],
   "source": [
    "wordcounts = df.flatMap(lambda line : line.split(\" \")).\\\n",
    "            map(lambda word : (word,1)).\\\n",
    "            reduceByKey(lambda a,b :(a+b),1).\\\n",
    "            map(lambda a : (a[1],a[0])).\\\n",
    "            filter(lambda a : a[1]!=\"\").\\\n",
    "            sortByKey(0,1)\n",
    "\n",
    "wordcounts.take(10)"
   ]
  }
 ],
 "metadata": {
  "kernelspec": {
   "display_name": "Python 3",
   "language": "python",
   "name": "python3"
  },
  "language_info": {
   "codemirror_mode": {
    "name": "ipython",
    "version": 3
   },
   "file_extension": ".py",
   "mimetype": "text/x-python",
   "name": "python",
   "nbconvert_exporter": "python",
   "pygments_lexer": "ipython3",
   "version": "3.5.1"
  }
 },
 "nbformat": 4,
 "nbformat_minor": 0
}
