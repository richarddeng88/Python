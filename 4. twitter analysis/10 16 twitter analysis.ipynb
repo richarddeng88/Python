{
 "cells": [
  {
   "cell_type": "code",
   "execution_count": 1,
   "metadata": {
    "collapsed": true
   },
   "outputs": [],
   "source": [
    "import re\n",
    "from re import sub\n",
    "import time\n",
    "import cookielib\n",
    "from cookielib import CookieJar\n",
    "import urllib2\n",
    "from urllib2 import urlopen"
   ]
  },
  {
   "cell_type": "code",
   "execution_count": 3,
   "metadata": {
    "collapsed": true
   },
   "outputs": [],
   "source": [
    "cj = CookieJar()\n",
    "opener = urllib2.build_opener(urllib2.HTTPCookieProcessor(cj))\n",
    "opener.addheaders = [('User-agent','Mozilla/5.0')]\n",
    "keyword = 'obama'\n",
    "link = 'https://twitter.com/search?q='\n"
   ]
  },
  {
   "cell_type": "code",
   "execution_count": 4,
   "metadata": {
    "collapsed": true
   },
   "outputs": [],
   "source": [
    "def main():\n",
    "    try:\n",
    "        source_code = opener.open(link + keyword+ '&src=typd&lang=en').read()\n",
    "        split = re.findall(r'<p class=\"TweetTextSize  js-tweet-text tweet-text\" lang=\"en\" data-aria-label-part=\"0\">(.*?)</p>',source_code)\n",
    "\n",
    "        for i in split:\n",
    "            print len(split), i\n",
    "\n",
    "\n",
    "    except Exception, e:\n",
    "        print str(e)\n",
    "        print 'errored in the main try'\n",
    "        time.sleep(555)"
   ]
  },
  {
   "cell_type": "code",
   "execution_count": 5,
   "metadata": {
    "collapsed": false,
    "scrolled": false
   },
   "outputs": [
    {
     "name": "stdout",
     "output_type": "stream",
     "text": [
      "13 For a century, Planned Parenthood has made it possible for women to determine their own lives. Here&#39;s to another <a href=\"/hashtag/100YearsStrong?src=hash\" data-query-source=\"hashtag_click\" class=\"twitter-hashtag pretty-link js-nav\" dir=\"ltr\" ><s>#</s><b>100YearsStrong</b></a>.\n",
      "13 <strong>Obama</strong> roasting trump is the best thing ever <a href=\"https://t.co/OYbT6eM9BE\" class=\"twitter-timeline-link u-hidden\" data-pre-embedded=\"true\" dir=\"ltr\" >pic.twitter.com/OYbT6eM9BE</a>\n",
      "13 .<a href=\"/MichelleObama\" class=\"twitter-atreply pretty-link js-nav\" dir=\"ltr\" data-mentioned-user-id=\"409486555\" ><s>@</s><b>MichelleObama</b></a> will save you from your high heels in the White House<a href=\"https://t.co/UgtvkflhD9\" rel=\"nofollow\" dir=\"ltr\" data-expanded-url=\"http://ellemag.co/HG3MfF6\" class=\"twitter-timeline-link u-hidden\" target=\"_blank\" title=\"http://ellemag.co/HG3MfF6\" ><span class=\"tco-ellipsis\"></span><span class=\"invisible\">http://</span><span class=\"js-display-url\">ellemag.co/HG3MfF6</span><span class=\"invisible\"></span><span class=\"tco-ellipsis\"><span class=\"invisible\">&nbsp;</span></span></a>\n",
      "13 what if president <strong>Obama</strong> just grew a mustache and changed his name so he could get reelected and we wouldn&#39;t have anything to worry about\n",
      "13 For a man so certain <strong>Obama</strong> wasn&#39;t American, then forced to admit he was wrong, you&#39;d think Trump would be a little more circumspect...\n",
      "13 This disgusting rhetoric no doubt goes on in <strong>Obama</strong>&#39;s administration as well. Blame white people, justify terrorists. <a href=\"https://t.co/X9UldGCC4Y\" rel=\"nofollow\" dir=\"ltr\" data-expanded-url=\"http://www.breitbart.com/wikileaks/2016/10/16/wikileaks-clinton-teams-shocking-reaction-san-bernardino-terror-aattack/\" class=\"twitter-timeline-link u-hidden\" target=\"_blank\" title=\"http://www.breitbart.com/wikileaks/2016/10/16/wikileaks-clinton-teams-shocking-reaction-san-bernardino-terror-aattack/\" ><span class=\"tco-ellipsis\"></span><span class=\"invisible\">http://www.</span><span class=\"js-display-url\">breitbart.com/wikileaks/2016</span><span class=\"invisible\">/10/16/wikileaks-clinton-teams-shocking-reaction-san-bernardino-terror-aattack/</span><span class=\"tco-ellipsis\"><span class=\"invisible\">&nbsp;</span>…</span></a>\n",
      "13 The amount is reportedly twice the number of “bundlers” that <strong>Obama</strong> had four years ago <a href=\"https://t.co/5LG4Pvy5Xq\" rel=\"nofollow\" dir=\"ltr\" data-expanded-url=\"http://nyp.st/2eahfMj\" class=\"twitter-timeline-link u-hidden\" target=\"_blank\" title=\"http://nyp.st/2eahfMj\" ><span class=\"tco-ellipsis\"></span><span class=\"invisible\">http://</span><span class=\"js-display-url\">nyp.st/2eahfMj</span><span class=\"invisible\"></span><span class=\"tco-ellipsis\"><span class=\"invisible\">&nbsp;</span></span></a>\n",
      "13 I swear to gosh I don&#39;t give a heck!\n",
      "13 Is <strong>Obama</strong> Juicing Government Spending To Get Hillary Elected? <a href=\"https://t.co/MKLjhgf1Tf\" rel=\"nofollow\" dir=\"ltr\" data-expanded-url=\"http://www.zerohedge.com/news/2016-10-16/obama-juicing-government-spending-get-hillary-elected\" class=\"twitter-timeline-link\" target=\"_blank\" title=\"http://www.zerohedge.com/news/2016-10-16/obama-juicing-government-spending-get-hillary-elected\" ><span class=\"tco-ellipsis\"></span><span class=\"invisible\">http://www.</span><span class=\"js-display-url\">zerohedge.com/news/2016-10-1</span><span class=\"invisible\">6/obama-juicing-government-spending-get-hillary-elected</span><span class=\"tco-ellipsis\"><span class=\"invisible\">&nbsp;</span>…</span></a>\n",
      "13 Hillary wants 2 bring in 550% more Syrian refugees. Thx 2 <strong>Obama</strong> we are flooded <a href=\"/hashtag/NeverHillary?src=hash\" data-query-source=\"hashtag_click\" class=\"twitter-hashtag pretty-link js-nav\" dir=\"ltr\" ><s>#</s><b>NeverHillary</b></a> <a href=\"/hashtag/VetsBeforeRefugees?src=hash\" data-query-source=\"hashtag_click\" class=\"twitter-hashtag pretty-link js-nav\" dir=\"ltr\" ><s>#</s><b>VetsBeforeRefugees</b></a> <a href=\"/Cory_1077\" class=\"twitter-atreply pretty-link js-nav\" dir=\"ltr\" data-mentioned-user-id=\"3464860760\" ><s>@</s><b>Cory_1077</b></a> <a href=\"/JohnWUSMC\" class=\"twitter-atreply pretty-link js-nav\" dir=\"ltr\" data-mentioned-user-id=\"4897039492\" ><s>@</s><b>JohnWUSMC</b></a><a href=\"https://t.co/pGaSLYrJEc\" class=\"twitter-timeline-link u-hidden\" data-pre-embedded=\"true\" dir=\"ltr\" >pic.twitter.com/pGaSLYrJEc</a>\n",
      "13 North Carolina GOP headquarters firebombed<img class=\"Emoji Emoji--forText\" src=\"https://abs.twimg.com/emoji/v2/72x72/27a1.png\" draggable=\"false\" alt=\"➡️\" title=\"Rightwards arrow\" aria-label=\"Emoji: Rightwards arrow\">Disgusting &amp; We are <a href=\"/hashtag/Deplorable?src=hash\" data-query-source=\"hashtag_click\" class=\"twitter-hashtag pretty-link js-nav\" dir=\"ltr\" ><s>#</s><b>Deplorable</b></a><img class=\"Emoji Emoji--forText\" src=\"https://abs.twimg.com/emoji/v2/72x72/2049.png\" draggable=\"false\" alt=\"⁉️\" title=\"Exclamation question mark\" aria-label=\"Emoji: Exclamation question mark\">#Hillary? <a href=\"/hashtag/Obama?src=hash\" data-query-source=\"hashtag_click\" class=\"twitter-hashtag pretty-link js-nav\" dir=\"ltr\" ><s>#</s><b><strong>Obama</strong></b></a> <a href=\"https://t.co/0m1nQzTUST\" rel=\"nofollow\" dir=\"ltr\" data-expanded-url=\"http://a.msn.com/r/2/AAj1Jot\" class=\"twitter-timeline-link\" target=\"_blank\" title=\"http://a.msn.com/r/2/AAj1Jot\" ><span class=\"tco-ellipsis\"></span><span class=\"invisible\">http://</span><span class=\"js-display-url\">a.msn.com/r/2/AAj1Jot</span><span class=\"invisible\"></span><span class=\"tco-ellipsis\"><span class=\"invisible\">&nbsp;</span></span></a><a href=\"https://t.co/MqKrlyI62Y\" class=\"twitter-timeline-link u-hidden\" data-pre-embedded=\"true\" dir=\"ltr\" >pic.twitter.com/MqKrlyI62Y</a>\n",
      "13 RIP Dinosaurs can&#39;t believe its been 65 million years.\n",
      "13 Podesta Leaks: The <strong>Obama</strong>-Clinton E-mails <a href=\"https://t.co/FT70HMTTUU\" rel=\"nofollow\" dir=\"ltr\" data-expanded-url=\"http://bit.ly/2drzwW2\" class=\"twitter-timeline-link u-hidden\" target=\"_blank\" title=\"http://bit.ly/2drzwW2\" ><span class=\"tco-ellipsis\"></span><span class=\"invisible\">http://</span><span class=\"js-display-url\">bit.ly/2drzwW2</span><span class=\"invisible\"></span><span class=\"tco-ellipsis\"><span class=\"invisible\">&nbsp;</span></span></a>\n"
     ]
    }
   ],
   "source": [
    "main()"
   ]
  },
  {
   "cell_type": "code",
   "execution_count": 8,
   "metadata": {
    "collapsed": false
   },
   "outputs": [],
   "source": [
    "########## twitter streamming #############3\n",
    "from tweepy import Stream   # !pip install tweepy\n",
    "from tweepy import OAuthHandler\n",
    "from tweepy.streaming import StreamListener\n",
    "\n",
    "ckey = \"ejRTMayX2nhKZB2yNDCjDJWHz\"\n",
    "csecret = \"3PGjS2HGvtEPY1DZh9feUDcMv0O02VyYk7Q5MLIS5MzibxwtuD\"\n",
    "atoken = \"3045806279-RTecSDiDhevDXJ2YnbZ7BJKvUSylb6VvoDQqzDC\"\n",
    "asecret = \"t7heZUb0KLTuVIJirbPcWDfrLxarCmSFOTDMRsMBpAu8Z\""
   ]
  },
  {
   "cell_type": "code",
   "execution_count": 7,
   "metadata": {
    "collapsed": false
   },
   "outputs": [
    {
     "name": "stdout",
     "output_type": "stream",
     "text": [
      "Collecting tweepy\n",
      "  Using cached tweepy-3.5.0-py2.py3-none-any.whl\n",
      "Collecting requests-oauthlib>=0.4.1 (from tweepy)\n",
      "  Downloading requests_oauthlib-0.7.0-py2.py3-none-any.whl\n",
      "Requirement already satisfied (use --upgrade to upgrade): requests>=2.4.3 in c:\\anaconda2\\lib\\site-packages (from tweepy)\n",
      "Requirement already satisfied (use --upgrade to upgrade): six>=1.7.3 in c:\\anaconda2\\lib\\site-packages (from tweepy)\n",
      "Collecting oauthlib>=0.6.2 (from requests-oauthlib>=0.4.1->tweepy)\n",
      "  Downloading oauthlib-2.0.0.tar.gz (122kB)\n",
      "Building wheels for collected packages: oauthlib\n",
      "  Running setup.py bdist_wheel for oauthlib: started\n",
      "  Running setup.py bdist_wheel for oauthlib: finished with status 'done'\n",
      "  Stored in directory: C:\\Users\\Richard\\AppData\\Local\\pip\\Cache\\wheels\\e4\\e1\\92\\68af4b20ac26182fbd623647af92118fc4cdbdb2c613030a67\n",
      "Successfully built oauthlib\n",
      "Installing collected packages: oauthlib, requests-oauthlib, tweepy\n",
      "Successfully installed oauthlib-2.0.0 requests-oauthlib-0.7.0 tweepy-3.5.0\n"
     ]
    }
   ],
   "source": []
  },
  {
   "cell_type": "code",
   "execution_count": null,
   "metadata": {
    "collapsed": true
   },
   "outputs": [],
   "source": [
    "class listener(StreamListener):\n",
    "\n",
    "    def on_data(self,data):\n",
    "        print data\n",
    "        return True\n",
    "\n",
    "    def on_error(self,status):\n",
    "        print status\n",
    "\n",
    "auth = OAuthHandler(ckey, csecret)\n",
    "auth.set_access_token(atoken,asecret)\n",
    "twitterstream = Stream(auth, listener())\n",
    "twitterstream.filter(track=[\"car\"])"
   ]
  }
 ],
 "metadata": {
  "kernelspec": {
   "display_name": "Python 2",
   "language": "python",
   "name": "python2"
  },
  "language_info": {
   "codemirror_mode": {
    "name": "ipython",
    "version": 2
   },
   "file_extension": ".py",
   "mimetype": "text/x-python",
   "name": "python",
   "nbconvert_exporter": "python",
   "pygments_lexer": "ipython2",
   "version": "2.7.11"
  }
 },
 "nbformat": 4,
 "nbformat_minor": 0
}
