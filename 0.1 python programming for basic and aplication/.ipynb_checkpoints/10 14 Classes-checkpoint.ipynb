{
 "cells": [
  {
   "cell_type": "code",
   "execution_count": 1,
   "metadata": {
    "collapsed": true
   },
   "outputs": [],
   "source": [
    "class Employee:\n",
    "    #The variable empCount is a class variable whose value is shared among all instances of a this class.\n",
    "    # This can be accessed as Employee.empCount from inside the class or outside the class.\n",
    "    empCount = 0\n",
    "\n",
    "    # The first method __init__() is a special method, which is called class constructor or initialization method that\n",
    "    # Python calls __init__ when you create a new instance of this class.\n",
    "    def __init__(self, name, salary):\n",
    "        self.name = name\n",
    "        self.salary = salary\n",
    "        Employee.empCount += 1\n",
    "\n",
    "    # you declear other class methods like normal functions with the exception that the first argument to each method is self.\n",
    "    # Python adds the self argument to the list for you; you do not need to include it when you call the methods.\n",
    "    def displayCount(self):\n",
    "        print \"Total Employee %d\" % Employee.empCount\n",
    "\n",
    "    def displayEmployee(self):\n",
    "        print \"Name : \", self.name, \", Salary: \", self.salary\n"
   ]
  },
  {
   "cell_type": "code",
   "execution_count": 2,
   "metadata": {
    "collapsed": false
   },
   "outputs": [
    {
     "name": "stdout",
     "output_type": "stream",
     "text": [
      "Name :  Zara , Salary:  2000\n",
      "Name :  Manni , Salary:  5000\n",
      "Total Employee number is 2\n"
     ]
    }
   ],
   "source": [
    "##To create instances of a class, you call the class using class name and pass in whatever arguments\n",
    "# its __init__ method accepts.\n",
    "\"This would create first object of Employee class\"\n",
    "emp1 = Employee(\"Zara\", 2000)\n",
    "\"This would create second object of Employee class\"\n",
    "emp2 = Employee(\"Manni\", 5000)\n",
    "\n",
    "emp1.displayEmployee()\n",
    "emp2.displayEmployee()\n",
    "print \"Total Employee number is %d\" % Employee.empCount"
   ]
  },
  {
   "cell_type": "code",
   "execution_count": 12,
   "metadata": {
    "collapsed": false
   },
   "outputs": [
    {
     "name": "stdout",
     "output_type": "stream",
     "text": [
      "3\n",
      "3\n",
      "Total Employee 3\n",
      "Total Employee 3\n"
     ]
    }
   ],
   "source": [
    "print emp1.empCount\n",
    "print emp2.empCount\n",
    "emp1.displayCount()\n",
    "emp2.displayCount()"
   ]
  },
  {
   "cell_type": "code",
   "execution_count": 13,
   "metadata": {
    "collapsed": false
   },
   "outputs": [
    {
     "name": "stdout",
     "output_type": "stream",
     "text": [
      "Total Employee 4\n",
      "Name :  richard , Salary:  10000\n",
      "<type 'instance'>\n"
     ]
    }
   ],
   "source": [
    "a = Employee('richard', 10000)\n",
    "a.displayCount()\n",
    "a.displayEmployee()\n",
    "a.age = 28\n",
    "print type(a)"
   ]
  },
  {
   "cell_type": "code",
   "execution_count": 14,
   "metadata": {
    "collapsed": false
   },
   "outputs": [
    {
     "name": "stdout",
     "output_type": "stream",
     "text": [
      "Employee.__doc__: None\n",
      "Employee.__name__: Employee\n",
      "Employee.__module__: __main__\n",
      "Employee.__bases__: ()\n",
      "Employee.__dict__: {'__module__': '__main__', 'displayCount': <function displayCount at 0x00000000040FC748>, 'empCount': 4, 'displayEmployee': <function displayEmployee at 0x00000000040FC518>, '__doc__': None, '__init__': <function __init__ at 0x00000000040FC5F8>}\n"
     ]
    }
   ],
   "source": [
    "\n",
    "print \"Employee.__doc__:\", Employee.__doc__ #Class documentation string or none, if undefined.\n",
    "print \"Employee.__name__:\", Employee.__name__ #Class name.\n",
    "print \"Employee.__module__:\", Employee.__module__ #Module name in which the class is defined.\n",
    "print \"Employee.__bases__:\", Employee.__bases__\n",
    "print \"Employee.__dict__:\", Employee.__dict__  # Dictionary containing the class's namespace."
   ]
  },
  {
   "cell_type": "code",
   "execution_count": 15,
   "metadata": {
    "collapsed": true
   },
   "outputs": [],
   "source": [
    "######### Destroying Objects (Garbage Collection)\n",
    "# Python's garbage collector runs during program execution and is triggered when an object's reference count reaches zero.\n",
    "# An object's reference count changes as the number of aliases that point to it changes.\n"
   ]
  },
  {
   "cell_type": "code",
   "execution_count": 16,
   "metadata": {
    "collapsed": false
   },
   "outputs": [
    {
     "name": "stdout",
     "output_type": "stream",
     "text": [
      "Calling child constructor\n",
      "Calling child method\n",
      "Calling parent method\n",
      "Parent attribute : 200\n"
     ]
    }
   ],
   "source": [
    "#Class Inheritance\n",
    "\n",
    "# Instead of starting from scratch, you can create a class by deriving it from a preexisting class by listing the\n",
    "# parent class in parentheses after the new class name.\n",
    "class Parent:        # define parent class\n",
    "    parentAttr = 100\n",
    "    def __init__(self):\n",
    "        print \"Calling parent constructor\"\n",
    "\n",
    "    def parentMethod(self):\n",
    "        print 'Calling parent method'\n",
    "\n",
    "    def setAttr(self, attr):\n",
    "        Parent.parentAttr = attr\n",
    "\n",
    "    def getAttr(self):\n",
    "        print \"Parent attribute :\", Parent.parentAttr\n",
    "\n",
    "class Child(Parent): # define child class\n",
    "    def __init__(self):\n",
    "        print \"Calling child constructor\"\n",
    "\n",
    "    def childMethod(self):\n",
    "        print 'Calling child method'\n",
    "\n",
    "c = Child()          # instance of child\n",
    "c.childMethod()      # child calls its method\n",
    "c.parentMethod()     # calls parent's method\n",
    "c.setAttr(200)       # again call parent's method\n",
    "c.getAttr()          # again call parent's method"
   ]
  },
  {
   "cell_type": "code",
   "execution_count": 19,
   "metadata": {
    "collapsed": true
   },
   "outputs": [],
   "source": [
    "####  stack calss\n",
    "class SetofStacks:\n",
    "    def __init__(self):\n",
    "        self.items = []\n",
    "\n",
    "    def isEmpty(self):\n",
    "        return self.items == []\n",
    "\n",
    "    def push(self,item):\n",
    "        self.items.append(item)\n",
    "\n",
    "    def pop(self):\n",
    "        return self.items.pop()\n",
    "\n",
    "    def size(self):\n",
    "        return len(self.items)\n",
    "\n",
    "    def printstack(self):\n",
    "        for items in reversed(self.items):\n",
    "            print items\n"
   ]
  },
  {
   "cell_type": "code",
   "execution_count": 20,
   "metadata": {
    "collapsed": false
   },
   "outputs": [
    {
     "name": "stdout",
     "output_type": "stream",
     "text": [
      "True\n",
      "rich\n",
      "try...............1\n",
      "ob\n",
      "rich\n",
      "try...............2\n",
      "rich\n"
     ]
    }
   ],
   "source": [
    "\n",
    "s = SetofStacks()\n",
    "print s.isEmpty()\n",
    "s.push(\"rich\")\n",
    "s.printstack()\n",
    "s.push(\"ob\")\n",
    "print 'try...............1'\n",
    "s.printstack()\n",
    "s.pop()\n",
    "print 'try...............2'\n",
    "s.printstack()"
   ]
  }
 ],
 "metadata": {
  "kernelspec": {
   "display_name": "Python 2",
   "language": "python",
   "name": "python2"
  },
  "language_info": {
   "codemirror_mode": {
    "name": "ipython",
    "version": 2
   },
   "file_extension": ".py",
   "mimetype": "text/x-python",
   "name": "python",
   "nbconvert_exporter": "python",
   "pygments_lexer": "ipython2",
   "version": "2.7.11"
  }
 },
 "nbformat": 4,
 "nbformat_minor": 0
}
