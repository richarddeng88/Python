{
 "cells": [
  {
   "cell_type": "code",
   "execution_count": 7,
   "metadata": {
    "collapsed": false
   },
   "outputs": [],
   "source": [
    "import pandas as pd\n",
    "import datetime\n",
    "import matplotlib.pyplot as plt\n",
    "import matplotlib as style\n",
    "import numpy as np\n",
    "import lxml\n",
    "import quandl\n",
    "import html5lib\n",
    "import BeautifulSoup"
   ]
  },
  {
   "cell_type": "code",
   "execution_count": 6,
   "metadata": {
    "collapsed": false
   },
   "outputs": [
    {
     "name": "stdout",
     "output_type": "stream",
     "text": [
      "Collecting BeautifulSoup\n",
      "  Downloading BeautifulSoup-3.2.1.tar.gz\n",
      "Building wheels for collected packages: BeautifulSoup\n",
      "  Running setup.py bdist_wheel for BeautifulSoup: started\n",
      "  Running setup.py bdist_wheel for BeautifulSoup: finished with status 'done'\n",
      "  Stored in directory: C:\\Users\\Richard\\AppData\\Local\\pip\\Cache\\wheels\\5e\\be\\6d\\ed01d5d434a821557b674c9da976f60b1b93d9009447eb9d16\n",
      "Successfully built BeautifulSoup\n",
      "Installing collected packages: BeautifulSoup\n",
      "Successfully installed BeautifulSoup-3.2.1\n"
     ]
    }
   ],
   "source": [
    "#### install quandl and html5lib packages. \n",
    "# !pip install quandl\n",
    "# !pip install html5lib\n",
    "# !pip install --upgrade BeautifulSoup\n",
    "# !pip install --upgrade lxml\n",
    "# !pip install BeautifulSoup"
   ]
  },
  {
   "cell_type": "code",
   "execution_count": 8,
   "metadata": {
    "collapsed": false
   },
   "outputs": [
    {
     "data": {
      "text/plain": [
       "(6, 3)"
      ]
     },
     "execution_count": 8,
     "metadata": {},
     "output_type": "execute_result"
    }
   ],
   "source": [
    "# Data Frame\n",
    "web = {'day':[1,2,3,4,5,6],\n",
    "       'visitor':[11, 12, 13 , 14,15, 16],\n",
    "       'rate':[21,22,23,24,25,26]\n",
    "    }\n",
    "\n",
    "df =  pd.DataFrame(web) ## make the data set data.frame type\n",
    "df.shape # give  the dimensions of the data set"
   ]
  },
  {
   "cell_type": "code",
   "execution_count": 9,
   "metadata": {
    "collapsed": false
   },
   "outputs": [
    {
     "data": {
      "text/plain": [
       "array([[ 1, 21],\n",
       "       [ 2, 22],\n",
       "       [ 3, 23],\n",
       "       [ 4, 24],\n",
       "       [ 5, 25],\n",
       "       [ 6, 26]], dtype=int64)"
      ]
     },
     "execution_count": 9,
     "metadata": {},
     "output_type": "execute_result"
    }
   ],
   "source": [
    "#change the column names\n",
    "df.columns = ['a','b','c']\n",
    "#set up the index\n",
    "df2 = df.set_index('a')\n",
    "\n",
    "#read the specific column\n",
    "df['a']\n",
    "df.a\n",
    "df[['a','b']]\n",
    "df.a.tolist()\n",
    "np.array(df[['a','b']])"
   ]
  },
  {
   "cell_type": "code",
   "execution_count": 10,
   "metadata": {
    "collapsed": false
   },
   "outputs": [],
   "source": [
    "########## IO - pandas read data function and write csv files\n",
    "mydata = quandl.get(\"ZILL/Z11373_MPC\")\n",
    "df = pd.read_csv('ZILL-Z11373_MPC.csv')\n",
    "df.to_csv('newdf.csv')"
   ]
  },
  {
   "cell_type": "code",
   "execution_count": 11,
   "metadata": {
    "collapsed": false,
    "scrolled": true
   },
   "outputs": [
    {
     "name": "stdout",
     "output_type": "stream",
     "text": [
      "               Value\n",
      "Date                \n",
      "2010-04-30  5.617978\n",
      "2010-05-31  6.378987\n",
      "2010-06-30  6.289308\n",
      "2010-07-31  5.147059\n",
      "2010-08-31  4.282655\n"
     ]
    },
    {
     "data": {
      "text/html": [
       "<div>\n",
       "<table border=\"1\" class=\"dataframe\">\n",
       "  <thead>\n",
       "    <tr style=\"text-align: right;\">\n",
       "      <th></th>\n",
       "      <th>Date</th>\n",
       "      <th>Value</th>\n",
       "    </tr>\n",
       "  </thead>\n",
       "  <tbody>\n",
       "    <tr>\n",
       "      <th>0</th>\n",
       "      <td>2016-02-29</td>\n",
       "      <td>7.500000</td>\n",
       "    </tr>\n",
       "    <tr>\n",
       "      <th>1</th>\n",
       "      <td>2016-01-31</td>\n",
       "      <td>2.739726</td>\n",
       "    </tr>\n",
       "    <tr>\n",
       "      <th>2</th>\n",
       "      <td>2015-12-31</td>\n",
       "      <td>4.952381</td>\n",
       "    </tr>\n",
       "    <tr>\n",
       "      <th>3</th>\n",
       "      <td>2015-11-30</td>\n",
       "      <td>3.926145</td>\n",
       "    </tr>\n",
       "    <tr>\n",
       "      <th>4</th>\n",
       "      <td>2015-10-31</td>\n",
       "      <td>3.719748</td>\n",
       "    </tr>\n",
       "  </tbody>\n",
       "</table>\n",
       "</div>"
      ],
      "text/plain": [
       "         Date     Value\n",
       "0  2016-02-29  7.500000\n",
       "1  2016-01-31  2.739726\n",
       "2  2015-12-31  4.952381\n",
       "3  2015-11-30  3.926145\n",
       "4  2015-10-31  3.719748"
      ]
     },
     "execution_count": 11,
     "metadata": {},
     "output_type": "execute_result"
    }
   ],
   "source": [
    "print mydata.head()\n",
    "df.head()"
   ]
  },
  {
   "cell_type": "code",
   "execution_count": 12,
   "metadata": {
    "collapsed": false,
    "scrolled": true
   },
   "outputs": [
    {
     "data": {
      "text/html": [
       "<div>\n",
       "<table border=\"1\" class=\"dataframe\">\n",
       "  <thead>\n",
       "    <tr style=\"text-align: right;\">\n",
       "      <th></th>\n",
       "      <th>House Price in Elmhurst</th>\n",
       "    </tr>\n",
       "    <tr>\n",
       "      <th>Date</th>\n",
       "      <th></th>\n",
       "    </tr>\n",
       "  </thead>\n",
       "  <tbody>\n",
       "    <tr>\n",
       "      <th>2016-02-29</th>\n",
       "      <td>7.500000</td>\n",
       "    </tr>\n",
       "    <tr>\n",
       "      <th>2016-01-31</th>\n",
       "      <td>2.739726</td>\n",
       "    </tr>\n",
       "    <tr>\n",
       "      <th>2015-12-31</th>\n",
       "      <td>4.952381</td>\n",
       "    </tr>\n",
       "    <tr>\n",
       "      <th>2015-11-30</th>\n",
       "      <td>3.926145</td>\n",
       "    </tr>\n",
       "    <tr>\n",
       "      <th>2015-10-31</th>\n",
       "      <td>3.719748</td>\n",
       "    </tr>\n",
       "  </tbody>\n",
       "</table>\n",
       "</div>"
      ],
      "text/plain": [
       "            House Price in Elmhurst\n",
       "Date                               \n",
       "2016-02-29                 7.500000\n",
       "2016-01-31                 2.739726\n",
       "2015-12-31                 4.952381\n",
       "2015-11-30                 3.926145\n",
       "2015-10-31                 3.719748"
      ]
     },
     "execution_count": 12,
     "metadata": {},
     "output_type": "execute_result"
    }
   ],
   "source": [
    "df = pd.read_csv('ZILL-Z11373_MPC.csv', index_col=0)\n",
    "df.columns = ['House Price in Elmhurst']\n",
    "df.head()"
   ]
  },
  {
   "cell_type": "code",
   "execution_count": 13,
   "metadata": {
    "collapsed": false,
    "scrolled": true
   },
   "outputs": [
    {
     "name": "stdout",
     "output_type": "stream",
     "text": [
      "             elmhurst price\n",
      "Date                       \n",
      "Date                  Value\n",
      "2016-02-29              7.5\n",
      "2016-01-31  2.7397260273973\n",
      "2015-12-31  4.9523809523809\n",
      "2015-11-30  3.9261453092142\n"
     ]
    }
   ],
   "source": [
    "df = pd.read_csv('ZILL-Z11373_MPC.csv', names=['Date','elmhurst price'],index_col=0)\n",
    "print df.head()\n",
    "df.to_html('example.html')"
   ]
  },
  {
   "cell_type": "code",
   "execution_count": 14,
   "metadata": {
    "collapsed": false
   },
   "outputs": [
    {
     "data": {
      "text/html": [
       "<div>\n",
       "<table border=\"1\" class=\"dataframe\">\n",
       "  <thead>\n",
       "    <tr style=\"text-align: right;\">\n",
       "      <th></th>\n",
       "      <th>Value</th>\n",
       "    </tr>\n",
       "    <tr>\n",
       "      <th>Date</th>\n",
       "      <th></th>\n",
       "    </tr>\n",
       "  </thead>\n",
       "  <tbody>\n",
       "    <tr>\n",
       "      <th>1990-01-31</th>\n",
       "      <td>66.636046</td>\n",
       "    </tr>\n",
       "    <tr>\n",
       "      <th>1990-02-28</th>\n",
       "      <td>66.895673</td>\n",
       "    </tr>\n",
       "    <tr>\n",
       "      <th>1990-03-31</th>\n",
       "      <td>67.274865</td>\n",
       "    </tr>\n",
       "    <tr>\n",
       "      <th>1990-04-30</th>\n",
       "      <td>67.554643</td>\n",
       "    </tr>\n",
       "    <tr>\n",
       "      <th>1990-05-31</th>\n",
       "      <td>67.838786</td>\n",
       "    </tr>\n",
       "  </tbody>\n",
       "</table>\n",
       "</div>"
      ],
      "text/plain": [
       "                Value\n",
       "Date                 \n",
       "1990-01-31  66.636046\n",
       "1990-02-28  66.895673\n",
       "1990-03-31  67.274865\n",
       "1990-04-30  67.554643\n",
       "1990-05-31  67.838786"
      ]
     },
     "execution_count": 14,
     "metadata": {},
     "output_type": "execute_result"
    }
   ],
   "source": [
    "# building dataset from quandl using you account api key\n",
    "api_key =\"-tu16JxTi3ZC9D4CPXCZ\"\n",
    "price = quandl.get(\"FMAC/HPI_MUNIN\", start_date=\"1990-01-31\",authtoken=api_key)\n",
    "price.head()"
   ]
  },
  {
   "cell_type": "code",
   "execution_count": 15,
   "metadata": {
    "collapsed": false,
    "scrolled": true
   },
   "outputs": [
    {
     "name": "stdout",
     "output_type": "stream",
     "text": [
      "<type 'list'>\n",
      "<class 'pandas.core.frame.DataFrame'>\n",
      "              0           1            2                  3\n",
      "0  Abbreviation  State Name      Capital     Became a State\n",
      "1            AL     Alabama   Montgomery  December 14, 1819\n",
      "2            AK      Alaska       Juneau    January 3, 1959\n",
      "3            AZ     Arizona      Phoenix  February 14, 1912\n",
      "4            AR    Arkansas  Little Rock      June 15, 1836\n"
     ]
    }
   ],
   "source": [
    "# Read HTML tables into a list of DataFrame objects.\n",
    "states = pd.read_html(\"https://simple.wikipedia.org/wiki/List_of_U.S._states\")\n",
    "print type(states)\n",
    "print type(states[0])\n",
    "print states[0].head()"
   ]
  },
  {
   "cell_type": "code",
   "execution_count": 60,
   "metadata": {
    "collapsed": false,
    "scrolled": true
   },
   "outputs": [
    {
     "name": "stdout",
     "output_type": "stream",
     "text": [
      "<class 'pandas.core.series.Series'>\n",
      "0    Abbreviation\n",
      "1              AL\n",
      "2              AK\n",
      "3              AZ\n",
      "4              AR\n",
      "Name: 0, dtype: object\n",
      " \n",
      "FMAC/HPI_Abbreviation\n",
      "FMAC/HPI_AL\n",
      "FMAC/HPI_AK\n",
      "FMAC/HPI_AZ\n",
      "FMAC/HPI_AR\n",
      "FMAC/HPI_CA\n",
      "FMAC/HPI_CO\n",
      "FMAC/HPI_CT\n",
      "FMAC/HPI_DE\n",
      "FMAC/HPI_FL\n"
     ]
    }
   ],
   "source": [
    "a = states[0]\n",
    "names = states[0][0]\n",
    "print type(names)\n",
    "print names.head()\n",
    "print \" \"\n",
    "for abbv in states[0][0][:10] :\n",
    "     print 'FMAC/HPI_'+ str(abbv)"
   ]
  },
  {
   "cell_type": "code",
   "execution_count": 61,
   "metadata": {
    "collapsed": true
   },
   "outputs": [],
   "source": [
    "########### DATA FRAMES #################\n",
    "### concatenating and appending dataframes\n",
    "df1 = pd.DataFrame({'hpi':[80,85,88,85],\n",
    "                    'int_rate':[2,3,2,2],\n",
    "                    'us_gdp_thousands':[50,55,65,55]},\n",
    "                   index = [2001,2002,2003,2004])\n",
    "\n",
    "df2 = pd.DataFrame({'hpi':[80,85,88,85],\n",
    "                    'int_rate':[2,3,2,2],\n",
    "                    'us_gdp_thousands':[54,51,44,43]},\n",
    "                   index = [2005,2006,2007,2008])\n",
    "\n",
    "df3 = pd.DataFrame({'hpi':[80,85,88,85],\n",
    "                    'unemployment':[7,8,9,6],\n",
    "                    'lower_tier':[50,55,65,55]},\n",
    "                   index = [2001,2002,2003,2004])"
   ]
  },
  {
   "cell_type": "code",
   "execution_count": 62,
   "metadata": {
    "collapsed": false,
    "scrolled": true
   },
   "outputs": [
    {
     "name": "stdout",
     "output_type": "stream",
     "text": [
      "      hpi  int_rate  us_gdp_thousands\n",
      "2001   80         2                50\n",
      "2002   85         3                55\n",
      "2003   88         2                65\n",
      "2004   85         2                55\n",
      "2005   80         2                54\n",
      "2006   85         3                51\n",
      "2007   88         2                44\n",
      "2008   85         2                43\n",
      "      hpi  int_rate  us_gdp_thousands\n",
      "2001   80         2                50\n",
      "2002   85         3                55\n",
      "2003   88         2                65\n",
      "2004   85         2                55\n",
      "2005   80         2                54\n",
      "2006   85         3                51\n",
      "2007   88         2                44\n",
      "2008   85         2                43\n"
     ]
    }
   ],
   "source": [
    "concat= pd.concat([df1, df2]) # = rbind() in R\n",
    "print concat\n",
    "df4 = df1.append(df2)\n",
    "print df4"
   ]
  },
  {
   "cell_type": "code",
   "execution_count": 63,
   "metadata": {
    "collapsed": true
   },
   "outputs": [],
   "source": [
    "s = pd.Series([180,299,150], index=['hpi','int_rate','us_gdp_thousands'])\n",
    "df5 = df1.append(s,ignore_index=True) # add a new row. if it is a list, add a value"
   ]
  },
  {
   "cell_type": "code",
   "execution_count": 59,
   "metadata": {
    "collapsed": false,
    "scrolled": true
   },
   "outputs": [
    {
     "name": "stdout",
     "output_type": "stream",
     "text": [
      "   hpi  int_rate  us_gdp_thousands_x  us_gdp_thousands_y\n",
      "0   80         2                  50                  54\n",
      "1   85         3                  55                  51\n",
      "2   88         2                  65                  44\n",
      "3   85         2                  55                  43\n"
     ]
    }
   ],
   "source": [
    "# joining and merging dataframes\n",
    "df6 = pd.merge(df1,df3,on=['hpi','int_rate'])\n",
    "df1.set_index('hpi',inplace=True)\n",
    "df3.set_index('hpi',inplace=True)\n",
    "joined = df1.join(df3) # join is base on the index"
   ]
  },
  {
   "cell_type": "code",
   "execution_count": 67,
   "metadata": {
    "collapsed": false,
    "scrolled": true
   },
   "outputs": [
    {
     "name": "stdout",
     "output_type": "stream",
     "text": [
      "   hpi  int_rate  us_gdp_thousands_x  us_gdp_thousands_y\n",
      "0   80         2                  50                  54\n",
      "1   85         3                  55                  51\n",
      "2   88         2                  65                  44\n",
      "3   85         2                  55                  43\n",
      "     int_rate  us_gdp_thousands\n",
      "hpi                            \n",
      "80          2                50\n",
      "85          3                55\n",
      "88          2                65\n",
      "85          2                55\n",
      "     lower_tier  unemployment\n",
      "hpi                          \n",
      "80           50             7\n",
      "85           55             8\n",
      "88           65             9\n",
      "85           55             6\n",
      "     int_rate  us_gdp_thousands  lower_tier  unemployment\n",
      "hpi                                                      \n",
      "80          2                50          50             7\n",
      "85          3                55          55             8\n",
      "85          3                55          55             6\n",
      "85          2                55          55             8\n",
      "85          2                55          55             6\n",
      "88          2                65          65             9\n"
     ]
    }
   ],
   "source": [
    "print df6\n",
    "print df1\n",
    "print df3\n",
    "print joined"
   ]
  },
  {
   "cell_type": "code",
   "execution_count": 32,
   "metadata": {
    "collapsed": false
   },
   "outputs": [
    {
     "name": "stdout",
     "output_type": "stream",
     "text": [
      "   int_rate  us_gdp_thousands  year\n",
      "0         2                50  2001\n",
      "1         3                55  2002\n",
      "2         2                65  2003\n",
      "3         2                55  2004\n",
      "   int_rate  us_gdp_thousands  year\n",
      "0         2                54  2001\n",
      "1         3                51  2002\n",
      "2         2                44  2003\n",
      "3         2                43  2005\n",
      "        int_rate_x  us_gdp_thousands_x  int_rate_y  us_gdp_thousands_y\n",
      "year                                                                  \n",
      "2001.0         2.0                50.0           2                  54\n",
      "2002.0         3.0                55.0           3                  51\n",
      "2003.0         2.0                65.0           2                  44\n",
      "2005.0         NaN                 NaN           2                  43\n"
     ]
    }
   ],
   "source": [
    "#### merge data frames\n",
    "df1 = pd.DataFrame({'year':[2001,2002,2003,2004],\n",
    "                    'int_rate':[2,3,2,2],\n",
    "                    'us_gdp_thousands':[50,55,65,55]})\n",
    "\n",
    "df2 = pd.DataFrame({'year':[2001,2002,2003,2005],\n",
    "                    'int_rate':[2,3,2,2],\n",
    "                    'us_gdp_thousands':[54,51,44,43]})\n",
    "\n",
    "merge = pd.merge(df1,df2, on='year', how='right')\n",
    "                         # right, right, outer, inner(default)\n",
    "                         # this is similar to R merge(, all.x= F, all.y=T)\n",
    "merge.set_index('year',inplace=True)\n",
    "print df1\n",
    "print df2\n",
    "print merge"
   ]
  }
 ],
 "metadata": {
  "kernelspec": {
   "display_name": "Python 2",
   "language": "python",
   "name": "python2"
  },
  "language_info": {
   "codemirror_mode": {
    "name": "ipython",
    "version": 2
   },
   "file_extension": ".py",
   "mimetype": "text/x-python",
   "name": "python",
   "nbconvert_exporter": "python",
   "pygments_lexer": "ipython2",
   "version": "2.7.11"
  }
 },
 "nbformat": 4,
 "nbformat_minor": 0
}
