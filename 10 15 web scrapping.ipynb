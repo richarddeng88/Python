{
 "cells": [
  {
   "cell_type": "code",
   "execution_count": 12,
   "metadata": {
    "collapsed": true
   },
   "outputs": [],
   "source": [
    "import urllib\n",
    "import re\n",
    "import json"
   ]
  },
  {
   "cell_type": "code",
   "execution_count": 13,
   "metadata": {
    "collapsed": true
   },
   "outputs": [],
   "source": [
    "## in this example, actually we request the entire page and then extract some details from the entire source.\n",
    "\n",
    "urls = [\"http://google.com\",\n",
    "        \"http://cnn.com\",\n",
    "        \"http://nytimes.com\",\n",
    "        \"http://www.yahoo.com\",\n",
    "        \"http://www.youtube.com\"]"
   ]
  },
  {
   "cell_type": "code",
   "execution_count": 14,
   "metadata": {
    "collapsed": false
   },
   "outputs": [
    {
     "name": "stdout",
     "output_type": "stream",
     "text": [
      "['Google']\n",
      "['CNN - Breaking News, Latest News and Videos']\n",
      "['The New York Times - Breaking News, World News & Multimedia']\n",
      "['Yahoo']\n",
      "['YouTube']\n"
     ]
    }
   ],
   "source": [
    "i = 0\n",
    "regex = \"<title>(.+?)</title>\"\n",
    "pattern = re.compile(regex)\n",
    "\n",
    "while i < len(urls):\n",
    "    htmlfile = urllib.urlopen(urls[i])\n",
    "    htmltext = htmlfile.read()\n",
    "    titles = re.findall(pattern, htmltext)\n",
    "    print titles\n",
    "    i+=1"
   ]
  },
  {
   "cell_type": "code",
   "execution_count": 15,
   "metadata": {
    "collapsed": false
   },
   "outputs": [
    {
     "name": "stdout",
     "output_type": "stream",
     "text": [
      "the price of  aapl is []\n",
      "the price of  spy is []\n",
      "the price of  goog is []\n",
      "the price of  nflx is []\n",
      "the price of  amzn is []\n"
     ]
    }
   ],
   "source": [
    "symbol_list = [\"aapl\",\"spy\",\"goog\",\"nflx\",'amzn']\n",
    "i=0\n",
    "while i < len(symbol_list):\n",
    "    urls = \"http://finance.yahoo.com/q?s=\"+ symbol_list[i]+ \"&ql=0\"\n",
    "    htmlfile = urllib.urlopen(urls)\n",
    "    htmltext = htmlfile.read()\n",
    "    regex = '<span id=\"yfs_l84_'+symbol_list[i]+'\">(.+?)</span>'\n",
    "    pattern = re.compile(regex)\n",
    "    price = re.findall(pattern, htmltext)\n",
    "    print \"the price of \", symbol_list[i],\"is\", price # price[0]\n",
    "    i += 1"
   ]
  },
  {
   "cell_type": "code",
   "execution_count": 20,
   "metadata": {
    "collapsed": false
   },
   "outputs": [],
   "source": [
    "symbol_file = open(\"symbol.txt\")\n",
    "symbol_list = symbol_file.read()\n",
    "symbol_list = symbol_list.split(\"\\n\")"
   ]
  },
  {
   "cell_type": "code",
   "execution_count": 22,
   "metadata": {
    "collapsed": false
   },
   "outputs": [
    {
     "name": "stdout",
     "output_type": "stream",
     "text": [
      "['CAFD', 'TFSC', 'TFSCR', 'TFSCU', 'TFSCW', 'PIH', 'FLWS', 'FCTY', 'FCCY', 'SRCE']\n"
     ]
    }
   ],
   "source": [
    "print symbol_list[:10]"
   ]
  },
  {
   "cell_type": "code",
   "execution_count": 23,
   "metadata": {
    "collapsed": false
   },
   "outputs": [
    {
     "name": "stdout",
     "output_type": "stream",
     "text": [
      "the price of  TFSC is []\n",
      "the price of  TFSCR is []\n",
      "the price of  TFSCU is []\n",
      "the price of  TFSCW is []\n",
      "the price of  PIH is []\n",
      "the price of  FLWS is []\n",
      "the price of  FCTY is []\n",
      "the price of  FCCY is []\n",
      "the price of  SRCE is []\n",
      "the price of  VNET is []\n",
      "the price of  TWOU is []\n",
      "the price of  JOBS is []\n",
      "the price of  CAFD is []\n",
      "the price of  EGHT is []\n",
      "the price of  AVHI is []\n",
      "the price of  SHLM is []\n",
      "the price of  AAON is []\n",
      "the price of  ABAX is []\n",
      "the price of  ABEO is []\n"
     ]
    },
    {
     "ename": "KeyboardInterrupt",
     "evalue": "",
     "output_type": "error",
     "traceback": [
      "\u001b[1;31m---------------------------------------------------------------------------\u001b[0m",
      "\u001b[1;31mKeyboardInterrupt\u001b[0m                         Traceback (most recent call last)",
      "\u001b[1;32m<ipython-input-23-7ad7f21dc3c4>\u001b[0m in \u001b[0;36m<module>\u001b[1;34m()\u001b[0m\n\u001b[0;32m      2\u001b[0m     \u001b[0murls\u001b[0m \u001b[1;33m=\u001b[0m \u001b[1;34m\"http://finance.yahoo.com/q?s=\"\u001b[0m\u001b[1;33m+\u001b[0m \u001b[0mi\u001b[0m \u001b[1;33m+\u001b[0m \u001b[1;34m\"&ql=0\"\u001b[0m\u001b[1;33m\u001b[0m\u001b[0m\n\u001b[0;32m      3\u001b[0m     \u001b[0mhtmlfile\u001b[0m \u001b[1;33m=\u001b[0m \u001b[0murllib\u001b[0m\u001b[1;33m.\u001b[0m\u001b[0murlopen\u001b[0m\u001b[1;33m(\u001b[0m\u001b[0murls\u001b[0m\u001b[1;33m)\u001b[0m\u001b[1;33m\u001b[0m\u001b[0m\n\u001b[1;32m----> 4\u001b[1;33m     \u001b[0mhtmltext\u001b[0m \u001b[1;33m=\u001b[0m \u001b[0mhtmlfile\u001b[0m\u001b[1;33m.\u001b[0m\u001b[0mread\u001b[0m\u001b[1;33m(\u001b[0m\u001b[1;33m)\u001b[0m\u001b[1;33m\u001b[0m\u001b[0m\n\u001b[0m\u001b[0;32m      5\u001b[0m     \u001b[0mregex\u001b[0m \u001b[1;33m=\u001b[0m \u001b[1;34m'<span id=\"yfs_l84_'\u001b[0m\u001b[1;33m+\u001b[0m \u001b[0mi\u001b[0m \u001b[1;33m+\u001b[0m\u001b[1;34m'\">(.+?)</span>'\u001b[0m\u001b[1;33m\u001b[0m\u001b[0m\n\u001b[0;32m      6\u001b[0m     \u001b[0mpattern\u001b[0m \u001b[1;33m=\u001b[0m \u001b[0mre\u001b[0m\u001b[1;33m.\u001b[0m\u001b[0mcompile\u001b[0m\u001b[1;33m(\u001b[0m\u001b[0mregex\u001b[0m\u001b[1;33m)\u001b[0m\u001b[1;33m\u001b[0m\u001b[0m\n",
      "\u001b[1;32mC:\\Anaconda2\\lib\\socket.pyc\u001b[0m in \u001b[0;36mread\u001b[1;34m(self, size)\u001b[0m\n\u001b[0;32m    353\u001b[0m             \u001b[1;32mwhile\u001b[0m \u001b[0mTrue\u001b[0m\u001b[1;33m:\u001b[0m\u001b[1;33m\u001b[0m\u001b[0m\n\u001b[0;32m    354\u001b[0m                 \u001b[1;32mtry\u001b[0m\u001b[1;33m:\u001b[0m\u001b[1;33m\u001b[0m\u001b[0m\n\u001b[1;32m--> 355\u001b[1;33m                     \u001b[0mdata\u001b[0m \u001b[1;33m=\u001b[0m \u001b[0mself\u001b[0m\u001b[1;33m.\u001b[0m\u001b[0m_sock\u001b[0m\u001b[1;33m.\u001b[0m\u001b[0mrecv\u001b[0m\u001b[1;33m(\u001b[0m\u001b[0mrbufsize\u001b[0m\u001b[1;33m)\u001b[0m\u001b[1;33m\u001b[0m\u001b[0m\n\u001b[0m\u001b[0;32m    356\u001b[0m                 \u001b[1;32mexcept\u001b[0m \u001b[0merror\u001b[0m\u001b[1;33m,\u001b[0m \u001b[0me\u001b[0m\u001b[1;33m:\u001b[0m\u001b[1;33m\u001b[0m\u001b[0m\n\u001b[0;32m    357\u001b[0m                     \u001b[1;32mif\u001b[0m \u001b[0me\u001b[0m\u001b[1;33m.\u001b[0m\u001b[0margs\u001b[0m\u001b[1;33m[\u001b[0m\u001b[1;36m0\u001b[0m\u001b[1;33m]\u001b[0m \u001b[1;33m==\u001b[0m \u001b[0mEINTR\u001b[0m\u001b[1;33m:\u001b[0m\u001b[1;33m\u001b[0m\u001b[0m\n",
      "\u001b[1;31mKeyboardInterrupt\u001b[0m: "
     ]
    }
   ],
   "source": [
    "for i in symbol_list[1:100]:\n",
    "    urls = \"http://finance.yahoo.com/q?s=\"+ i + \"&ql=0\"\n",
    "    htmlfile = urllib.urlopen(urls)\n",
    "    htmltext = htmlfile.read()\n",
    "    regex = '<span id=\"yfs_l84_'+ i +'\">(.+?)</span>'\n",
    "    pattern = re.compile(regex)\n",
    "    price = re.findall(pattern, htmltext)\n",
    "    print \"the price of \", i ,\"is\", price # price[0]"
   ]
  },
  {
   "cell_type": "code",
   "execution_count": 24,
   "metadata": {
    "collapsed": false
   },
   "outputs": [
    {
     "name": "stdout",
     "output_type": "stream",
     "text": [
      "1 the price of  TFSC is []\n",
      "2 the price of  TFSCR is []\n",
      "3 the price of  TFSCU is []\n",
      "4 the price of  TFSCW is []\n",
      "5 the price of  PIH is []\n",
      "6 the price of  FLWS is []\n",
      "7 the price of  FCTY is []\n",
      "8 the price of  FCCY is []\n",
      "9 the price of  SRCE is []\n",
      "10 the price of  VNET is []\n",
      "11 the price of  TWOU is []\n",
      "12 the price of  JOBS is []\n",
      "13 the price of  CAFD is []\n",
      "14 the price of  EGHT is []\n",
      "15 the price of  AVHI is []\n",
      "16 the price of  SHLM is []\n",
      "17 the price of  AAON is []\n",
      "18 the price of  ABAX is []\n",
      "19 the price of  ABEO is []\n"
     ]
    }
   ],
   "source": [
    "j=1\n",
    "for i in symbol_list[1:20]:\n",
    "    urls = \"http://finance.yahoo.com/q?s=\"+ i + \"&ql=0\"\n",
    "    htmlfile = urllib.urlopen(urls)\n",
    "    htmltext = htmlfile.read()\n",
    "    regex = '<span id=\"yfs_l84_[^.]*\">(.+?)</span>'  # any number of character, either upper case or lower case can be accessed here.\n",
    "    pattern = re.compile(regex)\n",
    "    price = re.findall(pattern, htmltext)\n",
    "    print j, \"the price of \", i ,\"is\", price # price[0]\n",
    "    j+=1"
   ]
  },
  {
   "cell_type": "code",
   "execution_count": 25,
   "metadata": {
    "collapsed": false
   },
   "outputs": [
    {
     "name": "stdout",
     "output_type": "stream",
     "text": [
      "appl 1 min data\n",
      "117.73\n",
      "the total number of stock value are  80\n"
     ]
    }
   ],
   "source": [
    "## downloading 1 min stock price of appl\n",
    "htmltext = urllib.urlopen(\"http://www.bloomberg.com/markets/api/bulk-time-series/price/AAPL%3AUS?timeFrame=1_DAY\")\n",
    "data = json.load(htmltext)\n",
    "print \"appl 1 min data\"\n",
    "print data[0][\"price\"][2][\"value\"]\n",
    "datapoint = data[0][\"price\"]\n",
    "# for point in datapoint:\n",
    "#     print point[\"value\"]\n",
    "print \"the total number of stock value are \", len(datapoint)"
   ]
  },
  {
   "cell_type": "code",
   "execution_count": 26,
   "metadata": {
    "collapsed": false,
    "scrolled": false
   },
   "outputs": [
    {
     "name": "stdout",
     "output_type": "stream",
     "text": [
      "CAFD\n",
      "TFSC\n",
      "TFSCR\n",
      "TFSCU\n",
      "TFSCW\n",
      "PIH\n",
      "FLWS\n",
      "FCTY\n",
      "FCCY\n",
      "SRCE\n",
      "VNET\n",
      "TWOU\n",
      "JOBS\n",
      "CAFD\n",
      "EGHT\n",
      "AVHI\n",
      "SHLM\n",
      "AAON\n",
      "ABAX\n",
      "ABEO\n",
      "ABEOW\n",
      "ABIL\n",
      "ABMD\n",
      "AXAS\n",
      "ACIA\n",
      "ACTG\n",
      "ACHC\n",
      "ACAD\n",
      "ACST\n",
      "AXDX\n",
      "XLRN\n",
      "ANCX\n",
      "ARAY\n",
      "VXDN\n",
      "VXUP\n"
     ]
    },
    {
     "ename": "IOError",
     "evalue": "[Errno socket error] [Errno 10060] A connection attempt failed because the connected party did not properly respond after a period of time, or established connection failed because connected host has failed to respond",
     "output_type": "error",
     "traceback": [
      "\u001b[1;31m---------------------------------------------------------------------------\u001b[0m",
      "\u001b[1;31mIOError\u001b[0m                                   Traceback (most recent call last)",
      "\u001b[1;32m<ipython-input-26-8993f3602aee>\u001b[0m in \u001b[0;36m<module>\u001b[1;34m()\u001b[0m\n\u001b[0;32m      7\u001b[0m     \u001b[0mmyfile\u001b[0m\u001b[1;33m.\u001b[0m\u001b[0mclose\u001b[0m\u001b[1;33m(\u001b[0m\u001b[1;33m)\u001b[0m\u001b[1;33m\u001b[0m\u001b[0m\n\u001b[0;32m      8\u001b[0m \u001b[1;33m\u001b[0m\u001b[0m\n\u001b[1;32m----> 9\u001b[1;33m     \u001b[0mhtmltext\u001b[0m \u001b[1;33m=\u001b[0m \u001b[0murllib\u001b[0m\u001b[1;33m.\u001b[0m\u001b[0murlopen\u001b[0m\u001b[1;33m(\u001b[0m\u001b[1;34m\"http://www.bloomberg.com/markets/api/bulk-time-series/price/\"\u001b[0m\u001b[1;33m+\u001b[0m \u001b[0msymbol\u001b[0m \u001b[1;33m+\u001b[0m\u001b[1;34m\"%3AUS?timeFrame=1_DAY\"\u001b[0m\u001b[1;33m)\u001b[0m\u001b[1;33m\u001b[0m\u001b[0m\n\u001b[0m\u001b[0;32m     10\u001b[0m     \u001b[0mdata\u001b[0m \u001b[1;33m=\u001b[0m \u001b[0mjson\u001b[0m\u001b[1;33m.\u001b[0m\u001b[0mload\u001b[0m\u001b[1;33m(\u001b[0m\u001b[0mhtmltext\u001b[0m\u001b[1;33m)\u001b[0m\u001b[1;33m\u001b[0m\u001b[0m\n\u001b[0;32m     11\u001b[0m     \u001b[1;31m# print data[0][\"price\"]\u001b[0m\u001b[1;33m\u001b[0m\u001b[1;33m\u001b[0m\u001b[0m\n",
      "\u001b[1;32mC:\\Anaconda2\\lib\\urllib.pyc\u001b[0m in \u001b[0;36murlopen\u001b[1;34m(url, data, proxies, context)\u001b[0m\n\u001b[0;32m     85\u001b[0m         \u001b[0mopener\u001b[0m \u001b[1;33m=\u001b[0m \u001b[0m_urlopener\u001b[0m\u001b[1;33m\u001b[0m\u001b[0m\n\u001b[0;32m     86\u001b[0m     \u001b[1;32mif\u001b[0m \u001b[0mdata\u001b[0m \u001b[1;32mis\u001b[0m \u001b[0mNone\u001b[0m\u001b[1;33m:\u001b[0m\u001b[1;33m\u001b[0m\u001b[0m\n\u001b[1;32m---> 87\u001b[1;33m         \u001b[1;32mreturn\u001b[0m \u001b[0mopener\u001b[0m\u001b[1;33m.\u001b[0m\u001b[0mopen\u001b[0m\u001b[1;33m(\u001b[0m\u001b[0murl\u001b[0m\u001b[1;33m)\u001b[0m\u001b[1;33m\u001b[0m\u001b[0m\n\u001b[0m\u001b[0;32m     88\u001b[0m     \u001b[1;32melse\u001b[0m\u001b[1;33m:\u001b[0m\u001b[1;33m\u001b[0m\u001b[0m\n\u001b[0;32m     89\u001b[0m         \u001b[1;32mreturn\u001b[0m \u001b[0mopener\u001b[0m\u001b[1;33m.\u001b[0m\u001b[0mopen\u001b[0m\u001b[1;33m(\u001b[0m\u001b[0murl\u001b[0m\u001b[1;33m,\u001b[0m \u001b[0mdata\u001b[0m\u001b[1;33m)\u001b[0m\u001b[1;33m\u001b[0m\u001b[0m\n",
      "\u001b[1;32mC:\\Anaconda2\\lib\\urllib.pyc\u001b[0m in \u001b[0;36mopen\u001b[1;34m(self, fullurl, data)\u001b[0m\n\u001b[0;32m    211\u001b[0m         \u001b[1;32mtry\u001b[0m\u001b[1;33m:\u001b[0m\u001b[1;33m\u001b[0m\u001b[0m\n\u001b[0;32m    212\u001b[0m             \u001b[1;32mif\u001b[0m \u001b[0mdata\u001b[0m \u001b[1;32mis\u001b[0m \u001b[0mNone\u001b[0m\u001b[1;33m:\u001b[0m\u001b[1;33m\u001b[0m\u001b[0m\n\u001b[1;32m--> 213\u001b[1;33m                 \u001b[1;32mreturn\u001b[0m \u001b[0mgetattr\u001b[0m\u001b[1;33m(\u001b[0m\u001b[0mself\u001b[0m\u001b[1;33m,\u001b[0m \u001b[0mname\u001b[0m\u001b[1;33m)\u001b[0m\u001b[1;33m(\u001b[0m\u001b[0murl\u001b[0m\u001b[1;33m)\u001b[0m\u001b[1;33m\u001b[0m\u001b[0m\n\u001b[0m\u001b[0;32m    214\u001b[0m             \u001b[1;32melse\u001b[0m\u001b[1;33m:\u001b[0m\u001b[1;33m\u001b[0m\u001b[0m\n\u001b[0;32m    215\u001b[0m                 \u001b[1;32mreturn\u001b[0m \u001b[0mgetattr\u001b[0m\u001b[1;33m(\u001b[0m\u001b[0mself\u001b[0m\u001b[1;33m,\u001b[0m \u001b[0mname\u001b[0m\u001b[1;33m)\u001b[0m\u001b[1;33m(\u001b[0m\u001b[0murl\u001b[0m\u001b[1;33m,\u001b[0m \u001b[0mdata\u001b[0m\u001b[1;33m)\u001b[0m\u001b[1;33m\u001b[0m\u001b[0m\n",
      "\u001b[1;32mC:\\Anaconda2\\lib\\urllib.pyc\u001b[0m in \u001b[0;36mopen_http\u001b[1;34m(self, url, data)\u001b[0m\n\u001b[0;32m    348\u001b[0m         \u001b[1;32mif\u001b[0m \u001b[0mrealhost\u001b[0m\u001b[1;33m:\u001b[0m \u001b[0mh\u001b[0m\u001b[1;33m.\u001b[0m\u001b[0mputheader\u001b[0m\u001b[1;33m(\u001b[0m\u001b[1;34m'Host'\u001b[0m\u001b[1;33m,\u001b[0m \u001b[0mrealhost\u001b[0m\u001b[1;33m)\u001b[0m\u001b[1;33m\u001b[0m\u001b[0m\n\u001b[0;32m    349\u001b[0m         \u001b[1;32mfor\u001b[0m \u001b[0margs\u001b[0m \u001b[1;32min\u001b[0m \u001b[0mself\u001b[0m\u001b[1;33m.\u001b[0m\u001b[0maddheaders\u001b[0m\u001b[1;33m:\u001b[0m \u001b[0mh\u001b[0m\u001b[1;33m.\u001b[0m\u001b[0mputheader\u001b[0m\u001b[1;33m(\u001b[0m\u001b[1;33m*\u001b[0m\u001b[0margs\u001b[0m\u001b[1;33m)\u001b[0m\u001b[1;33m\u001b[0m\u001b[0m\n\u001b[1;32m--> 350\u001b[1;33m         \u001b[0mh\u001b[0m\u001b[1;33m.\u001b[0m\u001b[0mendheaders\u001b[0m\u001b[1;33m(\u001b[0m\u001b[0mdata\u001b[0m\u001b[1;33m)\u001b[0m\u001b[1;33m\u001b[0m\u001b[0m\n\u001b[0m\u001b[0;32m    351\u001b[0m         \u001b[0merrcode\u001b[0m\u001b[1;33m,\u001b[0m \u001b[0merrmsg\u001b[0m\u001b[1;33m,\u001b[0m \u001b[0mheaders\u001b[0m \u001b[1;33m=\u001b[0m \u001b[0mh\u001b[0m\u001b[1;33m.\u001b[0m\u001b[0mgetreply\u001b[0m\u001b[1;33m(\u001b[0m\u001b[1;33m)\u001b[0m\u001b[1;33m\u001b[0m\u001b[0m\n\u001b[0;32m    352\u001b[0m         \u001b[0mfp\u001b[0m \u001b[1;33m=\u001b[0m \u001b[0mh\u001b[0m\u001b[1;33m.\u001b[0m\u001b[0mgetfile\u001b[0m\u001b[1;33m(\u001b[0m\u001b[1;33m)\u001b[0m\u001b[1;33m\u001b[0m\u001b[0m\n",
      "\u001b[1;32mC:\\Anaconda2\\lib\\httplib.pyc\u001b[0m in \u001b[0;36mendheaders\u001b[1;34m(self, message_body)\u001b[0m\n\u001b[0;32m   1051\u001b[0m         \u001b[1;32melse\u001b[0m\u001b[1;33m:\u001b[0m\u001b[1;33m\u001b[0m\u001b[0m\n\u001b[0;32m   1052\u001b[0m             \u001b[1;32mraise\u001b[0m \u001b[0mCannotSendHeader\u001b[0m\u001b[1;33m(\u001b[0m\u001b[1;33m)\u001b[0m\u001b[1;33m\u001b[0m\u001b[0m\n\u001b[1;32m-> 1053\u001b[1;33m         \u001b[0mself\u001b[0m\u001b[1;33m.\u001b[0m\u001b[0m_send_output\u001b[0m\u001b[1;33m(\u001b[0m\u001b[0mmessage_body\u001b[0m\u001b[1;33m)\u001b[0m\u001b[1;33m\u001b[0m\u001b[0m\n\u001b[0m\u001b[0;32m   1054\u001b[0m \u001b[1;33m\u001b[0m\u001b[0m\n\u001b[0;32m   1055\u001b[0m     \u001b[1;32mdef\u001b[0m \u001b[0mrequest\u001b[0m\u001b[1;33m(\u001b[0m\u001b[0mself\u001b[0m\u001b[1;33m,\u001b[0m \u001b[0mmethod\u001b[0m\u001b[1;33m,\u001b[0m \u001b[0murl\u001b[0m\u001b[1;33m,\u001b[0m \u001b[0mbody\u001b[0m\u001b[1;33m=\u001b[0m\u001b[0mNone\u001b[0m\u001b[1;33m,\u001b[0m \u001b[0mheaders\u001b[0m\u001b[1;33m=\u001b[0m\u001b[1;33m{\u001b[0m\u001b[1;33m}\u001b[0m\u001b[1;33m)\u001b[0m\u001b[1;33m:\u001b[0m\u001b[1;33m\u001b[0m\u001b[0m\n",
      "\u001b[1;32mC:\\Anaconda2\\lib\\httplib.pyc\u001b[0m in \u001b[0;36m_send_output\u001b[1;34m(self, message_body)\u001b[0m\n\u001b[0;32m    895\u001b[0m             \u001b[0mmsg\u001b[0m \u001b[1;33m+=\u001b[0m \u001b[0mmessage_body\u001b[0m\u001b[1;33m\u001b[0m\u001b[0m\n\u001b[0;32m    896\u001b[0m             \u001b[0mmessage_body\u001b[0m \u001b[1;33m=\u001b[0m \u001b[0mNone\u001b[0m\u001b[1;33m\u001b[0m\u001b[0m\n\u001b[1;32m--> 897\u001b[1;33m         \u001b[0mself\u001b[0m\u001b[1;33m.\u001b[0m\u001b[0msend\u001b[0m\u001b[1;33m(\u001b[0m\u001b[0mmsg\u001b[0m\u001b[1;33m)\u001b[0m\u001b[1;33m\u001b[0m\u001b[0m\n\u001b[0m\u001b[0;32m    898\u001b[0m         \u001b[1;32mif\u001b[0m \u001b[0mmessage_body\u001b[0m \u001b[1;32mis\u001b[0m \u001b[1;32mnot\u001b[0m \u001b[0mNone\u001b[0m\u001b[1;33m:\u001b[0m\u001b[1;33m\u001b[0m\u001b[0m\n\u001b[0;32m    899\u001b[0m             \u001b[1;31m#message_body was not a string (i.e. it is a file) and\u001b[0m\u001b[1;33m\u001b[0m\u001b[1;33m\u001b[0m\u001b[0m\n",
      "\u001b[1;32mC:\\Anaconda2\\lib\\httplib.pyc\u001b[0m in \u001b[0;36msend\u001b[1;34m(self, data)\u001b[0m\n\u001b[0;32m    857\u001b[0m         \u001b[1;32mif\u001b[0m \u001b[0mself\u001b[0m\u001b[1;33m.\u001b[0m\u001b[0msock\u001b[0m \u001b[1;32mis\u001b[0m \u001b[0mNone\u001b[0m\u001b[1;33m:\u001b[0m\u001b[1;33m\u001b[0m\u001b[0m\n\u001b[0;32m    858\u001b[0m             \u001b[1;32mif\u001b[0m \u001b[0mself\u001b[0m\u001b[1;33m.\u001b[0m\u001b[0mauto_open\u001b[0m\u001b[1;33m:\u001b[0m\u001b[1;33m\u001b[0m\u001b[0m\n\u001b[1;32m--> 859\u001b[1;33m                 \u001b[0mself\u001b[0m\u001b[1;33m.\u001b[0m\u001b[0mconnect\u001b[0m\u001b[1;33m(\u001b[0m\u001b[1;33m)\u001b[0m\u001b[1;33m\u001b[0m\u001b[0m\n\u001b[0m\u001b[0;32m    860\u001b[0m             \u001b[1;32melse\u001b[0m\u001b[1;33m:\u001b[0m\u001b[1;33m\u001b[0m\u001b[0m\n\u001b[0;32m    861\u001b[0m                 \u001b[1;32mraise\u001b[0m \u001b[0mNotConnected\u001b[0m\u001b[1;33m(\u001b[0m\u001b[1;33m)\u001b[0m\u001b[1;33m\u001b[0m\u001b[0m\n",
      "\u001b[1;32mC:\\Anaconda2\\lib\\httplib.pyc\u001b[0m in \u001b[0;36mconnect\u001b[1;34m(self)\u001b[0m\n\u001b[0;32m    834\u001b[0m         \u001b[1;34m\"\"\"Connect to the host and port specified in __init__.\"\"\"\u001b[0m\u001b[1;33m\u001b[0m\u001b[0m\n\u001b[0;32m    835\u001b[0m         self.sock = self._create_connection((self.host,self.port),\n\u001b[1;32m--> 836\u001b[1;33m                                            self.timeout, self.source_address)\n\u001b[0m\u001b[0;32m    837\u001b[0m \u001b[1;33m\u001b[0m\u001b[0m\n\u001b[0;32m    838\u001b[0m         \u001b[1;32mif\u001b[0m \u001b[0mself\u001b[0m\u001b[1;33m.\u001b[0m\u001b[0m_tunnel_host\u001b[0m\u001b[1;33m:\u001b[0m\u001b[1;33m\u001b[0m\u001b[0m\n",
      "\u001b[1;32mC:\\Anaconda2\\lib\\socket.pyc\u001b[0m in \u001b[0;36mcreate_connection\u001b[1;34m(address, timeout, source_address)\u001b[0m\n\u001b[0;32m    573\u001b[0m \u001b[1;33m\u001b[0m\u001b[0m\n\u001b[0;32m    574\u001b[0m     \u001b[1;32mif\u001b[0m \u001b[0merr\u001b[0m \u001b[1;32mis\u001b[0m \u001b[1;32mnot\u001b[0m \u001b[0mNone\u001b[0m\u001b[1;33m:\u001b[0m\u001b[1;33m\u001b[0m\u001b[0m\n\u001b[1;32m--> 575\u001b[1;33m         \u001b[1;32mraise\u001b[0m \u001b[0merr\u001b[0m\u001b[1;33m\u001b[0m\u001b[0m\n\u001b[0m\u001b[0;32m    576\u001b[0m     \u001b[1;32melse\u001b[0m\u001b[1;33m:\u001b[0m\u001b[1;33m\u001b[0m\u001b[0m\n\u001b[0;32m    577\u001b[0m         \u001b[1;32mraise\u001b[0m \u001b[0merror\u001b[0m\u001b[1;33m(\u001b[0m\u001b[1;34m\"getaddrinfo returns an empty list\"\u001b[0m\u001b[1;33m)\u001b[0m\u001b[1;33m\u001b[0m\u001b[0m\n",
      "\u001b[1;31mIOError\u001b[0m: [Errno socket error] [Errno 10060] A connection attempt failed because the connected party did not properly respond after a period of time, or established connection failed because connected host has failed to respond"
     ]
    }
   ],
   "source": [
    "symbol_list = open(\"symbol.txt\").read()\n",
    "symbol_list = symbol_list.split(\"\\n\")\n",
    "\n",
    "for symbol in symbol_list:\n",
    "    print symbol\n",
    "    myfile = open(\"bloomberg_stock_price/\"+ symbol +\".txt\", \"w+\" )\n",
    "    myfile.close()\n",
    "\n",
    "    htmltext = urllib.urlopen(\"http://www.bloomberg.com/markets/api/bulk-time-series/price/\"+ symbol +\"%3AUS?timeFrame=1_DAY\")\n",
    "    data = json.load(htmltext)\n",
    "    # print data[0][\"price\"]\n",
    "    datapoint = data[0][\"price\"]\n",
    "\n",
    "    myfile = open(\"bloomberg_stock_price/\" + symbol + \".txt\", \"a\")\n",
    "    for point in datapoint:\n",
    "        #print \"at \",point[\"dateTime\"],\", the price is \",point[\"value\"]\n",
    "        myfile.write(str(symbol +\",\" + str(point[\"dateTime\"]) +\",\"+ str(point[\"value\"])+\"\\n\"))\n",
    "        #myfile.close()"
   ]
  },
  {
   "cell_type": "code",
   "execution_count": 40,
   "metadata": {
    "collapsed": false,
    "scrolled": true
   },
   "outputs": [],
   "source": [
    "from threading import Thread\n",
    "import urllib\n",
    "import re\n",
    "import MySQLdb  #import pymysql\n",
    "                #pymysql.install_as_MySQLdb()\n",
    "                #!pip install pymysql"
   ]
  },
  {
   "cell_type": "code",
   "execution_count": 41,
   "metadata": {
    "collapsed": false,
    "scrolled": false
   },
   "outputs": [
    {
     "name": "stdout",
     "output_type": "stream",
     "text": [
      "(Decimal('923'), datetime.datetime(2016, 1, 1, 0, 0), datetime.datetime(2016, 1, 1, 0, 16), 268, 'Howard St & Centre St', Decimal('41'), Decimal('-74'), 3002, 'South End Ave & Liberty St', Decimal('41'), Decimal('-74'), 22285, 'Subscriber', '1958', '1')\n",
      "(Decimal('379'), datetime.datetime(2016, 1, 1, 0, 0), datetime.datetime(2016, 1, 1, 0, 7), 476, 'E 31 St & 3 Ave', Decimal('41'), Decimal('-74'), 498, 'Broadway & W 32 St', Decimal('41'), Decimal('-74'), 17827, 'Subscriber', '1969', '1')\n",
      "(Decimal('589'), datetime.datetime(2016, 1, 1, 0, 0), datetime.datetime(2016, 1, 1, 0, 10), 489, '10 Ave & W 28 St', Decimal('41'), Decimal('-74'), 284, 'Greenwich Ave & 8 Ave', Decimal('41'), Decimal('-74'), 21997, 'Subscriber', '1982', '2')\n",
      "(Decimal('889'), datetime.datetime(2016, 1, 1, 0, 1), datetime.datetime(2016, 1, 1, 0, 15), 268, 'Howard St & Centre St', Decimal('41'), Decimal('-74'), 3002, 'South End Ave & Liberty St', Decimal('41'), Decimal('-74'), 22794, 'Subscriber', '1961', '2')\n",
      "(Decimal('1480'), datetime.datetime(2016, 1, 1, 0, 1), datetime.datetime(2016, 1, 1, 0, 25), 2006, 'Central Park S & 6 Ave', Decimal('41'), Decimal('-74'), 2006, 'Central Park S & 6 Ave', Decimal('41'), Decimal('-74'), 14562, 'Subscriber', '1952', '1')\n",
      "(Decimal('332'), datetime.datetime(2016, 1, 1, 0, 1), datetime.datetime(2016, 1, 1, 0, 6), 3104, 'Kent Ave & N 7 St', Decimal('41'), Decimal('-74'), 389, 'Broadway & Berry St', Decimal('41'), Decimal('-74'), 15788, 'Subscriber', '1984', '1')\n",
      "(Decimal('2321'), datetime.datetime(2016, 1, 1, 0, 1), datetime.datetime(2016, 1, 1, 0, 40), 3167, 'Amsterdam Ave & W 73 St', Decimal('41'), Decimal('-74'), 3164, 'Columbus Ave & W 72 St', Decimal('41'), Decimal('-74'), 24183, 'Subscriber', '1963', '1')\n",
      "(Decimal('694'), datetime.datetime(2016, 1, 1, 0, 2), datetime.datetime(2016, 1, 1, 0, 13), 268, 'Howard St & Centre St', Decimal('41'), Decimal('-74'), 497, 'E 17 St & Broadway', Decimal('41'), Decimal('-74'), 15747, 'Subscriber', '1996', '1')\n",
      "(Decimal('1376'), datetime.datetime(2016, 1, 1, 0, 3), datetime.datetime(2016, 1, 1, 0, 26), 527, 'E 33 St & 2 Ave', Decimal('41'), Decimal('-74'), 259, 'South St & Whitehall St', Decimal('41'), Decimal('-74'), 23933, 'Subscriber', '1963', '1')\n",
      "(Decimal('615'), datetime.datetime(2016, 1, 1, 0, 3), datetime.datetime(2016, 1, 1, 0, 13), 432, 'E 7 St & Avenue A', Decimal('41'), Decimal('-74'), 311, 'Norfolk St & Broome St', Decimal('41'), Decimal('-74'), 23993, 'Subscriber', '1971', '1')\n"
     ]
    }
   ],
   "source": [
    "conn = MySQLdb.connect(host=\"localhost\", user=\"root\", passwd=\"1234\", db=\"citibike\")\n",
    "c = conn.cursor()\n",
    "c.execute(\"select * from trips_raw limit 10\")\n",
    "rows = c.fetchall()\n",
    "for i in rows:\n",
    "    print i;"
   ]
  },
  {
   "cell_type": "code",
   "execution_count": 43,
   "metadata": {
    "collapsed": false,
    "scrolled": true
   },
   "outputs": [
    {
     "name": "stdout",
     "output_type": "stream",
     "text": [
      "['http://www.google.com', 'http://www.cnn.com', 'http://www.yahoo.com', 'http://www.wikipedia.com']\n"
     ]
    }
   ],
   "source": [
    "def th(ur):\n",
    "    regex = \"<title>.+?</title>\"\n",
    "    pattern = re.compile(regex)\n",
    "    htmltext = urllib.urlopen(ur).read()\n",
    "    results = re.findall(pattern, htmltext)\n",
    "    print results\n",
    "urls = \"http://www.google.com http://www.cnn.com http://www.yahoo.com http://www.wikipedia.com\".split()\n",
    "threadlist = []\n",
    "print urls"
   ]
  },
  {
   "cell_type": "code",
   "execution_count": 44,
   "metadata": {
    "collapsed": false
   },
   "outputs": [
    {
     "name": "stdout",
     "output_type": "stream",
     "text": [
      "['<title>Google</title>']\n",
      "['<title>CNN - Breaking News, Latest News and Videos</title>']\n",
      "['<title>Wikipedia</title>']\n",
      "['<title>Yahoo</title>']\n"
     ]
    }
   ],
   "source": [
    "for u in urls:\n",
    "    t = Thread(target=th, args=(u,))\n",
    "    t.start()\n",
    "    threadlist.append(t)\n",
    "for b in threadlist:\n",
    "    b.join()"
   ]
  },
  {
   "cell_type": "code",
   "execution_count": 45,
   "metadata": {
    "collapsed": true
   },
   "outputs": [],
   "source": [
    "## request result form yahoo finance\n",
    "gmap = {}\n",
    "def th(ur):\n",
    "    base = \"http://finance.yahoo.com/q?s=\" + ur\n",
    "    regex = '<span id=\"yfs_l84_[^.]*\">(.+?)</span>'\n",
    "    pattern = re.compile(regex)\n",
    "    htmltext = urllib.urlopen(base).read()\n",
    "    results = re.findall(pattern, htmltext)\n",
    "    print \"the price of \" + str(ur) + \" is \" + str(results)\n",
    "    try:\n",
    "        gmap[ur] = results[0]\n",
    "    except:\n",
    "        print \"got an error\""
   ]
  },
  {
   "cell_type": "code",
   "execution_count": 47,
   "metadata": {
    "collapsed": false
   },
   "outputs": [
    {
     "name": "stdout",
     "output_type": "stream",
     "text": [
      "['CAFD', 'TFSC', 'TFSCR', 'TFSCU', 'TFSCW', 'PIH', 'FLWS', 'FCTY', 'FCCY', 'SRCE']\n"
     ]
    }
   ],
   "source": [
    "symbol_list = open(\"symbol.txt\").read()\n",
    "symbol_list = symbol_list.split(\"\\n\")\n",
    "print symbol_list[:10]"
   ]
  },
  {
   "cell_type": "code",
   "execution_count": 48,
   "metadata": {
    "collapsed": false,
    "scrolled": true
   },
   "outputs": [
    {
     "name": "stdout",
     "output_type": "stream",
     "text": [
      "the price of TWOU is []\n",
      "got an error\n",
      "the price of ABAX is []\n",
      "got an error\n",
      "the price of AKAO is []\n",
      "got an error\n",
      "the price of ATVI is []\n",
      "got an error\n",
      "the price of AMD is []\n",
      "got an error\n",
      "the price of ADMS is []\n",
      "got an error\n",
      "the price of AEPI is []\n",
      "got an error\n",
      "the price of ADRO is []\n",
      "got an error\n",
      "the price of AKAM is []the price of ALSK is []\n",
      "\n",
      "got an errorgot an error\n",
      "\n",
      "the price of CAFD is []\n",
      "got an error\n",
      "the price of VXUP is []\n",
      "got an error\n"
     ]
    }
   ],
   "source": [
    "threadlist = []\n",
    "for u in symbol_list[0:100]:\n",
    "    t = Thread(target=th, args=(u,))\n",
    "    t.start()\n",
    "    threadlist.append(t)"
   ]
  },
  {
   "cell_type": "code",
   "execution_count": 49,
   "metadata": {
    "collapsed": false,
    "scrolled": true
   },
   "outputs": [
    {
     "name": "stdout",
     "output_type": "stream",
     "text": [
      "the price of ABIL is []\n",
      "got an errorthe price of TFSCR is []\n",
      "\n",
      "got an error\n",
      "the price of ACST is []\n",
      "got an error\n",
      "the price of AVHI is []\n",
      "got an error\n",
      "the price of ACET is []\n",
      "got an error\n",
      "the price of AXAS is []\n",
      "got an error\n",
      "the price of TFSCW is []\n",
      "got an error\n",
      "the price of ACXM is []\n",
      "got an error\n",
      "the price of PIH is []\n",
      "got an error\n",
      "the price of JOBS is []\n",
      "got an error\n",
      "the price of IOTS is []\n",
      "got an error\n",
      "the price of ACIW is []\n",
      "got an error\n",
      "the price of ACAD is []\n",
      "got an error\n",
      "the price of ACRX is []\n",
      "got an error\n",
      "the price of ADTN is []\n",
      "got an error\n",
      "the price of FCCY is []\n",
      "got an error\n",
      "the price of ADMP is []\n",
      "got an error\n",
      "the price of EGHT is []\n",
      "got an error\n",
      "the price of ACUR is []\n",
      "got an error\n",
      "the price of AKER is []\n",
      "got an error\n",
      "the price of ARAY is []\n",
      "got an error\n",
      "the price of AKBA is []\n",
      "got an error\n",
      "the price of ACIA is []\n",
      "got an error\n",
      "the price of FCTY is []\n",
      "got an error\n",
      "the price of AGYS is []\n",
      "got an error\n",
      "the price of ADMA is []\n",
      "got an error\n",
      "the price of FLWS is []\n",
      "got an error\n",
      "the price of AITPF is []\n",
      "got an error\n",
      "the price of ACHC is []\n",
      "got an error\n",
      "the price of AIXG is []\n",
      "got an error\n",
      "the price of VXDN is []\n",
      "got an error\n",
      "the price of ACHN is []\n",
      "got an error\n",
      "the price of AGFSW is []\n",
      "got an error\n",
      "the price of AGFS is []\n",
      "got an error\n",
      "the price of XLRN is []\n",
      "got an error\n",
      "the price of ANCX is []the price of YPRO is []\n",
      "got an error\n",
      "\n",
      "got an error\n",
      "the price of ADBE is []\n",
      "got an error\n",
      "the price of AKRX is []\n",
      "got an error\n",
      "the price of AMTX is []\n",
      "got an error\n",
      "the price of ACRS is []\n",
      "got an error\n",
      "the price of AMRI is []\n",
      "got an error\n",
      "the price of SHLM is []\n",
      "got an error\n",
      "the price of VNET is []\n",
      "got an error\n",
      "the price of ADAP is []\n",
      "got an error\n",
      "the price of AEGN is []\n",
      "got an error\n",
      "the price of TFSC is []\n",
      "got an error\n",
      "the price of AXDX is []\n",
      "got an error\n",
      "the price of AGRX is []\n",
      "got an error\n",
      "the price of AIMT is []\n",
      "got an error\n",
      "the price of ABDC is []\n",
      "got an error\n",
      "the price of MAUI is []\n",
      "got an error\n",
      "the price of AKTX is []the price of AIRT is []\n",
      " \n",
      "the price of ADVM is []got an errorgot an error\n",
      "\n",
      "\n",
      "got an error\n",
      "the price of AMCN is []\n",
      "got an error\n",
      "the price of ACOR is []\n",
      "got an error\n",
      "the price of AVAV is []\n",
      "got an error\n",
      "the price of ACTA is []\n",
      "got an error\n",
      "the price of ABEOW is []\n",
      "got an error\n",
      "the price of AGIO is []\n",
      "got an error\n",
      "the price of AEGR is []the price of ADUS is []\n",
      "\n",
      "got an errorgot an error\n",
      "\n",
      "the price of AEMD is []\n",
      "got an error\n",
      "the price of AERI is []\n",
      "got an error\n",
      "the price of ACTG is []\n",
      "got an error\n",
      "the price of AEY is []\n",
      "got an error\n",
      "the price of AGLE is []\n",
      "got an error\n",
      "the price of ADXS is []\n",
      "got an error\n",
      "the price of AEIS is []\n",
      "got an error\n",
      "the price of ADXSW is []\n",
      "got an error\n",
      "the price of ACTS is []\n",
      "got an error\n",
      "the price of SRCE is []\n",
      "got an error\n",
      "the price of ALRM is []\n",
      "got an error\n",
      "the price of ABEO is []\n",
      "got an error\n",
      "the price of ATSG is []\n",
      "got an error\n",
      "the price of ABMD is []the price of AAON is []\n",
      "\n",
      "got an errorgot an error\n",
      "\n",
      "the price of AGEN is []\n",
      "got an error\n",
      "the price of AAAP is []the price of AEHR is []\n",
      "got an error\n",
      "\n",
      "got an error\n",
      "the price of TFSCU is []\n",
      "got an error\n",
      "the price of ACNB is []\n",
      "got an errorthe price of AIRM is []\n",
      "\n",
      "got an error\n",
      "the price of CAFD is []\n",
      "got an error\n",
      "the price of AEZS is []\n",
      "got an error\n",
      "the price of ACPW is []\n",
      "got an error\n",
      "the price of AFMD is []\n",
      "got an error\n"
     ]
    },
    {
     "ename": "KeyboardInterrupt",
     "evalue": "",
     "output_type": "error",
     "traceback": [
      "\u001b[1;31m---------------------------------------------------------------------------\u001b[0m",
      "\u001b[1;31mKeyboardInterrupt\u001b[0m                         Traceback (most recent call last)",
      "\u001b[1;32m<ipython-input-49-fad86830081e>\u001b[0m in \u001b[0;36m<module>\u001b[1;34m()\u001b[0m\n\u001b[0;32m      1\u001b[0m \u001b[1;32mfor\u001b[0m \u001b[0mb\u001b[0m \u001b[1;32min\u001b[0m \u001b[0mthreadlist\u001b[0m\u001b[1;33m:\u001b[0m\u001b[1;33m\u001b[0m\u001b[0m\n\u001b[1;32m----> 2\u001b[1;33m     \u001b[0mb\u001b[0m\u001b[1;33m.\u001b[0m\u001b[0mjoin\u001b[0m\u001b[1;33m(\u001b[0m\u001b[1;33m)\u001b[0m\u001b[1;33m\u001b[0m\u001b[0m\n\u001b[0m\u001b[0;32m      3\u001b[0m \u001b[1;33m\u001b[0m\u001b[0m\n\u001b[0;32m      4\u001b[0m \u001b[0mconn\u001b[0m \u001b[1;33m=\u001b[0m \u001b[0mMySQLdb\u001b[0m\u001b[1;33m.\u001b[0m\u001b[0mconnect\u001b[0m\u001b[1;33m(\u001b[0m\u001b[0mhost\u001b[0m\u001b[1;33m=\u001b[0m\u001b[1;34m\"localhost\"\u001b[0m\u001b[1;33m,\u001b[0m \u001b[0muser\u001b[0m\u001b[1;33m=\u001b[0m\u001b[1;34m\"root\"\u001b[0m\u001b[1;33m,\u001b[0m \u001b[0mpasswd\u001b[0m\u001b[1;33m=\u001b[0m\u001b[1;34m\"1234\"\u001b[0m\u001b[1;33m,\u001b[0m \u001b[0mdb\u001b[0m\u001b[1;33m=\u001b[0m\u001b[1;34m\"stocks\"\u001b[0m\u001b[1;33m)\u001b[0m\u001b[1;33m\u001b[0m\u001b[0m\n\u001b[0;32m      5\u001b[0m \u001b[1;33m\u001b[0m\u001b[0m\n",
      "\u001b[1;32mC:\\Anaconda2\\lib\\threading.pyc\u001b[0m in \u001b[0;36mjoin\u001b[1;34m(self, timeout)\u001b[0m\n\u001b[0;32m    938\u001b[0m             \u001b[1;32mif\u001b[0m \u001b[0mtimeout\u001b[0m \u001b[1;32mis\u001b[0m \u001b[0mNone\u001b[0m\u001b[1;33m:\u001b[0m\u001b[1;33m\u001b[0m\u001b[0m\n\u001b[0;32m    939\u001b[0m                 \u001b[1;32mwhile\u001b[0m \u001b[1;32mnot\u001b[0m \u001b[0mself\u001b[0m\u001b[1;33m.\u001b[0m\u001b[0m__stopped\u001b[0m\u001b[1;33m:\u001b[0m\u001b[1;33m\u001b[0m\u001b[0m\n\u001b[1;32m--> 940\u001b[1;33m                     \u001b[0mself\u001b[0m\u001b[1;33m.\u001b[0m\u001b[0m__block\u001b[0m\u001b[1;33m.\u001b[0m\u001b[0mwait\u001b[0m\u001b[1;33m(\u001b[0m\u001b[1;33m)\u001b[0m\u001b[1;33m\u001b[0m\u001b[0m\n\u001b[0m\u001b[0;32m    941\u001b[0m                 \u001b[1;32mif\u001b[0m \u001b[0m__debug__\u001b[0m\u001b[1;33m:\u001b[0m\u001b[1;33m\u001b[0m\u001b[0m\n\u001b[0;32m    942\u001b[0m                     \u001b[0mself\u001b[0m\u001b[1;33m.\u001b[0m\u001b[0m_note\u001b[0m\u001b[1;33m(\u001b[0m\u001b[1;34m\"%s.join(): thread stopped\"\u001b[0m\u001b[1;33m,\u001b[0m \u001b[0mself\u001b[0m\u001b[1;33m)\u001b[0m\u001b[1;33m\u001b[0m\u001b[0m\n",
      "\u001b[1;32mC:\\Anaconda2\\lib\\threading.pyc\u001b[0m in \u001b[0;36mwait\u001b[1;34m(self, timeout)\u001b[0m\n\u001b[0;32m    338\u001b[0m         \u001b[1;32mtry\u001b[0m\u001b[1;33m:\u001b[0m    \u001b[1;31m# restore state no matter what (e.g., KeyboardInterrupt)\u001b[0m\u001b[1;33m\u001b[0m\u001b[0m\n\u001b[0;32m    339\u001b[0m             \u001b[1;32mif\u001b[0m \u001b[0mtimeout\u001b[0m \u001b[1;32mis\u001b[0m \u001b[0mNone\u001b[0m\u001b[1;33m:\u001b[0m\u001b[1;33m\u001b[0m\u001b[0m\n\u001b[1;32m--> 340\u001b[1;33m                 \u001b[0mwaiter\u001b[0m\u001b[1;33m.\u001b[0m\u001b[0macquire\u001b[0m\u001b[1;33m(\u001b[0m\u001b[1;33m)\u001b[0m\u001b[1;33m\u001b[0m\u001b[0m\n\u001b[0m\u001b[0;32m    341\u001b[0m                 \u001b[1;32mif\u001b[0m \u001b[0m__debug__\u001b[0m\u001b[1;33m:\u001b[0m\u001b[1;33m\u001b[0m\u001b[0m\n\u001b[0;32m    342\u001b[0m                     \u001b[0mself\u001b[0m\u001b[1;33m.\u001b[0m\u001b[0m_note\u001b[0m\u001b[1;33m(\u001b[0m\u001b[1;34m\"%s.wait(): got it\"\u001b[0m\u001b[1;33m,\u001b[0m \u001b[0mself\u001b[0m\u001b[1;33m)\u001b[0m\u001b[1;33m\u001b[0m\u001b[0m\n",
      "\u001b[1;31mKeyboardInterrupt\u001b[0m: "
     ]
    }
   ],
   "source": [
    "for b in threadlist:\n",
    "    b.join()\n",
    "\n",
    "conn = MySQLdb.connect(host=\"localhost\", user=\"root\", passwd=\"1234\", db=\"stocks\")\n",
    "\n",
    "for key in gmap.keys():\n",
    "    print key, gmap[key]\n",
    "    x = conn.cursor()\n",
    "    query = \"INSERT INTO stocks.symbol (stock_names, last_price) VALUES (\"\n",
    "    query = query + \"'\" +key +\"',\" + gmap[key] + \")\"\n",
    "    x.execute(query)\n",
    "    rows = x.fetchall()\n",
    "    conn.commit()"
   ]
  },
  {
   "cell_type": "code",
   "execution_count": 50,
   "metadata": {
    "collapsed": false
   },
   "outputs": [
    {
     "ename": "ProgrammingError",
     "evalue": "(1146, u\"Table 'citibike.symbol' doesn't exist\")",
     "output_type": "error",
     "traceback": [
      "\u001b[1;31m---------------------------------------------------------------------------\u001b[0m",
      "\u001b[1;31mProgrammingError\u001b[0m                          Traceback (most recent call last)",
      "\u001b[1;32m<ipython-input-50-43d17fec1c04>\u001b[0m in \u001b[0;36m<module>\u001b[1;34m()\u001b[0m\n\u001b[0;32m      1\u001b[0m \u001b[1;31m# select the table\u001b[0m\u001b[1;33m\u001b[0m\u001b[1;33m\u001b[0m\u001b[0m\n\u001b[0;32m      2\u001b[0m \u001b[0mx\u001b[0m \u001b[1;33m=\u001b[0m \u001b[0mconn\u001b[0m\u001b[1;33m.\u001b[0m\u001b[0mcursor\u001b[0m\u001b[1;33m(\u001b[0m\u001b[1;33m)\u001b[0m\u001b[1;33m\u001b[0m\u001b[0m\n\u001b[1;32m----> 3\u001b[1;33m \u001b[0mx\u001b[0m\u001b[1;33m.\u001b[0m\u001b[0mexecute\u001b[0m\u001b[1;33m(\u001b[0m\u001b[1;34m\"select count(*) as num from symbol\"\u001b[0m\u001b[1;33m)\u001b[0m\u001b[1;33m\u001b[0m\u001b[0m\n\u001b[0m\u001b[0;32m      4\u001b[0m \u001b[0mrows\u001b[0m \u001b[1;33m=\u001b[0m \u001b[0mx\u001b[0m\u001b[1;33m.\u001b[0m\u001b[0mfetchall\u001b[0m\u001b[1;33m(\u001b[0m\u001b[1;33m)\u001b[0m\u001b[1;33m\u001b[0m\u001b[0m\n\u001b[0;32m      5\u001b[0m \u001b[1;32mprint\u001b[0m \u001b[0mrows\u001b[0m\u001b[1;33m\u001b[0m\u001b[0m\n",
      "\u001b[1;32mC:\\Anaconda2\\lib\\site-packages\\pymysql\\cursors.pyc\u001b[0m in \u001b[0;36mexecute\u001b[1;34m(self, query, args)\u001b[0m\n\u001b[0;32m    164\u001b[0m         \u001b[0mquery\u001b[0m \u001b[1;33m=\u001b[0m \u001b[0mself\u001b[0m\u001b[1;33m.\u001b[0m\u001b[0mmogrify\u001b[0m\u001b[1;33m(\u001b[0m\u001b[0mquery\u001b[0m\u001b[1;33m,\u001b[0m \u001b[0margs\u001b[0m\u001b[1;33m)\u001b[0m\u001b[1;33m\u001b[0m\u001b[0m\n\u001b[0;32m    165\u001b[0m \u001b[1;33m\u001b[0m\u001b[0m\n\u001b[1;32m--> 166\u001b[1;33m         \u001b[0mresult\u001b[0m \u001b[1;33m=\u001b[0m \u001b[0mself\u001b[0m\u001b[1;33m.\u001b[0m\u001b[0m_query\u001b[0m\u001b[1;33m(\u001b[0m\u001b[0mquery\u001b[0m\u001b[1;33m)\u001b[0m\u001b[1;33m\u001b[0m\u001b[0m\n\u001b[0m\u001b[0;32m    167\u001b[0m         \u001b[0mself\u001b[0m\u001b[1;33m.\u001b[0m\u001b[0m_executed\u001b[0m \u001b[1;33m=\u001b[0m \u001b[0mquery\u001b[0m\u001b[1;33m\u001b[0m\u001b[0m\n\u001b[0;32m    168\u001b[0m         \u001b[1;32mreturn\u001b[0m \u001b[0mresult\u001b[0m\u001b[1;33m\u001b[0m\u001b[0m\n",
      "\u001b[1;32mC:\\Anaconda2\\lib\\site-packages\\pymysql\\cursors.pyc\u001b[0m in \u001b[0;36m_query\u001b[1;34m(self, q)\u001b[0m\n\u001b[0;32m    320\u001b[0m         \u001b[0mconn\u001b[0m \u001b[1;33m=\u001b[0m \u001b[0mself\u001b[0m\u001b[1;33m.\u001b[0m\u001b[0m_get_db\u001b[0m\u001b[1;33m(\u001b[0m\u001b[1;33m)\u001b[0m\u001b[1;33m\u001b[0m\u001b[0m\n\u001b[0;32m    321\u001b[0m         \u001b[0mself\u001b[0m\u001b[1;33m.\u001b[0m\u001b[0m_last_executed\u001b[0m \u001b[1;33m=\u001b[0m \u001b[0mq\u001b[0m\u001b[1;33m\u001b[0m\u001b[0m\n\u001b[1;32m--> 322\u001b[1;33m         \u001b[0mconn\u001b[0m\u001b[1;33m.\u001b[0m\u001b[0mquery\u001b[0m\u001b[1;33m(\u001b[0m\u001b[0mq\u001b[0m\u001b[1;33m)\u001b[0m\u001b[1;33m\u001b[0m\u001b[0m\n\u001b[0m\u001b[0;32m    323\u001b[0m         \u001b[0mself\u001b[0m\u001b[1;33m.\u001b[0m\u001b[0m_do_get_result\u001b[0m\u001b[1;33m(\u001b[0m\u001b[1;33m)\u001b[0m\u001b[1;33m\u001b[0m\u001b[0m\n\u001b[0;32m    324\u001b[0m         \u001b[1;32mreturn\u001b[0m \u001b[0mself\u001b[0m\u001b[1;33m.\u001b[0m\u001b[0mrowcount\u001b[0m\u001b[1;33m\u001b[0m\u001b[0m\n",
      "\u001b[1;32mC:\\Anaconda2\\lib\\site-packages\\pymysql\\connections.pyc\u001b[0m in \u001b[0;36mquery\u001b[1;34m(self, sql, unbuffered)\u001b[0m\n\u001b[0;32m    833\u001b[0m                 \u001b[0msql\u001b[0m \u001b[1;33m=\u001b[0m \u001b[0msql\u001b[0m\u001b[1;33m.\u001b[0m\u001b[0mencode\u001b[0m\u001b[1;33m(\u001b[0m\u001b[0mself\u001b[0m\u001b[1;33m.\u001b[0m\u001b[0mencoding\u001b[0m\u001b[1;33m,\u001b[0m \u001b[1;34m'surrogateescape'\u001b[0m\u001b[1;33m)\u001b[0m\u001b[1;33m\u001b[0m\u001b[0m\n\u001b[0;32m    834\u001b[0m         \u001b[0mself\u001b[0m\u001b[1;33m.\u001b[0m\u001b[0m_execute_command\u001b[0m\u001b[1;33m(\u001b[0m\u001b[0mCOMMAND\u001b[0m\u001b[1;33m.\u001b[0m\u001b[0mCOM_QUERY\u001b[0m\u001b[1;33m,\u001b[0m \u001b[0msql\u001b[0m\u001b[1;33m)\u001b[0m\u001b[1;33m\u001b[0m\u001b[0m\n\u001b[1;32m--> 835\u001b[1;33m         \u001b[0mself\u001b[0m\u001b[1;33m.\u001b[0m\u001b[0m_affected_rows\u001b[0m \u001b[1;33m=\u001b[0m \u001b[0mself\u001b[0m\u001b[1;33m.\u001b[0m\u001b[0m_read_query_result\u001b[0m\u001b[1;33m(\u001b[0m\u001b[0munbuffered\u001b[0m\u001b[1;33m=\u001b[0m\u001b[0munbuffered\u001b[0m\u001b[1;33m)\u001b[0m\u001b[1;33m\u001b[0m\u001b[0m\n\u001b[0m\u001b[0;32m    836\u001b[0m         \u001b[1;32mreturn\u001b[0m \u001b[0mself\u001b[0m\u001b[1;33m.\u001b[0m\u001b[0m_affected_rows\u001b[0m\u001b[1;33m\u001b[0m\u001b[0m\n\u001b[0;32m    837\u001b[0m \u001b[1;33m\u001b[0m\u001b[0m\n",
      "\u001b[1;32mC:\\Anaconda2\\lib\\site-packages\\pymysql\\connections.pyc\u001b[0m in \u001b[0;36m_read_query_result\u001b[1;34m(self, unbuffered)\u001b[0m\n\u001b[0;32m   1017\u001b[0m         \u001b[1;32melse\u001b[0m\u001b[1;33m:\u001b[0m\u001b[1;33m\u001b[0m\u001b[0m\n\u001b[0;32m   1018\u001b[0m             \u001b[0mresult\u001b[0m \u001b[1;33m=\u001b[0m \u001b[0mMySQLResult\u001b[0m\u001b[1;33m(\u001b[0m\u001b[0mself\u001b[0m\u001b[1;33m)\u001b[0m\u001b[1;33m\u001b[0m\u001b[0m\n\u001b[1;32m-> 1019\u001b[1;33m             \u001b[0mresult\u001b[0m\u001b[1;33m.\u001b[0m\u001b[0mread\u001b[0m\u001b[1;33m(\u001b[0m\u001b[1;33m)\u001b[0m\u001b[1;33m\u001b[0m\u001b[0m\n\u001b[0m\u001b[0;32m   1020\u001b[0m         \u001b[0mself\u001b[0m\u001b[1;33m.\u001b[0m\u001b[0m_result\u001b[0m \u001b[1;33m=\u001b[0m \u001b[0mresult\u001b[0m\u001b[1;33m\u001b[0m\u001b[0m\n\u001b[0;32m   1021\u001b[0m         \u001b[1;32mif\u001b[0m \u001b[0mresult\u001b[0m\u001b[1;33m.\u001b[0m\u001b[0mserver_status\u001b[0m \u001b[1;32mis\u001b[0m \u001b[1;32mnot\u001b[0m \u001b[0mNone\u001b[0m\u001b[1;33m:\u001b[0m\u001b[1;33m\u001b[0m\u001b[0m\n",
      "\u001b[1;32mC:\\Anaconda2\\lib\\site-packages\\pymysql\\connections.pyc\u001b[0m in \u001b[0;36mread\u001b[1;34m(self)\u001b[0m\n\u001b[0;32m   1300\u001b[0m     \u001b[1;32mdef\u001b[0m \u001b[0mread\u001b[0m\u001b[1;33m(\u001b[0m\u001b[0mself\u001b[0m\u001b[1;33m)\u001b[0m\u001b[1;33m:\u001b[0m\u001b[1;33m\u001b[0m\u001b[0m\n\u001b[0;32m   1301\u001b[0m         \u001b[1;32mtry\u001b[0m\u001b[1;33m:\u001b[0m\u001b[1;33m\u001b[0m\u001b[0m\n\u001b[1;32m-> 1302\u001b[1;33m             \u001b[0mfirst_packet\u001b[0m \u001b[1;33m=\u001b[0m \u001b[0mself\u001b[0m\u001b[1;33m.\u001b[0m\u001b[0mconnection\u001b[0m\u001b[1;33m.\u001b[0m\u001b[0m_read_packet\u001b[0m\u001b[1;33m(\u001b[0m\u001b[1;33m)\u001b[0m\u001b[1;33m\u001b[0m\u001b[0m\n\u001b[0m\u001b[0;32m   1303\u001b[0m \u001b[1;33m\u001b[0m\u001b[0m\n\u001b[0;32m   1304\u001b[0m             \u001b[1;32mif\u001b[0m \u001b[0mfirst_packet\u001b[0m\u001b[1;33m.\u001b[0m\u001b[0mis_ok_packet\u001b[0m\u001b[1;33m(\u001b[0m\u001b[1;33m)\u001b[0m\u001b[1;33m:\u001b[0m\u001b[1;33m\u001b[0m\u001b[0m\n",
      "\u001b[1;32mC:\\Anaconda2\\lib\\site-packages\\pymysql\\connections.pyc\u001b[0m in \u001b[0;36m_read_packet\u001b[1;34m(self, packet_type)\u001b[0m\n\u001b[0;32m    979\u001b[0m \u001b[1;33m\u001b[0m\u001b[0m\n\u001b[0;32m    980\u001b[0m         \u001b[0mpacket\u001b[0m \u001b[1;33m=\u001b[0m \u001b[0mpacket_type\u001b[0m\u001b[1;33m(\u001b[0m\u001b[0mbuff\u001b[0m\u001b[1;33m,\u001b[0m \u001b[0mself\u001b[0m\u001b[1;33m.\u001b[0m\u001b[0mencoding\u001b[0m\u001b[1;33m)\u001b[0m\u001b[1;33m\u001b[0m\u001b[0m\n\u001b[1;32m--> 981\u001b[1;33m         \u001b[0mpacket\u001b[0m\u001b[1;33m.\u001b[0m\u001b[0mcheck_error\u001b[0m\u001b[1;33m(\u001b[0m\u001b[1;33m)\u001b[0m\u001b[1;33m\u001b[0m\u001b[0m\n\u001b[0m\u001b[0;32m    982\u001b[0m         \u001b[1;32mreturn\u001b[0m \u001b[0mpacket\u001b[0m\u001b[1;33m\u001b[0m\u001b[0m\n\u001b[0;32m    983\u001b[0m \u001b[1;33m\u001b[0m\u001b[0m\n",
      "\u001b[1;32mC:\\Anaconda2\\lib\\site-packages\\pymysql\\connections.pyc\u001b[0m in \u001b[0;36mcheck_error\u001b[1;34m(self)\u001b[0m\n\u001b[0;32m    391\u001b[0m             \u001b[0merrno\u001b[0m \u001b[1;33m=\u001b[0m \u001b[0mself\u001b[0m\u001b[1;33m.\u001b[0m\u001b[0mread_uint16\u001b[0m\u001b[1;33m(\u001b[0m\u001b[1;33m)\u001b[0m\u001b[1;33m\u001b[0m\u001b[0m\n\u001b[0;32m    392\u001b[0m             \u001b[1;32mif\u001b[0m \u001b[0mDEBUG\u001b[0m\u001b[1;33m:\u001b[0m \u001b[1;32mprint\u001b[0m\u001b[1;33m(\u001b[0m\u001b[1;34m\"errno =\"\u001b[0m\u001b[1;33m,\u001b[0m \u001b[0merrno\u001b[0m\u001b[1;33m)\u001b[0m\u001b[1;33m\u001b[0m\u001b[0m\n\u001b[1;32m--> 393\u001b[1;33m             \u001b[0merr\u001b[0m\u001b[1;33m.\u001b[0m\u001b[0mraise_mysql_exception\u001b[0m\u001b[1;33m(\u001b[0m\u001b[0mself\u001b[0m\u001b[1;33m.\u001b[0m\u001b[0m_data\u001b[0m\u001b[1;33m)\u001b[0m\u001b[1;33m\u001b[0m\u001b[0m\n\u001b[0m\u001b[0;32m    394\u001b[0m \u001b[1;33m\u001b[0m\u001b[0m\n\u001b[0;32m    395\u001b[0m     \u001b[1;32mdef\u001b[0m \u001b[0mdump\u001b[0m\u001b[1;33m(\u001b[0m\u001b[0mself\u001b[0m\u001b[1;33m)\u001b[0m\u001b[1;33m:\u001b[0m\u001b[1;33m\u001b[0m\u001b[0m\n",
      "\u001b[1;32mC:\\Anaconda2\\lib\\site-packages\\pymysql\\err.pyc\u001b[0m in \u001b[0;36mraise_mysql_exception\u001b[1;34m(data)\u001b[0m\n\u001b[0;32m    105\u001b[0m         \u001b[0merrval\u001b[0m \u001b[1;33m=\u001b[0m \u001b[0mdata\u001b[0m\u001b[1;33m[\u001b[0m\u001b[1;36m3\u001b[0m\u001b[1;33m:\u001b[0m\u001b[1;33m]\u001b[0m\u001b[1;33m.\u001b[0m\u001b[0mdecode\u001b[0m\u001b[1;33m(\u001b[0m\u001b[1;34m'utf-8'\u001b[0m\u001b[1;33m,\u001b[0m \u001b[1;34m'replace'\u001b[0m\u001b[1;33m)\u001b[0m\u001b[1;33m\u001b[0m\u001b[0m\n\u001b[0;32m    106\u001b[0m     \u001b[0merrorclass\u001b[0m \u001b[1;33m=\u001b[0m \u001b[0merror_map\u001b[0m\u001b[1;33m.\u001b[0m\u001b[0mget\u001b[0m\u001b[1;33m(\u001b[0m\u001b[0merrno\u001b[0m\u001b[1;33m,\u001b[0m \u001b[0mInternalError\u001b[0m\u001b[1;33m)\u001b[0m\u001b[1;33m\u001b[0m\u001b[0m\n\u001b[1;32m--> 107\u001b[1;33m     \u001b[1;32mraise\u001b[0m \u001b[0merrorclass\u001b[0m\u001b[1;33m(\u001b[0m\u001b[0merrno\u001b[0m\u001b[1;33m,\u001b[0m \u001b[0merrval\u001b[0m\u001b[1;33m)\u001b[0m\u001b[1;33m\u001b[0m\u001b[0m\n\u001b[0m",
      "\u001b[1;31mProgrammingError\u001b[0m: (1146, u\"Table 'citibike.symbol' doesn't exist\")"
     ]
    }
   ],
   "source": [
    "# select the table\n",
    "x = conn.cursor()\n",
    "x.execute(\"select count(*) as num from symbol\")\n",
    "rows = x.fetchall()\n",
    "print rows"
   ]
  }
 ],
 "metadata": {
  "kernelspec": {
   "display_name": "Python 2",
   "language": "python",
   "name": "python2"
  },
  "language_info": {
   "codemirror_mode": {
    "name": "ipython",
    "version": 2
   },
   "file_extension": ".py",
   "mimetype": "text/x-python",
   "name": "python",
   "nbconvert_exporter": "python",
   "pygments_lexer": "ipython2",
   "version": "2.7.11"
  }
 },
 "nbformat": 4,
 "nbformat_minor": 0
}
